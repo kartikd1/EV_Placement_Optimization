{
 "metadata": {
  "language_info": {
   "codemirror_mode": {
    "name": "ipython",
    "version": 3
   },
   "file_extension": ".py",
   "mimetype": "text/x-python",
   "name": "python",
   "nbconvert_exporter": "python",
   "pygments_lexer": "ipython3",
   "version": "3.7.4-final"
  },
  "orig_nbformat": 2,
  "kernelspec": {
   "name": "Python 3.7.4 64-bit (conda)",
   "display_name": "Python 3.7.4 64-bit (conda)",
   "metadata": {
    "interpreter": {
     "hash": "ec724a384a8a1e6d6f12b13c482fc0bc59a3a66b5056119197f9feebee17befe"
    }
   }
  }
 },
 "nbformat": 4,
 "nbformat_minor": 2,
 "cells": [
  {
   "cell_type": "code",
   "execution_count": 1,
   "metadata": {},
   "outputs": [],
   "source": [
    "import pandas as pd\n",
    "import sklearn as sk\n",
    "import keplergl"
   ]
  },
  {
   "cell_type": "code",
   "execution_count": 55,
   "metadata": {},
   "outputs": [],
   "source": [
    "data = pd.read_csv(\"C:\\\\Users\\\\Yusuf\\\\Desktop\\\\GA-Tech\\\\CSE6242\\\\Project\\\\Kotomatic\\\\Kotomatic\\\\viz_df.csv\")"
   ]
  },
  {
   "cell_type": "code",
   "execution_count": 2,
   "metadata": {},
   "outputs": [],
   "source": [
    "data = pd.read_csv(\"viz_df2.csv\")"
   ]
  },
  {
   "cell_type": "code",
   "execution_count": 69,
   "metadata": {},
   "outputs": [
    {
     "output_type": "execute_result",
     "data": {
      "text/plain": [
       "   Unnamed: 0  Seq        Lat        Lon                               vin\n",
       "0           0   38  33.124920 -96.707811  0001556fa4a96efdfb0e6f9c079d2fa5\n",
       "1           1   40  33.105293 -96.684018  0001556fa4a96efdfb0e6f9c079d2fa5\n",
       "2           2   41  33.112107 -96.680864  0001556fa4a96efdfb0e6f9c079d2fa5\n",
       "3           3   42  33.141374 -96.677020  0001556fa4a96efdfb0e6f9c079d2fa5\n",
       "4           4   44  33.115048 -96.698311  0001556fa4a96efdfb0e6f9c079d2fa5"
      ],
      "text/html": "<div>\n<style scoped>\n    .dataframe tbody tr th:only-of-type {\n        vertical-align: middle;\n    }\n\n    .dataframe tbody tr th {\n        vertical-align: top;\n    }\n\n    .dataframe thead th {\n        text-align: right;\n    }\n</style>\n<table border=\"1\" class=\"dataframe\">\n  <thead>\n    <tr style=\"text-align: right;\">\n      <th></th>\n      <th>Unnamed: 0</th>\n      <th>Seq</th>\n      <th>Lat</th>\n      <th>Lon</th>\n      <th>vin</th>\n    </tr>\n  </thead>\n  <tbody>\n    <tr>\n      <th>0</th>\n      <td>0</td>\n      <td>38</td>\n      <td>33.124920</td>\n      <td>-96.707811</td>\n      <td>0001556fa4a96efdfb0e6f9c079d2fa5</td>\n    </tr>\n    <tr>\n      <th>1</th>\n      <td>1</td>\n      <td>40</td>\n      <td>33.105293</td>\n      <td>-96.684018</td>\n      <td>0001556fa4a96efdfb0e6f9c079d2fa5</td>\n    </tr>\n    <tr>\n      <th>2</th>\n      <td>2</td>\n      <td>41</td>\n      <td>33.112107</td>\n      <td>-96.680864</td>\n      <td>0001556fa4a96efdfb0e6f9c079d2fa5</td>\n    </tr>\n    <tr>\n      <th>3</th>\n      <td>3</td>\n      <td>42</td>\n      <td>33.141374</td>\n      <td>-96.677020</td>\n      <td>0001556fa4a96efdfb0e6f9c079d2fa5</td>\n    </tr>\n    <tr>\n      <th>4</th>\n      <td>4</td>\n      <td>44</td>\n      <td>33.115048</td>\n      <td>-96.698311</td>\n      <td>0001556fa4a96efdfb0e6f9c079d2fa5</td>\n    </tr>\n  </tbody>\n</table>\n</div>"
     },
     "metadata": {},
     "execution_count": 69
    }
   ],
   "source": [
    "data.head(5)"
   ]
  },
  {
   "cell_type": "code",
   "execution_count": 3,
   "metadata": {},
   "outputs": [],
   "source": [
    "tl = [40.250580, -83.247525]\n",
    "tr = [40.251652, -82.671814]\n",
    "bl = [39.821981, -83.352838]\n",
    "br = [39.804789, -82.633243]\n"
   ]
  },
  {
   "cell_type": "code",
   "execution_count": 4,
   "metadata": {},
   "outputs": [],
   "source": [
    "data_ws = data[[\"Lat\",\"Lon\"]]\n",
    "data_ws = data_ws[(data_ws[\"Lat\"] < tl[0]) & (data_ws[\"Lat\"] > bl[0])]\n",
    "data_ws = data_ws[(data_ws[\"Lon\"] > tl[1]) & (data_ws[\"Lon\"] < tr[1])]"
   ]
  },
  {
   "cell_type": "code",
   "execution_count": 5,
   "metadata": {},
   "outputs": [
    {
     "output_type": "execute_result",
     "data": {
      "text/plain": [
       "(10897, 2)"
      ]
     },
     "metadata": {},
     "execution_count": 5
    }
   ],
   "source": [
    "data_ws.shape"
   ]
  },
  {
   "cell_type": "code",
   "execution_count": 6,
   "metadata": {},
   "outputs": [],
   "source": [
    "from sklearn.cluster import DBSCAN\n",
    "import sklearn.utils"
   ]
  },
  {
   "cell_type": "code",
   "execution_count": 21,
   "metadata": {},
   "outputs": [],
   "source": [
    "db = DBSCAN(eps=0.0011, min_samples=15)\n",
    "#db = DBSCAN(eps=0.05, min_samples = 5)\n",
    "mod = db.fit(data_ws)"
   ]
  },
  {
   "cell_type": "code",
   "execution_count": 22,
   "metadata": {},
   "outputs": [],
   "source": [
    "data_ws[\"cluster_labels\"] = db.labels_"
   ]
  },
  {
   "cell_type": "code",
   "execution_count": 23,
   "metadata": {},
   "outputs": [
    {
     "output_type": "execute_result",
     "data": {
      "text/plain": [
       "83"
      ]
     },
     "metadata": {},
     "execution_count": 23
    }
   ],
   "source": [
    "len(set(db.labels_))"
   ]
  },
  {
   "cell_type": "code",
   "execution_count": 83,
   "metadata": {},
   "outputs": [
    {
     "output_type": "execute_result",
     "data": {
      "text/plain": [
       "           Lat        Lon  cluster_labels\n",
       "345  40.099993 -83.166000              -1\n",
       "346  40.148652 -82.903962               0\n",
       "347  40.100288 -83.166038              -1\n",
       "348  40.148662 -82.903963               0\n",
       "349  40.100182 -83.166707              -1\n",
       "350  40.148659 -82.903959               0\n",
       "351  40.058374 -82.915339              -1\n",
       "352  39.922737 -82.835890              -1\n",
       "353  40.148641 -82.903976               0\n",
       "354  40.127683 -82.931680              -1"
      ],
      "text/html": "<div>\n<style scoped>\n    .dataframe tbody tr th:only-of-type {\n        vertical-align: middle;\n    }\n\n    .dataframe tbody tr th {\n        vertical-align: top;\n    }\n\n    .dataframe thead th {\n        text-align: right;\n    }\n</style>\n<table border=\"1\" class=\"dataframe\">\n  <thead>\n    <tr style=\"text-align: right;\">\n      <th></th>\n      <th>Lat</th>\n      <th>Lon</th>\n      <th>cluster_labels</th>\n    </tr>\n  </thead>\n  <tbody>\n    <tr>\n      <th>345</th>\n      <td>40.099993</td>\n      <td>-83.166000</td>\n      <td>-1</td>\n    </tr>\n    <tr>\n      <th>346</th>\n      <td>40.148652</td>\n      <td>-82.903962</td>\n      <td>0</td>\n    </tr>\n    <tr>\n      <th>347</th>\n      <td>40.100288</td>\n      <td>-83.166038</td>\n      <td>-1</td>\n    </tr>\n    <tr>\n      <th>348</th>\n      <td>40.148662</td>\n      <td>-82.903963</td>\n      <td>0</td>\n    </tr>\n    <tr>\n      <th>349</th>\n      <td>40.100182</td>\n      <td>-83.166707</td>\n      <td>-1</td>\n    </tr>\n    <tr>\n      <th>350</th>\n      <td>40.148659</td>\n      <td>-82.903959</td>\n      <td>0</td>\n    </tr>\n    <tr>\n      <th>351</th>\n      <td>40.058374</td>\n      <td>-82.915339</td>\n      <td>-1</td>\n    </tr>\n    <tr>\n      <th>352</th>\n      <td>39.922737</td>\n      <td>-82.835890</td>\n      <td>-1</td>\n    </tr>\n    <tr>\n      <th>353</th>\n      <td>40.148641</td>\n      <td>-82.903976</td>\n      <td>0</td>\n    </tr>\n    <tr>\n      <th>354</th>\n      <td>40.127683</td>\n      <td>-82.931680</td>\n      <td>-1</td>\n    </tr>\n  </tbody>\n</table>\n</div>"
     },
     "metadata": {},
     "execution_count": 83
    }
   ],
   "source": [
    "data_ws.head(10)"
   ]
  },
  {
   "cell_type": "code",
   "execution_count": 24,
   "metadata": {},
   "outputs": [
    {
     "output_type": "stream",
     "name": "stdout",
     "text": [
      "User Guide: https://docs.kepler.gl/docs/keplergl-jupyter\n"
     ]
    }
   ],
   "source": [
    "kepler_map = keplergl.KeplerGl(height=500)\n",
    "kepler_map.add_data(data=data_ws, name=\"koto\")\n"
   ]
  },
  {
   "cell_type": "code",
   "execution_count": 25,
   "metadata": {},
   "outputs": [
    {
     "output_type": "display_data",
     "data": {
      "text/plain": "KeplerGl(data={'koto': {'index': [345, 346, 347, 348, 349, 350, 351, 352, 353, 354, 355, 356, 357, 358, 359, 3…",
      "application/vnd.jupyter.widget-view+json": {
       "version_major": 2,
       "version_minor": 0,
       "model_id": "2c0caa8b4252443f8b05e10c7e958631"
      }
     },
     "metadata": {}
    }
   ],
   "source": [
    "kepler_map"
   ]
  },
  {
   "cell_type": "code",
   "execution_count": 2,
   "metadata": {},
   "outputs": [],
   "source": [
    "import requests\n",
    "import json"
   ]
  },
  {
   "cell_type": "code",
   "execution_count": 31,
   "metadata": {},
   "outputs": [],
   "source": [
    "with open(\"C:\\\\Users\\\\Yusuf\\\\Desktop\\\\GA-Tech\\\\CSE6242\\\\Project\\\\Kotomatic\\\\Kotomatic\\\\plugshare.txt\",'r') as f:\n",
    "    plugshare_obj = f.read()"
   ]
  },
  {
   "cell_type": "code",
   "execution_count": 32,
   "metadata": {},
   "outputs": [],
   "source": [
    "json_thing = json.loads(plugshare_obj)"
   ]
  },
  {
   "cell_type": "code",
   "execution_count": 94,
   "metadata": {},
   "outputs": [
    {
     "output_type": "stream",
     "name": "stdout",
     "text": [
      "{'score': 10.0, 'address': '90 E Wilson Bridge Rd, Worthington, OH 43085', 'access': 1, 'latitude': 40.109322, 'name': 'AAA', 'icon': 'https://assets.plugshare.com/icons/Y.png', 'id': 85488, 'stations': [{'network_id': 19, 'outlets': [{'kilowatts': 50.0, 'connector': 3, 'id': 710657, 'power': 0}, {'kilowatts': 50.0, 'connector': 13, 'id': 710656, 'power': 0}], 'id': 127495, 'promos': [{'id': 1}, {'id': 2}]}], 'promos': [{'id': 1}], 'url': 'http://api.plugshare.com/view/location/85488', 'longitude': -83.015686, 'icon_type': 'Y'}\n"
     ]
    }
   ],
   "source": [
    "for entry in json_thing:\n",
    "    if entry['name'] == \"AAA\":\n",
    "        print(entry)"
   ]
  },
  {
   "cell_type": "code",
   "execution_count": 95,
   "metadata": {},
   "outputs": [
    {
     "output_type": "stream",
     "name": "stdout",
     "text": [
      "{'score': 10.0, 'address': '40 Hutchinson Ave, Columbus, OH  43235, United States', 'access': 1, 'latitude': 40.114077, 'name': 'Lincoln Pointe', 'icon': 'https://assets.plugshare.com/icons/G.png', 'id': 206255, 'stations': [{'network_id': 1, 'outlets': [{'kilowatts': None, 'connector': 2, 'id': 813023, 'power': 0}, {'kilowatts': None, 'connector': 2, 'id': 813022, 'power': 0}], 'id': 439352, 'promos': [{'id': 2}]}], 'url': 'http://api.plugshare.com/view/location/206255', 'longitude': -83.013995, 'icon_type': 'G'}\n"
     ]
    }
   ],
   "source": [
    "for entry in json_thing:\n",
    "    if entry['name'] == \"Lincoln Pointe\":\n",
    "        print(entry)"
   ]
  },
  {
   "cell_type": "code",
   "execution_count": 33,
   "metadata": {},
   "outputs": [],
   "source": [
    "empty_dict = {}\n",
    "for entry in json_thing:\n",
    "    empty_dict[entry['name']] = [entry['latitude'],entry['longitude']]"
   ]
  },
  {
   "cell_type": "code",
   "execution_count": 34,
   "metadata": {},
   "outputs": [],
   "source": [
    "my_df = pd.DataFrame(empty_dict).transpose().reset_index().rename(columns = {'index':'name',0:'Lat',1:'Lon'})"
   ]
  },
  {
   "cell_type": "code",
   "execution_count": 35,
   "metadata": {},
   "outputs": [
    {
     "output_type": "execute_result",
     "data": {
      "text/plain": [
       "                          name        Lat        Lon\n",
       "0      Grove City Supercharger  39.877385 -83.063379\n",
       "1   Doubletree by Hilton Hotel  40.059949 -82.401124\n",
       "2  Village of Somerset Offices  39.807450 -82.299962\n",
       "3          Dublin Supercharger  40.093177 -83.092304\n",
       "4  Dave Kehl Chevy Dealership   40.072975 -83.554714"
      ],
      "text/html": "<div>\n<style scoped>\n    .dataframe tbody tr th:only-of-type {\n        vertical-align: middle;\n    }\n\n    .dataframe tbody tr th {\n        vertical-align: top;\n    }\n\n    .dataframe thead th {\n        text-align: right;\n    }\n</style>\n<table border=\"1\" class=\"dataframe\">\n  <thead>\n    <tr style=\"text-align: right;\">\n      <th></th>\n      <th>name</th>\n      <th>Lat</th>\n      <th>Lon</th>\n    </tr>\n  </thead>\n  <tbody>\n    <tr>\n      <th>0</th>\n      <td>Grove City Supercharger</td>\n      <td>39.877385</td>\n      <td>-83.063379</td>\n    </tr>\n    <tr>\n      <th>1</th>\n      <td>Doubletree by Hilton Hotel</td>\n      <td>40.059949</td>\n      <td>-82.401124</td>\n    </tr>\n    <tr>\n      <th>2</th>\n      <td>Village of Somerset Offices</td>\n      <td>39.807450</td>\n      <td>-82.299962</td>\n    </tr>\n    <tr>\n      <th>3</th>\n      <td>Dublin Supercharger</td>\n      <td>40.093177</td>\n      <td>-83.092304</td>\n    </tr>\n    <tr>\n      <th>4</th>\n      <td>Dave Kehl Chevy Dealership</td>\n      <td>40.072975</td>\n      <td>-83.554714</td>\n    </tr>\n  </tbody>\n</table>\n</div>"
     },
     "metadata": {},
     "execution_count": 35
    }
   ],
   "source": [
    "my_df.head()"
   ]
  },
  {
   "cell_type": "code",
   "execution_count": 86,
   "metadata": {},
   "outputs": [
    {
     "output_type": "stream",
     "name": "stdout",
     "text": [
      "User Guide: https://docs.kepler.gl/docs/keplergl-jupyter\n"
     ]
    }
   ],
   "source": [
    "kepler_map_2 = keplergl.KeplerGl(height=500)\n",
    "kepler_map_2.add_data(data=my_df, name=\"plugshare\")\n",
    "kepler_map_2.add_data(data=data_ws,name=\"koto\")"
   ]
  },
  {
   "cell_type": "code",
   "execution_count": 99,
   "metadata": {},
   "outputs": [
    {
     "output_type": "display_data",
     "data": {
      "text/plain": "KeplerGl(config={'version': 'v1', 'config': {'visState': {'filters': [{'dataId': ['koto'], 'id': 'ru0p7v9z7', …",
      "application/vnd.jupyter.widget-view+json": {
       "version_major": 2,
       "version_minor": 0,
       "model_id": "731833d3e17d46c09a58ac3487c2e18c"
      }
     },
     "metadata": {}
    }
   ],
   "source": [
    "kepler_map_2"
   ]
  },
  {
   "cell_type": "code",
   "execution_count": 104,
   "metadata": {},
   "outputs": [
    {
     "output_type": "stream",
     "name": "stdout",
     "text": [
      "Map saved to test.html!\n"
     ]
    }
   ],
   "source": [
    "kepler_map_2.save_to_html(data={\"koto\":data_ws,\"plugshare\":my_df},file_name=\"test.html\")"
   ]
  },
  {
   "cell_type": "code",
   "execution_count": 105,
   "metadata": {},
   "outputs": [],
   "source": [
    "my_df.to_csv(\"plugshare.csv\")"
   ]
  },
  {
   "cell_type": "code",
   "execution_count": 106,
   "metadata": {},
   "outputs": [],
   "source": [
    "data_ws.to_csv(\"data_ws.csv\")"
   ]
  }
 ]
}