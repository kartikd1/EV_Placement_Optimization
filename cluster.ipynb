{
 "metadata": {
  "language_info": {
   "codemirror_mode": {
    "name": "ipython",
    "version": 3
   },
   "file_extension": ".py",
   "mimetype": "text/x-python",
   "name": "python",
   "nbconvert_exporter": "python",
   "pygments_lexer": "ipython3",
   "version": "3.7.4-final"
  },
  "orig_nbformat": 2,
  "kernelspec": {
   "name": "Python 3.7.4 64-bit ('base': conda)",
   "display_name": "Python 3.7.4 64-bit ('base': conda)",
   "metadata": {
    "interpreter": {
     "hash": "ec724a384a8a1e6d6f12b13c482fc0bc59a3a66b5056119197f9feebee17befe"
    }
   }
  }
 },
 "nbformat": 4,
 "nbformat_minor": 2,
 "cells": [
  {
   "cell_type": "code",
   "execution_count": 1,
   "metadata": {},
   "outputs": [],
   "source": [
    "import pandas as pd\n",
    "import sklearn as sk\n",
    "import keplergl"
   ]
  },
  {
   "cell_type": "code",
   "execution_count": 32,
   "metadata": {},
   "outputs": [],
   "source": [
    "data = pd.read_csv(\"viz_df.csv\")"
   ]
  },
  {
   "cell_type": "code",
   "execution_count": 3,
   "metadata": {},
   "outputs": [
    {
     "output_type": "execute_result",
     "data": {
      "text/plain": [
       "   Unnamed: 0  Seq        Lat        Lon                               vin\n",
       "0           0   38  33.124920 -96.707811  0001556fa4a96efdfb0e6f9c079d2fa5\n",
       "1           1   40  33.105293 -96.684018  0001556fa4a96efdfb0e6f9c079d2fa5\n",
       "2           2   41  33.112107 -96.680864  0001556fa4a96efdfb0e6f9c079d2fa5\n",
       "3           3   42  33.141374 -96.677020  0001556fa4a96efdfb0e6f9c079d2fa5\n",
       "4           4   44  33.115048 -96.698311  0001556fa4a96efdfb0e6f9c079d2fa5"
      ],
      "text/html": "<div>\n<style scoped>\n    .dataframe tbody tr th:only-of-type {\n        vertical-align: middle;\n    }\n\n    .dataframe tbody tr th {\n        vertical-align: top;\n    }\n\n    .dataframe thead th {\n        text-align: right;\n    }\n</style>\n<table border=\"1\" class=\"dataframe\">\n  <thead>\n    <tr style=\"text-align: right;\">\n      <th></th>\n      <th>Unnamed: 0</th>\n      <th>Seq</th>\n      <th>Lat</th>\n      <th>Lon</th>\n      <th>vin</th>\n    </tr>\n  </thead>\n  <tbody>\n    <tr>\n      <th>0</th>\n      <td>0</td>\n      <td>38</td>\n      <td>33.124920</td>\n      <td>-96.707811</td>\n      <td>0001556fa4a96efdfb0e6f9c079d2fa5</td>\n    </tr>\n    <tr>\n      <th>1</th>\n      <td>1</td>\n      <td>40</td>\n      <td>33.105293</td>\n      <td>-96.684018</td>\n      <td>0001556fa4a96efdfb0e6f9c079d2fa5</td>\n    </tr>\n    <tr>\n      <th>2</th>\n      <td>2</td>\n      <td>41</td>\n      <td>33.112107</td>\n      <td>-96.680864</td>\n      <td>0001556fa4a96efdfb0e6f9c079d2fa5</td>\n    </tr>\n    <tr>\n      <th>3</th>\n      <td>3</td>\n      <td>42</td>\n      <td>33.141374</td>\n      <td>-96.677020</td>\n      <td>0001556fa4a96efdfb0e6f9c079d2fa5</td>\n    </tr>\n    <tr>\n      <th>4</th>\n      <td>4</td>\n      <td>44</td>\n      <td>33.115048</td>\n      <td>-96.698311</td>\n      <td>0001556fa4a96efdfb0e6f9c079d2fa5</td>\n    </tr>\n  </tbody>\n</table>\n</div>"
     },
     "metadata": {},
     "execution_count": 3
    }
   ],
   "source": [
    "data.head(5)"
   ]
  },
  {
   "cell_type": "code",
   "execution_count": 4,
   "metadata": {},
   "outputs": [],
   "source": [
    "tl = [40.250580, -83.247525]\n",
    "tr = [40.251652, -82.671814]\n",
    "bl = [39.821981, -83.352838]\n",
    "br = [39.804789, -82.633243]\n"
   ]
  },
  {
   "cell_type": "code",
   "execution_count": 5,
   "metadata": {},
   "outputs": [],
   "source": [
    "data_ws = data[[\"Lat\",\"Lon\"]]\n",
    "data_ws = data_ws[(data_ws[\"Lat\"] < tl[0]) & (data_ws[\"Lat\"] > bl[0])]\n",
    "data_ws = data_ws[(data_ws[\"Lon\"] > tl[1]) & (data_ws[\"Lon\"] < tr[1])]"
   ]
  },
  {
   "cell_type": "code",
   "execution_count": 6,
   "metadata": {},
   "outputs": [
    {
     "output_type": "execute_result",
     "data": {
      "text/plain": [
       "(4836, 2)"
      ]
     },
     "metadata": {},
     "execution_count": 6
    }
   ],
   "source": [
    "data_ws.shape"
   ]
  },
  {
   "cell_type": "code",
   "execution_count": 7,
   "metadata": {},
   "outputs": [],
   "source": [
    "from sklearn.cluster import DBSCAN\n",
    "import sklearn.utils"
   ]
  },
  {
   "cell_type": "code",
   "execution_count": 25,
   "metadata": {},
   "outputs": [],
   "source": [
    "db = DBSCAN(eps=0.01, min_samples=10)\n",
    "#db = DBSCAN(eps=0.05, min_samples = 5)\n",
    "mod = db.fit(data_ws)"
   ]
  },
  {
   "cell_type": "code",
   "execution_count": 27,
   "metadata": {},
   "outputs": [],
   "source": [
    "data_ws[\"cluster_labels\"] = db.labels_"
   ]
  },
  {
   "cell_type": "code",
   "execution_count": 28,
   "metadata": {},
   "outputs": [
    {
     "output_type": "execute_result",
     "data": {
      "text/plain": [
       "44"
      ]
     },
     "metadata": {},
     "execution_count": 28
    }
   ],
   "source": [
    "len(set(db.labels_))"
   ]
  },
  {
   "cell_type": "code",
   "execution_count": 31,
   "metadata": {},
   "outputs": [
    {
     "output_type": "execute_result",
     "data": {
      "text/plain": [
       "           Lat        Lon  cluster_labels\n",
       "345  40.099993 -83.166000               0\n",
       "346  40.148652 -82.903962               1\n",
       "347  40.100288 -83.166038               0\n",
       "348  40.148662 -82.903963               1\n",
       "349  40.100182 -83.166707               0\n",
       "350  40.148659 -82.903959               1\n",
       "351  40.058374 -82.915339               2\n",
       "352  39.922737 -82.835890               3\n",
       "353  40.148641 -82.903976               1\n",
       "354  40.127683 -82.931680               4"
      ],
      "text/html": "<div>\n<style scoped>\n    .dataframe tbody tr th:only-of-type {\n        vertical-align: middle;\n    }\n\n    .dataframe tbody tr th {\n        vertical-align: top;\n    }\n\n    .dataframe thead th {\n        text-align: right;\n    }\n</style>\n<table border=\"1\" class=\"dataframe\">\n  <thead>\n    <tr style=\"text-align: right;\">\n      <th></th>\n      <th>Lat</th>\n      <th>Lon</th>\n      <th>cluster_labels</th>\n    </tr>\n  </thead>\n  <tbody>\n    <tr>\n      <th>345</th>\n      <td>40.099993</td>\n      <td>-83.166000</td>\n      <td>0</td>\n    </tr>\n    <tr>\n      <th>346</th>\n      <td>40.148652</td>\n      <td>-82.903962</td>\n      <td>1</td>\n    </tr>\n    <tr>\n      <th>347</th>\n      <td>40.100288</td>\n      <td>-83.166038</td>\n      <td>0</td>\n    </tr>\n    <tr>\n      <th>348</th>\n      <td>40.148662</td>\n      <td>-82.903963</td>\n      <td>1</td>\n    </tr>\n    <tr>\n      <th>349</th>\n      <td>40.100182</td>\n      <td>-83.166707</td>\n      <td>0</td>\n    </tr>\n    <tr>\n      <th>350</th>\n      <td>40.148659</td>\n      <td>-82.903959</td>\n      <td>1</td>\n    </tr>\n    <tr>\n      <th>351</th>\n      <td>40.058374</td>\n      <td>-82.915339</td>\n      <td>2</td>\n    </tr>\n    <tr>\n      <th>352</th>\n      <td>39.922737</td>\n      <td>-82.835890</td>\n      <td>3</td>\n    </tr>\n    <tr>\n      <th>353</th>\n      <td>40.148641</td>\n      <td>-82.903976</td>\n      <td>1</td>\n    </tr>\n    <tr>\n      <th>354</th>\n      <td>40.127683</td>\n      <td>-82.931680</td>\n      <td>4</td>\n    </tr>\n  </tbody>\n</table>\n</div>"
     },
     "metadata": {},
     "execution_count": 31
    }
   ],
   "source": [
    "data_ws.head(10)"
   ]
  },
  {
   "cell_type": "code",
   "execution_count": 29,
   "metadata": {},
   "outputs": [
    {
     "output_type": "stream",
     "name": "stdout",
     "text": [
      "User Guide: https://docs.kepler.gl/docs/keplergl-jupyter\n"
     ]
    }
   ],
   "source": [
    "kepler_map = keplergl.KeplerGl(height=500)\n",
    "kepler_map.add_data(data=data_ws, name=\"koto\")\n"
   ]
  },
  {
   "cell_type": "code",
   "execution_count": 30,
   "metadata": {},
   "outputs": [
    {
     "output_type": "display_data",
     "data": {
      "text/plain": "KeplerGl(data={'koto': {'index': [345, 346, 347, 348, 349, 350, 351, 352, 353, 354, 355, 356, 357, 358, 359, 3…",
      "application/vnd.jupyter.widget-view+json": {
       "version_major": 2,
       "version_minor": 0,
       "model_id": "5794e409b57f4ad687b7d7f6ac0e782e"
      }
     },
     "metadata": {}
    }
   ],
   "source": [
    "kepler_map"
   ]
  },
  {
   "cell_type": "code",
   "execution_count": null,
   "metadata": {},
   "outputs": [],
   "source": [
    "{\n",
    "  \"version\": \"v1\",\n",
    "  \"config\": {\n",
    "    \"visState\": {\n",
    "      \"filters\": [],\n",
    "      \"layers\": [\n",
    "        {\n",
    "          \"id\": \"fnmswnh\",\n",
    "          \"type\": \"point\",\n",
    "          \"config\": {\n",
    "            \"dataId\": \"koto\",\n",
    "            \"label\": \"Point\",\n",
    "            \"color\": [\n",
    "              18,\n",
    "              147,\n",
    "              154\n",
    "            ],\n",
    "            \"columns\": {\n",
    "              \"lat\": \"Lat\",\n",
    "              \"lng\": \"Lon\",\n",
    "              \"altitude\": None\n",
    "            },\n",
    "            \"isVisible\": True,\n",
    "            \"visConfig\": {\n",
    "              \"radius\": 10,\n",
    "              \"fixedRadius\": False,\n",
    "              \"opacity\": 0.8,\n",
    "              \"outline\": False,\n",
    "              \"thickness\": 2,\n",
    "              \"strokeColor\": None,\n",
    "              \"colorRange\": {\n",
    "                \"name\": \"Global Warming\",\n",
    "                \"type\": \"sequential\",\n",
    "                \"category\": \"Uber\",\n",
    "                \"colors\": [\n",
    "                  \"#5A1846\",\n",
    "                  \"#900C3F\",\n",
    "                  \"#C70039\",\n",
    "                  \"#E3611C\",\n",
    "                  \"#F1920E\",\n",
    "                  \"#FFC300\"\n",
    "                ]\n",
    "              },\n",
    "              \"strokeColorRange\": {\n",
    "                \"name\": \"Global Warming\",\n",
    "                \"type\": \"sequential\",\n",
    "                \"category\": \"Uber\",\n",
    "                \"colors\": [\n",
    "                  \"#5A1846\",\n",
    "                  \"#900C3F\",\n",
    "                  \"#C70039\",\n",
    "                  \"#E3611C\",\n",
    "                  \"#F1920E\",\n",
    "                  \"#FFC300\"\n",
    "                ]\n",
    "              },\n",
    "              \"radiusRange\": [\n",
    "                0,\n",
    "                50\n",
    "              ],\n",
    "              \"filled\": True\n",
    "            },\n",
    "            \"hidden\": False,\n",
    "            \"textLabel\": [\n",
    "              {\n",
    "                \"field\": None,\n",
    "                \"color\": [\n",
    "                  255,\n",
    "                  255,\n",
    "                  255\n",
    "                ],\n",
    "                \"size\": 18,\n",
    "                \"offset\": [\n",
    "                  0,\n",
    "                  0\n",
    "                ],\n",
    "                \"anchor\": \"start\",\n",
    "                \"alignment\": \"center\"\n",
    "              }\n",
    "            ]\n",
    "          },\n",
    "          \"visualChannels\": {\n",
    "            \"colorField\": {\n",
    "              \"name\": \"cluster_labels\",\n",
    "              \"type\": \"integer\"\n",
    "            },\n",
    "            \"colorScale\": \"quantile\",\n",
    "            \"strokeColorField\": None,\n",
    "            \"strokeColorScale\": \"quantile\",\n",
    "            \"sizeField\": None,\n",
    "            \"sizeScale\": \"linear\"\n",
    "          }\n",
    "        }\n",
    "      ],\n",
    "      \"interactionConfig\": {\n",
    "        \"tooltip\": {\n",
    "          \"fieldsToShow\": {\n",
    "            \"koto\": [\n",
    "              {\n",
    "                \"name\": \"Lat\",\n",
    "                \"format\": None\n",
    "              },\n",
    "              {\n",
    "                \"name\": \"Lon\",\n",
    "                \"format\": None\n",
    "              },\n",
    "              {\n",
    "                \"name\": \"cluster_labels\",\n",
    "                \"format\": None\n",
    "              }\n",
    "            ]\n",
    "          },\n",
    "          \"compareMode\": False,\n",
    "          \"compareType\": \"absolute\",\n",
    "          \"enabled\": True\n",
    "        },\n",
    "        \"brush\": {\n",
    "          \"size\": 0.5,\n",
    "          \"enabled\": False\n",
    "        },\n",
    "        \"geocoder\": {\n",
    "          \"enabled\": False\n",
    "        },\n",
    "        \"coordinate\": {\n",
    "          \"enabled\": False\n",
    "        }\n",
    "      },\n",
    "      \"layerBlending\": \"normal\",\n",
    "      \"splitMaps\": [],\n",
    "      \"animationConfig\": {\n",
    "        \"currentTime\": None,\n",
    "        \"speed\": 1\n",
    "      }\n",
    "    },\n",
    "    \"mapState\": {\n",
    "      \"bearing\": 0,\n",
    "      \"dragRotate\": False,\n",
    "      \"latitude\": 40.039792481661564,\n",
    "      \"longitude\": -82.98830821214341,\n",
    "      \"pitch\": 0,\n",
    "      \"zoom\": 9.249643007871773,\n",
    "      \"isSplit\": False\n",
    "    },\n",
    "    \"mapStyle\": {\n",
    "      \"styleType\": \"dark\",\n",
    "      \"topLayerGroups\": {},\n",
    "      \"visibleLayerGroups\": {\n",
    "        \"label\": True,\n",
    "        \"road\": True,\n",
    "        \"border\": False,\n",
    "        \"building\": True,\n",
    "        \"water\": True,\n",
    "        \"land\": True,\n",
    "        \"3d building\": False\n",
    "      },\n",
    "      \"threeDBuildingColor\": [\n",
    "        9.665468314072013,\n",
    "        17.18305478057247,\n",
    "        31.1442867897876\n",
    "      ],\n",
    "      \"mapStyles\": {}\n",
    "    }\n",
    "  }\n",
    "}"
   ]
  }
 ]
}