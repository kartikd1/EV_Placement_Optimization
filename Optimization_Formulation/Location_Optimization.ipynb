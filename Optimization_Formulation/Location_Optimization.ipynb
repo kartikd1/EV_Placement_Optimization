{
 "cells": [
  {
   "cell_type": "code",
   "execution_count": 2,
   "metadata": {},
   "outputs": [],
   "source": [
    "import numpy as np\n",
    "from cvxpy import *\n",
    "import cvxopt"
   ]
  },
  {
   "cell_type": "code",
   "execution_count": 3,
   "metadata": {},
   "outputs": [
    {
     "data": {
      "text/plain": [
       "366.0"
      ]
     },
     "execution_count": 3,
     "metadata": {},
     "output_type": "execute_result"
    }
   ],
   "source": [
    "### WITH AVERAGE DISTANCE CONSTRAINT\n",
    "\n",
    "c = np.array([[100],[100],[100],[100]]);\n",
    "n = 4 # Number of potential EV candidate Locations\n",
    "x = Variable(n,boolean=True)\n",
    "y = Variable((n,n),boolean=True)\n",
    "w = np.array([[7],[8],[10],[9]])\n",
    "#y = Variable((n, n))\n",
    "\n",
    "d = np.array([[0,10,10,10],[0,0,10,10],[0,0,0,10],[0,0,0,0]])\n",
    "\n",
    "def avg_dist(var_node,var_edge,dist_matrix):\n",
    "    constraints = []\n",
    "    tot_sum = 0\n",
    "    count = 0 \n",
    "    for i in range(n):\n",
    "            for j in range(n):\n",
    "                if i >= j:\n",
    "                    constraints.append(var_edge[i,j] == 0)\n",
    "                else:\n",
    "                    tot_sum += dist_matrix[i,j]*var_edge[i,j]\n",
    "                    count += var_edge[i,j]\n",
    "                    constraints.append( ((var_node[i] + var_node[j])/2) - var_edge[i,j] == 0 )\n",
    "    constraints.append(tot_sum-10*count >= 0)\n",
    "    constraints.append(c.T@x >= 300)\n",
    "    constraints.append(c.T@x <= 400)\n",
    "    return constraints\n",
    "        \n",
    "\n",
    "prob = Problem(Minimize(c.T@x-w.T@x), avg_dist(x,y,d))\n",
    "prob.solve(solver=GLPK_MI)"
   ]
  },
  {
   "cell_type": "code",
   "execution_count": 4,
   "metadata": {},
   "outputs": [
    {
     "data": {
      "text/plain": [
       "array([1., 1., 1., 1.])"
      ]
     },
     "execution_count": 4,
     "metadata": {},
     "output_type": "execute_result"
    }
   ],
   "source": [
    "x.value"
   ]
  },
  {
   "cell_type": "code",
   "execution_count": 5,
   "metadata": {},
   "outputs": [
    {
     "data": {
      "text/plain": [
       "array([[0., 1., 1., 1.],\n",
       "       [0., 0., 1., 1.],\n",
       "       [0., 0., 0., 1.],\n",
       "       [0., 0., 0., 0.]])"
      ]
     },
     "execution_count": 5,
     "metadata": {},
     "output_type": "execute_result"
    }
   ],
   "source": [
    "y.value"
   ]
  },
  {
   "cell_type": "code",
   "execution_count": 84,
   "metadata": {},
   "outputs": [
    {
     "data": {
      "text/plain": [
       "[Equality(Expression(AFFINE, NONNEGATIVE, ()), Constant(CONSTANT, ZERO, ())),\n",
       " Equality(Expression(AFFINE, UNKNOWN, ()), Constant(CONSTANT, ZERO, ())),\n",
       " Equality(Expression(AFFINE, UNKNOWN, ()), Constant(CONSTANT, ZERO, ())),\n",
       " Equality(Expression(AFFINE, UNKNOWN, ()), Constant(CONSTANT, ZERO, ())),\n",
       " Equality(Expression(AFFINE, NONNEGATIVE, ()), Constant(CONSTANT, ZERO, ())),\n",
       " Equality(Expression(AFFINE, NONNEGATIVE, ()), Constant(CONSTANT, ZERO, ())),\n",
       " Equality(Expression(AFFINE, UNKNOWN, ()), Constant(CONSTANT, ZERO, ())),\n",
       " Equality(Expression(AFFINE, UNKNOWN, ()), Constant(CONSTANT, ZERO, ())),\n",
       " Equality(Expression(AFFINE, NONNEGATIVE, ()), Constant(CONSTANT, ZERO, ())),\n",
       " Equality(Expression(AFFINE, NONNEGATIVE, ()), Constant(CONSTANT, ZERO, ())),\n",
       " Equality(Expression(AFFINE, NONNEGATIVE, ()), Constant(CONSTANT, ZERO, ())),\n",
       " Equality(Expression(AFFINE, UNKNOWN, ()), Constant(CONSTANT, ZERO, ())),\n",
       " Equality(Expression(AFFINE, NONNEGATIVE, ()), Constant(CONSTANT, ZERO, ())),\n",
       " Equality(Expression(AFFINE, NONNEGATIVE, ()), Constant(CONSTANT, ZERO, ())),\n",
       " Equality(Expression(AFFINE, NONNEGATIVE, ()), Constant(CONSTANT, ZERO, ())),\n",
       " Equality(Expression(AFFINE, NONNEGATIVE, ()), Constant(CONSTANT, ZERO, ())),\n",
       " Inequality(Constant(CONSTANT, ZERO, ())),\n",
       " Inequality(Constant(CONSTANT, NONNEGATIVE, ())),\n",
       " Inequality(Expression(AFFINE, NONNEGATIVE, (1,)))]"
      ]
     },
     "execution_count": 84,
     "metadata": {},
     "output_type": "execute_result"
    }
   ],
   "source": [
    "avg_dist(x,y,d)"
   ]
  },
  {
   "cell_type": "code",
   "execution_count": 6,
   "metadata": {},
   "outputs": [],
   "source": [
    "### WITHOUT AVERAGE DISTANCE CONSTRAINT\n",
    "def optimization_func(u, cost = 100.0):\n",
    "    \"\"\" \n",
    "    This function returns the optimal EV Charging Station Locations\n",
    "      \n",
    "    Attributes: \n",
    "        u (float): 1d numpy array \n",
    "        cost (float): Installation cost of each charging station \n",
    "    \"\"\"\n",
    "    \n",
    "    n = len(u) \n",
    "    c = np.ones(n)*cost\n",
    "    x = Variable(n,boolean=True)\n",
    "\n",
    "    prob = Problem(Minimize(c.T@x-w.T@x), [c.T@x >= 300,c.T@x <= 350])\n",
    "    optimal_value = prob.solve(solver=GLPK_MI)\n",
    "    \n",
    "    return x.value, optimal_value"
   ]
  },
  {
   "cell_type": "code",
   "execution_count": 7,
   "metadata": {},
   "outputs": [
    {
     "data": {
      "text/plain": [
       "(array([0., 1., 1., 1.]), 273.0)"
      ]
     },
     "execution_count": 7,
     "metadata": {},
     "output_type": "execute_result"
    }
   ],
   "source": [
    "w = np.array([[7],[8],[10],[9]])\n",
    "optimization_func(w)"
   ]
  }
 ],
 "metadata": {
  "kernelspec": {
   "display_name": "Python 3",
   "language": "python",
   "name": "python3"
  },
  "language_info": {
   "codemirror_mode": {
    "name": "ipython",
    "version": 3
   },
   "file_extension": ".py",
   "mimetype": "text/x-python",
   "name": "python",
   "nbconvert_exporter": "python",
   "pygments_lexer": "ipython3",
   "version": "3.7.3"
  }
 },
 "nbformat": 4,
 "nbformat_minor": 2
}
