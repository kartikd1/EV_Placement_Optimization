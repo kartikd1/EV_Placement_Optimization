{
 "cells": [
  {
   "cell_type": "code",
   "execution_count": 3,
   "metadata": {},
   "outputs": [],
   "source": [
    "import numpy as np\n",
    "from cvxpy import *\n",
    "import cvxopt"
   ]
  },
  {
   "cell_type": "markdown",
   "metadata": {},
   "source": [
    "### (1) WITHOUT AVERAGE DISTANCE CONSTRAINT"
   ]
  },
  {
   "cell_type": "code",
   "execution_count": 6,
   "metadata": {},
   "outputs": [],
   "source": [
    "def optimization_func(u, cost = 100.0):\n",
    "    \"\"\" \n",
    "    This function returns the optimal EV Charging Station Locations\n",
    "      \n",
    "    Attributes: \n",
    "        u (float): 1d numpy array -> utility at each potential charging location\n",
    "        cost (float): Installation cost of each charging station \n",
    "    \"\"\"\n",
    "    \n",
    "    n = len(u) \n",
    "    c = np.ones(n)*cost\n",
    "    x = Variable(n,boolean=True)\n",
    "\n",
    "    prob = Problem(Minimize(c.T@x-u.T@x), [c.T@x >= 300,c.T@x <= 350])\n",
    "    optimal_value = prob.solve(solver=GLPK_MI)\n",
    "    \n",
    "    return x.value, optimal_value"
   ]
  },
  {
   "cell_type": "markdown",
   "metadata": {},
   "source": [
    "#### Example"
   ]
  },
  {
   "cell_type": "code",
   "execution_count": 7,
   "metadata": {},
   "outputs": [
    {
     "data": {
      "text/plain": [
       "(array([0., 1., 1., 1.]), 273.0)"
      ]
     },
     "execution_count": 7,
     "metadata": {},
     "output_type": "execute_result"
    }
   ],
   "source": [
    "u = np.array([[7],[8],[10],[9]])\n",
    "optimization_func(u)"
   ]
  },
  {
   "cell_type": "markdown",
   "metadata": {},
   "source": [
    "### (2) WITH AVERAGE DISTANCE CONSTRAINT EXAMPLE"
   ]
  },
  {
   "cell_type": "code",
   "execution_count": 14,
   "metadata": {},
   "outputs": [
    {
     "data": {
      "text/plain": [
       "273.0"
      ]
     },
     "execution_count": 14,
     "metadata": {},
     "output_type": "execute_result"
    }
   ],
   "source": [
    "c = np.array([[100],[100],[100],[100]]);\n",
    "n = 4 # Number of potential EV candidate Locations\n",
    "x = Variable(n,boolean=True)\n",
    "y = Variable((n,n),boolean=True)\n",
    "w = np.array([[7],[8],[10],[9]])\n",
    "#y = Variable((n, n))\n",
    "\n",
    "d = np.array([[0,12,12,12],[0,0,12,12],[0,0,0,12],[0,0,0,0]])\n",
    "\n",
    "def avg_dist(var_node,var_edge,dist_matrix,min_budget=300,max_budget=400,threshold_dist=10):\n",
    "    \"\"\" \n",
    "    This function returns constraints list for the optimization problem. It returns budget constraint, average distance\n",
    "    constraint, and node-edge coupling constraints\n",
    "    \n",
    "      \n",
    "    Attributes: \n",
    "        var_node (n,) : potential cluster nodes -> binary decision variable defined in cvxpy\n",
    "        var_edge (nxn): edges b/w the nodes -> binary decision variable defined in cvxpy\n",
    "        dist_matrix (nxn): numpy array of distances b/w the nodes \n",
    "        min_budget (float): minimum EV station installation budget \n",
    "        max_budget (float): maximum EV station installation budget\n",
    "        threshold_dist (float): minimum average distance in the cluster\n",
    "    \"\"\"\n",
    "    \n",
    "    constraints = []\n",
    "    tot_sum = 0\n",
    "    count = 0 \n",
    "    for i in range(n):\n",
    "            for j in range(n):\n",
    "                if i >= j:\n",
    "                    constraints.append(var_edge[i,j] == 0)\n",
    "                else:\n",
    "                    tot_sum += dist_matrix[i,j]*var_edge[i,j]\n",
    "                    count += var_edge[i,j]\n",
    "                    constraints.append( ((var_node[i] + var_node[j])/2) - var_edge[i,j] <= 0.5 )\n",
    "                    constraints.append( ((var_node[i] + var_node[j])/2) - var_edge[i,j] >= 0 )\n",
    "    constraints.append(tot_sum-threshold_dist*count >= 1)\n",
    "    constraints.append(c.T@x >= min_budget)\n",
    "    constraints.append(c.T@x <= max_budget)\n",
    "    return constraints\n",
    "        \n",
    "\n",
    "prob = Problem(Minimize(c.T@x-w.T@x), avg_dist(x,y,d))\n",
    "prob.solve(solver=GLPK_MI)"
   ]
  },
  {
   "cell_type": "code",
   "execution_count": 12,
   "metadata": {},
   "outputs": [
    {
     "data": {
      "text/plain": [
       "array([0., 1., 1., 1.])"
      ]
     },
     "execution_count": 12,
     "metadata": {},
     "output_type": "execute_result"
    }
   ],
   "source": [
    "x.value"
   ]
  },
  {
   "cell_type": "code",
   "execution_count": 13,
   "metadata": {},
   "outputs": [
    {
     "data": {
      "text/plain": [
       "array([[0., 0., 0., 0.],\n",
       "       [0., 0., 1., 1.],\n",
       "       [0., 0., 0., 1.],\n",
       "       [0., 0., 0., 0.]])"
      ]
     },
     "execution_count": 13,
     "metadata": {},
     "output_type": "execute_result"
    }
   ],
   "source": [
    "y.value"
   ]
  },
  {
   "cell_type": "code",
   "execution_count": null,
   "metadata": {},
   "outputs": [],
   "source": [
    "if xi = 1 and xj = 1 then xij = 1\n",
    "if xi = 1 and xj = 0 then xij = 0\n",
    "if xi = 0 and xj = 1 then xij = 0 \n",
    "if xi = 0 and xj = 0 then xij = 0\n",
    "\n",
    "avg dist <= 10 \n",
    "\n",
    "formulate all these in linear form!! "
   ]
  }
 ],
 "metadata": {
  "kernelspec": {
   "display_name": "Python 3",
   "language": "python",
   "name": "python3"
  },
  "language_info": {
   "codemirror_mode": {
    "name": "ipython",
    "version": 3
   },
   "file_extension": ".py",
   "mimetype": "text/x-python",
   "name": "python",
   "nbconvert_exporter": "python",
   "pygments_lexer": "ipython3",
   "version": "3.7.3"
  }
 },
 "nbformat": 4,
 "nbformat_minor": 2
}
