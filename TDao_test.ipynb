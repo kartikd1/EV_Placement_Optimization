{
 "metadata": {
  "language_info": {
   "codemirror_mode": {
    "name": "ipython",
    "version": 3
   },
   "file_extension": ".py",
   "mimetype": "text/x-python",
   "name": "python",
   "nbconvert_exporter": "python",
   "pygments_lexer": "ipython3",
   "version": "3.7.4-final"
  },
  "orig_nbformat": 2,
  "kernelspec": {
   "name": "python3",
   "display_name": "Python 3"
  }
 },
 "nbformat": 4,
 "nbformat_minor": 2,
 "cells": [
  {
   "cell_type": "code",
   "execution_count": 1,
   "metadata": {},
   "outputs": [],
   "source": [
    "import TelematicsDao as TD"
   ]
  },
  {
   "cell_type": "code",
   "execution_count": 2,
   "metadata": {},
   "outputs": [
    {
     "output_type": "stream",
     "name": "stdout",
     "text": [
      " **** S3 INITIALIZED\ns3 is ON\n"
     ]
    }
   ],
   "source": [
    "dao_obj = TD.TelematicsDao()"
   ]
  },
  {
   "cell_type": "code",
   "execution_count": 9,
   "metadata": {},
   "outputs": [
    {
     "output_type": "execute_result",
     "data": {
      "text/plain": [
       "{'ResponseMetadata': {'RequestId': '4F4C531B582F6897',\n",
       "  'HostId': 'RvhD/+QnJ4dkoxIwNgizC6JP26sGBh4QXgDqWWlIXyqvtq5OFpI/FKtagsJVAjb67u+wt8IeE6g=',\n",
       "  'HTTPStatusCode': 200,\n",
       "  'HTTPHeaders': {'x-amz-id-2': 'RvhD/+QnJ4dkoxIwNgizC6JP26sGBh4QXgDqWWlIXyqvtq5OFpI/FKtagsJVAjb67u+wt8IeE6g=',\n",
       "   'x-amz-request-id': '4F4C531B582F6897',\n",
       "   'date': 'Fri, 06 Nov 2020 03:11:40 GMT',\n",
       "   'x-amz-bucket-region': 'us-east-1',\n",
       "   'content-type': 'application/xml',\n",
       "   'transfer-encoding': 'chunked',\n",
       "   'server': 'AmazonS3'},\n",
       "  'RetryAttempts': 0},\n",
       " 'IsTruncated': False,\n",
       " 'Marker': '',\n",
       " 'Contents': [{'Key': 'locationCollector/',\n",
       "   'LastModified': datetime.datetime(2020, 10, 30, 3, 9, 44, tzinfo=tzutc()),\n",
       "   'ETag': '\"d41d8cd98f00b204e9800998ecf8427e\"',\n",
       "   'Size': 0,\n",
       "   'StorageClass': 'STANDARD'},\n",
       "  {'Key': 'locationCollector/123b9a7bbd7775662d3a55656dc2379b',\n",
       "   'LastModified': datetime.datetime(2020, 10, 30, 5, 25, 6, tzinfo=tzutc()),\n",
       "   'ETag': '\"d060bff2f2521358c8c86b13144b5c01\"',\n",
       "   'Size': 67,\n",
       "   'StorageClass': 'STANDARD',\n",
       "   'Owner': {'ID': '65a011a29cdf8ec533ec3d1ccaae921c'}},\n",
       "  {'Key': 'locationCollector/223b9a7bbd7775662d3a55656dc2379b',\n",
       "   'LastModified': datetime.datetime(2020, 10, 30, 5, 25, 7, tzinfo=tzutc()),\n",
       "   'ETag': '\"d060bff2f2521358c8c86b13144b5c01\"',\n",
       "   'Size': 67,\n",
       "   'StorageClass': 'STANDARD',\n",
       "   'Owner': {'ID': '65a011a29cdf8ec533ec3d1ccaae921c'}},\n",
       "  {'Key': 'locationCollector/l123b9a7bbd7775662d3a55656dc2379b',\n",
       "   'LastModified': datetime.datetime(2020, 10, 30, 5, 30, 58, tzinfo=tzutc()),\n",
       "   'ETag': '\"c63b30d4d471726a1b96fb9fceef1ef5\"',\n",
       "   'Size': 67,\n",
       "   'StorageClass': 'STANDARD',\n",
       "   'Owner': {'ID': '65a011a29cdf8ec533ec3d1ccaae921c'}},\n",
       "  {'Key': 'locationCollector/l223b9a7bbd7775662d3a55656dc2379b',\n",
       "   'LastModified': datetime.datetime(2020, 10, 30, 5, 30, 58, tzinfo=tzutc()),\n",
       "   'ETag': '\"c63b30d4d471726a1b96fb9fceef1ef5\"',\n",
       "   'Size': 67,\n",
       "   'StorageClass': 'STANDARD',\n",
       "   'Owner': {'ID': '65a011a29cdf8ec533ec3d1ccaae921c'}}],\n",
       " 'Name': 'cse6242telematics',\n",
       " 'Prefix': 'location',\n",
       " 'MaxKeys': 1000,\n",
       " 'EncodingType': 'url'}"
      ]
     },
     "metadata": {},
     "execution_count": 9
    }
   ],
   "source": [
    "dao_obj.s3.list_objects(Bucket= dao_obj.bucketName, Prefix = \"location\")"
   ]
  },
  {
   "cell_type": "code",
   "execution_count": null,
   "metadata": {},
   "outputs": [],
   "source": []
  }
 ]
}