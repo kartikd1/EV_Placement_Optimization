{
 "metadata": {
  "language_info": {
   "codemirror_mode": {
    "name": "ipython",
    "version": 3
   },
   "file_extension": ".py",
   "mimetype": "text/x-python",
   "name": "python",
   "nbconvert_exporter": "python",
   "pygments_lexer": "ipython3",
   "version": "3.7.4-final"
  },
  "orig_nbformat": 2,
  "kernelspec": {
   "name": "Python 3.7.4 64-bit (conda)",
   "display_name": "Python 3.7.4 64-bit (conda)",
   "metadata": {
    "interpreter": {
     "hash": "ec724a384a8a1e6d6f12b13c482fc0bc59a3a66b5056119197f9feebee17befe"
    }
   }
  }
 },
 "nbformat": 4,
 "nbformat_minor": 2,
 "cells": [
  {
   "cell_type": "code",
   "execution_count": 2,
   "metadata": {},
   "outputs": [],
   "source": [
    "import TelematicsDao as TD"
   ]
  },
  {
   "cell_type": "code",
   "execution_count": 2,
   "metadata": {},
   "outputs": [
    {
     "output_type": "stream",
     "name": "stdout",
     "text": [
      "Requirement already satisfied: boto3 in /Library/Frameworks/Python.framework/Versions/3.7/lib/python3.7/site-packages (1.16.5)\n",
      "Requirement already satisfied: botocore<1.20.0,>=1.19.5 in /Library/Frameworks/Python.framework/Versions/3.7/lib/python3.7/site-packages (from boto3) (1.19.5)\n",
      "Requirement already satisfied: jmespath<1.0.0,>=0.7.1 in /Library/Frameworks/Python.framework/Versions/3.7/lib/python3.7/site-packages (from boto3) (0.10.0)\n",
      "Requirement already satisfied: s3transfer<0.4.0,>=0.3.0 in /Library/Frameworks/Python.framework/Versions/3.7/lib/python3.7/site-packages (from boto3) (0.3.3)\n",
      "Requirement already satisfied: urllib3<1.26,>=1.25.4; python_version != \"3.4\" in /Library/Frameworks/Python.framework/Versions/3.7/lib/python3.7/site-packages (from botocore<1.20.0,>=1.19.5->boto3) (1.25.11)\n",
      "Requirement already satisfied: python-dateutil<3.0.0,>=2.1 in /Library/Frameworks/Python.framework/Versions/3.7/lib/python3.7/site-packages (from botocore<1.20.0,>=1.19.5->boto3) (2.8.1)\n",
      "Requirement already satisfied: six>=1.5 in /Library/Frameworks/Python.framework/Versions/3.7/lib/python3.7/site-packages (from python-dateutil<3.0.0,>=2.1->botocore<1.20.0,>=1.19.5->boto3) (1.15.0)\n",
      "\u001b[33mWARNING: You are using pip version 20.1.1; however, version 20.2.4 is available.\n",
      "You should consider upgrading via the '/usr/local/bin/python3 -m pip install --upgrade pip' command.\u001b[0m\n",
      " **** S3 INITIALIZED\n",
      "s3 is ON\n",
      "***** STORING IN S3\n",
      "{'123b9a7bbd7775662d3a55656dc2379b': {'542': ['2020-01-11 19: 00: 00 EST', '2020-01-11 19: 04: 30 EST']}, '223b9a7bbd7775662d3a55656dc2379b': {'542': ['2020-01-11 19: 00: 00 EST', '2020-01-11 19: 04: 30 EST']}, 'l123b9a7bbd7775662d3a55656dc2379b': {'544': ['2020-01-11 19: 00: 00 EST', '2020-01-11 19: 04: 30 EST']}, 'l223b9a7bbd7775662d3a55656dc2379b': {'544': ['2020-01-11 19: 00: 00 EST', '2020-01-11 19: 04: 30 EST']}}\n",
      "***** STORING IN S3\n",
      " value stored in s3\n",
      " value stored in s3\n",
      "***** DATA STORED IN S3 SUCCESSFULLY\n",
      "***** STORING IN S3\n",
      " value stored in s3\n",
      " value stored in s3\n",
      "***** DATA STORED IN S3 SUCCESSFULLY\n",
      "***** STORING IN S3\n",
      "getWaitCollector\n",
      "{'123b9a7bbd7775662d3a55656dc2379b': {'542': ['121212', '-40']}, '223b9a7bbd7775662d3a55656dc2379b': {'542': ['121212', '-40']}, 'w123b9a7bbd7775662d3a55656dc2379b': {'543': ['121212', '-40']}, 'w223b9a7bbd7775662d3a55656dc2379b': {'543': ['121212', '-40']}}\n"
     ]
    }
   ],
   "source": [
    "import sys\n",
    "#This line is to install boto3, once installed in the first run you can comment the below line there after\n",
    "!{sys.executable} -m pip install boto3\n",
    "\n",
    "%run TelematicsDao.py\n",
    "\n",
    "'''\n",
    "   data to be stored should be like this\n",
    "   Wait Time Collector \n",
    "   { \"123b9a7bbd7775662d3a55656dc2379b\":{ \"540\":[ \"2020-01-11 19: 00: 00 EST\", \"2020-01-11 19: 04: 30 EST\"]},\n",
    "     \"456b9a7bbd7775662d3a55656dc2379b\":{ \"272\":[ \"2020-01-11 19: 00: 00 EST\", \"2020-01-11 19: 09: 45 EST\"]}\n",
    "   }\n",
    "\n",
    "   Location Collector\n",
    "    { \"123b9a7bbd7775662d3a55656dc2379b\":{ \"540\":[ \"44\", \"45]},\n",
    "     \"456b9a7bbd7775662d3a55656dc2379b\":{ \"272\":[ \"87\", \"-185]},\n",
    "    }\n",
    "'''\n",
    "dao = TelematicsDao(True)\n",
    "#LOCATION COLLECTOR\n",
    "dictVal =  { \"544\":[ \"2020-01-11 19: 00: 00 EST\", \"2020-01-11 19: 04: 30 EST\"]}\n",
    "lc_dict = {\"l123b9a7bbd7775662d3a55656dc2379b\":dictVal, \"l223b9a7bbd7775662d3a55656dc2379b\":dictVal}\n",
    "print ( dao.getLocationCollector() )\n",
    "dao.putLocationCollector(lc_dict)\n",
    "\n",
    "#WAIT COLLECTOR\n",
    "dictVal1 =  { \"543\":[ \"121212\", \"-40\"]}\n",
    "wc_dict = {\"w123b9a7bbd7775662d3a55656dc2379b\":dictVal1, \"w223b9a7bbd7775662d3a55656dc2379b\":dictVal1}\n",
    "dao.putWaitCollector(wc_dict)\n",
    "print ( dao.getWaitCollector() )"
   ]
  },
  {
   "cell_type": "code",
   "execution_count": null,
   "metadata": {},
   "outputs": [],
   "source": [
    "    # def storeS3(self, detailsInDict):\n",
    "    #     print (\"store s3\")\n",
    "    #     for key in detailsInDict:\n",
    "    #         newDict = detailsInDict[key]\n",
    "    #         storeValue = str(json.dumps(newDict))\n",
    "    #         self.s3.put_object(\n",
    "    #             Body=storeValue,\n",
    "    #             Bucket=self.bucketName,\n",
    "    #             Key=key\n",
    "    #         )\n",
    "    #         print ( \" value stored in s3\" )\n",
    "\n",
    "    \n",
    "    # def storeS3(self, detailsInDict):\n",
    "    #     print (\"store s3\")\n",
    "    #     for key in detailsInDict:\n",
    "    #         newDict = detailsInDict[key]\n",
    "    #         storeValue = str(json.dumps(newDict))\n",
    "            \n",
    "    #         self.s3.put_object(\n",
    "    #             Body=storeValue,\n",
    "    #             Bucket=self.bucketName,\n",
    "    #             Key=key\n",
    "    #         )\n",
    "    #         print ( \" value stored in s3\" )\n",
    "        \n",
    " \n",
    "\n",
    "    # def getAllDataS3(self):\n",
    "    #     s3Object = self.s3.list_objects(Bucket=self.bucketName)\n",
    "    #     content = s3Object['Contents']\n",
    "    #     keyList = []\n",
    "    #     valueDict={}\n",
    "    #     for key in content:\n",
    "    #         keyList.append(key[\"Key\"])\n",
    "    #         data = self.s3.get_object(Bucket=self.bucketName, Key=key[\"Key\"])\n",
    "    #         content = data['Body'].read().decode()\n",
    "    #         deJson=json.loads(content)\n",
    "    #         valueDict[key[\"Key\"]] = deJson\n",
    "    #     return valueDict"
   ]
  }
 ]
}