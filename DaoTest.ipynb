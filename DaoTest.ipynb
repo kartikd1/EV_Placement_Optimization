{
 "metadata": {
  "language_info": {
   "codemirror_mode": {
    "name": "ipython",
    "version": 3
   },
   "file_extension": ".py",
   "mimetype": "text/x-python",
   "name": "python",
   "nbconvert_exporter": "python",
   "pygments_lexer": "ipython3",
   "version": "3.7.9-final"
  },
  "orig_nbformat": 2,
  "kernelspec": {
   "name": "Python 3.7.9 64-bit",
   "display_name": "Python 3.7.9 64-bit",
   "metadata": {
    "interpreter": {
     "hash": "aee8b7b246df8f9039afb4144a1f6fd8d2ca17a180786b69acc140d282b71a49"
    }
   }
  }
 },
 "nbformat": 4,
 "nbformat_minor": 2,
 "cells": [
  {
   "cell_type": "code",
   "execution_count": 37,
   "metadata": {},
   "outputs": [
    {
     "output_type": "stream",
     "name": "stdout",
     "text": [
      " **** S3 INITIALIZED\n",
      "s3 is ON\n",
      "ddddddddd \n",
      "***** STORING IN S3\n",
      "{'3l123b9a7bbd7775662d3a55656dc2379b': {'543': ['323', '42']}, 'al223b9a7bbd7775662d3a55656dc2379b': {'543': ['323', '42']}}\n",
      "***** STORING IN S3\n",
      " value stored in s3\n",
      " value stored in s3\n",
      "***** DATA STORED IN S3 SUCCESSFULLY\n",
      "***** STORING IN S3\n",
      " value stored in s3\n",
      " value stored in s3\n",
      "***** DATA STORED IN S3 SUCCESSFULLY\n",
      "***** STORING IN S3\n",
      "getWaitCollector\n",
      "{'w123b9a7bbd7775662d3a55656dc2379b': {'544': ['2020-01-11 19: 00: 00 EST', '2020-01-11 21: 04: 30 EST'], 'key': ['2020-01-11 19: 00: 00 EST', '2020-01-11 20: 04: 30 EST']}, 'w223b9a7bbd7775662d3a55656dc2379b': {'544': ['2020-01-11 19: 00: 00 EST', '2020-01-11 21: 04: 30 EST'], 'key': ['2020-01-11 19: 00: 00 EST', '2020-01-11 20: 04: 30 EST']}}\n"
     ]
    }
   ],
   "source": [
    "import sys\n",
    "#This line is to install boto3, once installed in the first run you can comment the below line there after\n",
    "#!{sys.executable} -m pip install boto3\n",
    "\n",
    "%run TelematicsDao.py\n",
    "\n",
    "'''\n",
    "   data to be stored should be like this\n",
    "   Wait Time Collector \n",
    "   { \"123b9a7bbd7775662d3a55656dc2379b\":{ \"540\":[ \"2020-01-11 19: 00: 00 EST\", \"2020-01-11 19: 04: 30 EST\"]},\n",
    "     \"456b9a7bbd7775662d3a55656dc2379b\":{ \"272\":[ \"2020-01-11 19: 00: 00 EST\", \"2020-01-11 19: 09: 45 EST\"]}\n",
    "   }\n",
    "\n",
    "   Location Collector\n",
    "    { \"123b9a7bbd7775662d3a55656dc2379b\":{ \"540\":[ \"44\", \"45]},\n",
    "     \"456b9a7bbd7775662d3a55656dc2379b\":{ \"272\":[ \"87\", \"-185]},\n",
    "    }\n",
    "'''\n",
    "dao = TelematicsDao(True)\n",
    "print ( \"ddddddddd \")\n",
    "#LOCATION COLLECTOR\n",
    "dictVal =  { \"542\":[ \"333\", \"4332\"]}\n",
    "\n",
    "lc_dict = {\"3l123b9a7bbd7775662d3a55656dc2379b\":dictVal, \"al223b9a7bbd7775662d3a55656dc2379b\":dictVal}\n",
    "print ( dao.getLocationCollector() )\n",
    "dao.putLocationCollector(lc_dict)\n",
    "\n",
    "#WAIT COLLECTOR\n",
    "dictVal1 =  { \"544\":[ \"2020-01-11 22: 00: 00 EST\", \"2020-01-11 21: 04: 30 EST\"]}\n",
    "wc_dict = {\"w123b9a7bbd7775662d3a55656dc2379b\":dictVal1, \"w223b9a7bbd7775662d3a55656dc2379b\":dictVal1}\n",
    "dao.putWaitCollector(wc_dict)\n",
    "print ( dao.getWaitCollector() )"
   ]
  },
  {
   "cell_type": "code",
   "execution_count": null,
   "metadata": {},
   "outputs": [],
   "source": []
  }
 ]
}