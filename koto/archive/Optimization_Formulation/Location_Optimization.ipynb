{
 "cells": [
  {
   "cell_type": "code",
   "execution_count": 1,
   "metadata": {},
   "outputs": [],
   "source": [
    "import numpy as np\n",
    "from cvxpy import *\n",
    "import cvxopt"
   ]
  },
  {
   "cell_type": "code",
   "execution_count": 9,
   "metadata": {},
   "outputs": [
    {
     "output_type": "execute_result",
     "data": {
      "text/plain": [
       "181.0"
      ]
     },
     "metadata": {},
     "execution_count": 9
    }
   ],
   "source": [
    "c = np.array([[100],[100],[100],[100]]);\n",
    "n = 4 # Number of potential EV candidate Locations\n",
    "x = Variable(n,boolean=True)\n",
    "y = Variable((n,n),boolean=True)\n",
    "w = np.array([[7],[8],[10],[9]])\n",
    "#y = Variable((n, n))\n",
    "\n",
    "d = np.array([[0,9,12,12],[0,0,12,12],[0,0,0,12],[0,0,0,0]])\n",
    "\n",
    "def avg_dist(var_node,var_edge,dist_matrix,min_budget=200,max_budget=200,threshold_dist=10):\n",
    "    \"\"\" \n",
    "    This function returns constraints list for the optimization problem. It returns budget constraint, average distance\n",
    "    constraint, and node-edge coupling constraints\n",
    "    \n",
    "      \n",
    "    Attributes: \n",
    "        var_node (n,) : potential cluster nodes -> binary decision variable defined in cvxpy\n",
    "        var_edge (nxn): edges b/w the nodes -> binary decision variable defined in cvxpy\n",
    "        dist_matrix (nxn): numpy array of distances b/w the nodes \n",
    "        min_budget (float): minimum EV station installation budget \n",
    "        max_budget (float): maximum EV station installation budget\n",
    "        threshold_dist (float): minimum average distance in the cluster\n",
    "    \"\"\"\n",
    "    \n",
    "    constraints = []\n",
    "    tot_sum = 0\n",
    "    count = 0 \n",
    "    for i in range(n):\n",
    "            for j in range(n):\n",
    "                if i >= j:\n",
    "                    constraints.append(var_edge[i,j] == 0)\n",
    "                else:\n",
    "                    tot_sum += dist_matrix[i,j]*var_edge[i,j]\n",
    "                    count += var_edge[i,j]\n",
    "                    constraints.append( ((var_node[i] + var_node[j])/2) - var_edge[i,j] <= 0.5 )\n",
    "                    constraints.append( ((var_node[i] + var_node[j])/2) - var_edge[i,j] >= 0 )\n",
    "    constraints.append(tot_sum-threshold_dist*count >= 1)\n",
    "    constraints.append(c.T@x >= min_budget)\n",
    "    constraints.append(c.T@x <= max_budget)\n",
    "    return constraints\n",
    "        \n",
    "\n",
    "prob = Problem(Minimize(c.T@x-w.T@x), avg_dist(x,y,d))\n",
    "prob.solve(solver=GLPK_MI)"
   ]
  },
  {
   "cell_type": "code",
   "execution_count": 10,
   "metadata": {},
   "outputs": [
    {
     "output_type": "execute_result",
     "data": {
      "text/plain": [
       "array([[ 0,  9, 12, 12],\n",
       "       [ 0,  0, 12, 12],\n",
       "       [ 0,  0,  0, 12],\n",
       "       [ 0,  0,  0,  0]])"
      ]
     },
     "metadata": {},
     "execution_count": 10
    }
   ],
   "source": [
    "d"
   ]
  },
  {
   "cell_type": "code",
   "execution_count": 12,
   "metadata": {},
   "outputs": [
    {
     "output_type": "execute_result",
     "data": {
      "text/plain": [
       "array([0., 0., 1., 1.])"
      ]
     },
     "metadata": {},
     "execution_count": 12
    }
   ],
   "source": [
    "x.value"
   ]
  },
  {
   "cell_type": "code",
   "execution_count": 13,
   "metadata": {},
   "outputs": [
    {
     "output_type": "execute_result",
     "data": {
      "text/plain": [
       "array([[0., 0., 0., 0.],\n",
       "       [0., 0., 0., 0.],\n",
       "       [0., 0., 0., 1.],\n",
       "       [0., 0., 0., 0.]])"
      ]
     },
     "metadata": {},
     "execution_count": 13
    }
   ],
   "source": [
    "y.value"
   ]
  },
  {
   "cell_type": "code",
   "execution_count": 6,
   "metadata": {},
   "outputs": [
    {
     "output_type": "execute_result",
     "data": {
      "text/plain": [
       "[Equality(Expression(AFFINE, NONNEGATIVE, ()), Constant(CONSTANT, ZERO, ())),\n",
       " Inequality(Expression(AFFINE, UNKNOWN, ())),\n",
       " Inequality(Constant(CONSTANT, ZERO, ())),\n",
       " Inequality(Expression(AFFINE, UNKNOWN, ())),\n",
       " Inequality(Constant(CONSTANT, ZERO, ())),\n",
       " Inequality(Expression(AFFINE, UNKNOWN, ())),\n",
       " Inequality(Constant(CONSTANT, ZERO, ())),\n",
       " Equality(Expression(AFFINE, NONNEGATIVE, ()), Constant(CONSTANT, ZERO, ())),\n",
       " Equality(Expression(AFFINE, NONNEGATIVE, ()), Constant(CONSTANT, ZERO, ())),\n",
       " Inequality(Expression(AFFINE, UNKNOWN, ())),\n",
       " Inequality(Constant(CONSTANT, ZERO, ())),\n",
       " Inequality(Expression(AFFINE, UNKNOWN, ())),\n",
       " Inequality(Constant(CONSTANT, ZERO, ())),\n",
       " Equality(Expression(AFFINE, NONNEGATIVE, ()), Constant(CONSTANT, ZERO, ())),\n",
       " Equality(Expression(AFFINE, NONNEGATIVE, ()), Constant(CONSTANT, ZERO, ())),\n",
       " Equality(Expression(AFFINE, NONNEGATIVE, ()), Constant(CONSTANT, ZERO, ())),\n",
       " Inequality(Expression(AFFINE, UNKNOWN, ())),\n",
       " Inequality(Constant(CONSTANT, ZERO, ())),\n",
       " Equality(Expression(AFFINE, NONNEGATIVE, ()), Constant(CONSTANT, ZERO, ())),\n",
       " Equality(Expression(AFFINE, NONNEGATIVE, ()), Constant(CONSTANT, ZERO, ())),\n",
       " Equality(Expression(AFFINE, NONNEGATIVE, ()), Constant(CONSTANT, ZERO, ())),\n",
       " Equality(Expression(AFFINE, NONNEGATIVE, ()), Constant(CONSTANT, ZERO, ())),\n",
       " Inequality(Constant(CONSTANT, NONNEGATIVE, ())),\n",
       " Inequality(Constant(CONSTANT, NONNEGATIVE, ())),\n",
       " Inequality(Expression(AFFINE, NONNEGATIVE, (1,)))]"
      ]
     },
     "metadata": {},
     "execution_count": 6
    }
   ],
   "source": [
    "avg_dist(x,y,d)"
   ]
  },
  {
   "cell_type": "code",
   "execution_count": 6,
   "metadata": {},
   "outputs": [],
   "source": [
    "### WITHOUT AVERAGE DISTANCE CONSTRAINT\n",
    "def optimization_func(u, cost = 100.0):\n",
    "    \"\"\" \n",
    "    This function returns the optimal EV Charging Station Locations\n",
    "      \n",
    "    Attributes: \n",
    "        u (float): 1d numpy array \n",
    "        cost (float): Installation cost of each charging station \n",
    "    \"\"\"\n",
    "    \n",
    "    n = len(u) \n",
    "    c = np.ones(n)*cost\n",
    "    x = Variable(n,boolean=True)\n",
    "\n",
    "    prob = Problem(Minimize(c.T@x-w.T@x), [c.T@x >= 300,c.T@x <= 350])\n",
    "    optimal_value = prob.solve(solver=GLPK_MI)\n",
    "    \n",
    "    return x.value, optimal_value"
   ]
  },
  {
   "cell_type": "code",
   "execution_count": 7,
   "metadata": {},
   "outputs": [
    {
     "data": {
      "text/plain": [
       "(array([0., 1., 1., 1.]), 273.0)"
      ]
     },
     "execution_count": 7,
     "metadata": {},
     "output_type": "execute_result"
    }
   ],
   "source": [
    "w = np.array([[7],[8],[10],[9]])\n",
    "optimization_func(w)"
   ]
  }
 ],
 "metadata": {
  "kernelspec": {
   "display_name": "Python 3",
   "language": "python",
   "name": "python3"
  },
  "language_info": {
   "codemirror_mode": {
    "name": "ipython",
    "version": 3
   },
   "file_extension": ".py",
   "mimetype": "text/x-python",
   "name": "python",
   "nbconvert_exporter": "python",
   "pygments_lexer": "ipython3",
   "version": "3.7.4-final"
  }
 },
 "nbformat": 4,
 "nbformat_minor": 2
}