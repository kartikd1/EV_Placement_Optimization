{
 "metadata": {
  "language_info": {
   "codemirror_mode": {
    "name": "ipython",
    "version": 3
   },
   "file_extension": ".py",
   "mimetype": "text/x-python",
   "name": "python",
   "nbconvert_exporter": "python",
   "pygments_lexer": "ipython3",
   "version": "3.7.4-final"
  },
  "orig_nbformat": 2,
  "kernelspec": {
   "name": "python3",
   "display_name": "Python 3"
  }
 },
 "nbformat": 4,
 "nbformat_minor": 2,
 "cells": [
  {
   "cell_type": "code",
   "execution_count": 23,
   "metadata": {},
   "outputs": [],
   "source": [
    "import TelematicsDao as TD"
   ]
  },
  {
   "cell_type": "code",
   "execution_count": 13,
   "metadata": {},
   "outputs": [],
   "source": [
    "import json"
   ]
  },
  {
   "cell_type": "code",
   "execution_count": 24,
   "metadata": {},
   "outputs": [
    {
     "output_type": "stream",
     "name": "stdout",
     "text": [
      " **** S3 INITIALIZED\ns3 is ON\n"
     ]
    }
   ],
   "source": [
    "dao_obj = TD.TelematicsDao()"
   ]
  },
  {
   "cell_type": "code",
   "execution_count": 9,
   "metadata": {},
   "outputs": [
    {
     "output_type": "execute_result",
     "data": {
      "text/plain": [
       "{'ResponseMetadata': {'RequestId': '4F4C531B582F6897',\n",
       "  'HostId': 'RvhD/+QnJ4dkoxIwNgizC6JP26sGBh4QXgDqWWlIXyqvtq5OFpI/FKtagsJVAjb67u+wt8IeE6g=',\n",
       "  'HTTPStatusCode': 200,\n",
       "  'HTTPHeaders': {'x-amz-id-2': 'RvhD/+QnJ4dkoxIwNgizC6JP26sGBh4QXgDqWWlIXyqvtq5OFpI/FKtagsJVAjb67u+wt8IeE6g=',\n",
       "   'x-amz-request-id': '4F4C531B582F6897',\n",
       "   'date': 'Fri, 06 Nov 2020 03:11:40 GMT',\n",
       "   'x-amz-bucket-region': 'us-east-1',\n",
       "   'content-type': 'application/xml',\n",
       "   'transfer-encoding': 'chunked',\n",
       "   'server': 'AmazonS3'},\n",
       "  'RetryAttempts': 0},\n",
       " 'IsTruncated': False,\n",
       " 'Marker': '',\n",
       " 'Contents': [{'Key': 'locationCollector/',\n",
       "   'LastModified': datetime.datetime(2020, 10, 30, 3, 9, 44, tzinfo=tzutc()),\n",
       "   'ETag': '\"d41d8cd98f00b204e9800998ecf8427e\"',\n",
       "   'Size': 0,\n",
       "   'StorageClass': 'STANDARD'},\n",
       "  {'Key': 'locationCollector/123b9a7bbd7775662d3a55656dc2379b',\n",
       "   'LastModified': datetime.datetime(2020, 10, 30, 5, 25, 6, tzinfo=tzutc()),\n",
       "   'ETag': '\"d060bff2f2521358c8c86b13144b5c01\"',\n",
       "   'Size': 67,\n",
       "   'StorageClass': 'STANDARD',\n",
       "   'Owner': {'ID': '65a011a29cdf8ec533ec3d1ccaae921c'}},\n",
       "  {'Key': 'locationCollector/223b9a7bbd7775662d3a55656dc2379b',\n",
       "   'LastModified': datetime.datetime(2020, 10, 30, 5, 25, 7, tzinfo=tzutc()),\n",
       "   'ETag': '\"d060bff2f2521358c8c86b13144b5c01\"',\n",
       "   'Size': 67,\n",
       "   'StorageClass': 'STANDARD',\n",
       "   'Owner': {'ID': '65a011a29cdf8ec533ec3d1ccaae921c'}},\n",
       "  {'Key': 'locationCollector/l123b9a7bbd7775662d3a55656dc2379b',\n",
       "   'LastModified': datetime.datetime(2020, 10, 30, 5, 30, 58, tzinfo=tzutc()),\n",
       "   'ETag': '\"c63b30d4d471726a1b96fb9fceef1ef5\"',\n",
       "   'Size': 67,\n",
       "   'StorageClass': 'STANDARD',\n",
       "   'Owner': {'ID': '65a011a29cdf8ec533ec3d1ccaae921c'}},\n",
       "  {'Key': 'locationCollector/l223b9a7bbd7775662d3a55656dc2379b',\n",
       "   'LastModified': datetime.datetime(2020, 10, 30, 5, 30, 58, tzinfo=tzutc()),\n",
       "   'ETag': '\"c63b30d4d471726a1b96fb9fceef1ef5\"',\n",
       "   'Size': 67,\n",
       "   'StorageClass': 'STANDARD',\n",
       "   'Owner': {'ID': '65a011a29cdf8ec533ec3d1ccaae921c'}}],\n",
       " 'Name': 'cse6242telematics',\n",
       " 'Prefix': 'location',\n",
       " 'MaxKeys': 1000,\n",
       " 'EncodingType': 'url'}"
      ]
     },
     "metadata": {},
     "execution_count": 9
    }
   ],
   "source": [
    "dao_obj.s3.list_objects(Bucket= dao_obj.bucketName, Prefix = \"location\")"
   ]
  },
  {
   "cell_type": "code",
   "execution_count": 25,
   "metadata": {},
   "outputs": [],
   "source": [
    "data = [json.loads(line) for line in open('destinationCollector.json', 'r')]"
   ]
  },
  {
   "cell_type": "code",
   "execution_count": 29,
   "metadata": {},
   "outputs": [
    {
     "output_type": "execute_result",
     "data": {
      "text/plain": [
       "'{\"_id\": \"0001556fa4a96efdfb0e6f9c079d2fa5\", \"destination\": {\"38\": [33.1249199, -96.7078114], \"40\": [33.1052933, -96.6840179], \"41\": [33.1121068, -96.6808636], \"42\": [33.141374, -96.6770201], \"44\": [33.1150483, -96.6983111], \"45\": [33.1203325, -96.6807765]}}'"
      ]
     },
     "metadata": {},
     "execution_count": 29
    }
   ],
   "source": [
    "json.dumps(data[0])"
   ]
  },
  {
   "cell_type": "code",
   "execution_count": 30,
   "metadata": {},
   "outputs": [
    {
     "output_type": "execute_result",
     "data": {
      "text/plain": [
       "{'ResponseMetadata': {'RequestId': '7EABF85EEF82CDDB',\n",
       "  'HostId': '5E21aD2LaEoyTXnEr2Bi7quR4J3G+crE8n2FHt1fmIJX5NI8/cGPjeZ4vEtzFK+J1J40/oRHA68=',\n",
       "  'HTTPStatusCode': 200,\n",
       "  'HTTPHeaders': {'x-amz-id-2': '5E21aD2LaEoyTXnEr2Bi7quR4J3G+crE8n2FHt1fmIJX5NI8/cGPjeZ4vEtzFK+J1J40/oRHA68=',\n",
       "   'x-amz-request-id': '7EABF85EEF82CDDB',\n",
       "   'date': 'Sat, 07 Nov 2020 02:55:15 GMT',\n",
       "   'etag': '\"19310f595bfb481d87f21b53c0226ac0\"',\n",
       "   'content-length': '0',\n",
       "   'server': 'AmazonS3'},\n",
       "  'RetryAttempts': 0},\n",
       " 'ETag': '\"19310f595bfb481d87f21b53c0226ac0\"'}"
      ]
     },
     "metadata": {},
     "execution_count": 30
    }
   ],
   "source": [
    "dao_obj.s3.put_object(Body=json.dumps(data[0]['destination']),Bucket=dao_obj.bucketName,Key=\"ysf_test\")"
   ]
  },
  {
   "cell_type": "code",
   "execution_count": 36,
   "metadata": {},
   "outputs": [],
   "source": [
    "thing = dao_obj.s3.list_objects(Bucket=dao_obj.bucketName)['Contents']"
   ]
  },
  {
   "cell_type": "code",
   "execution_count": 43,
   "metadata": {},
   "outputs": [],
   "source": [
    "tempKey = thing[1][\"Key\"]"
   ]
  },
  {
   "cell_type": "code",
   "execution_count": 45,
   "metadata": {},
   "outputs": [
    {
     "output_type": "execute_result",
     "data": {
      "text/plain": [
       "'locationCollector/3l123b9a7bbd7775662d3a55656dc2379b'"
      ]
     },
     "metadata": {},
     "execution_count": 45
    }
   ],
   "source": [
    "tempKey"
   ]
  },
  {
   "cell_type": "code",
   "execution_count": 46,
   "metadata": {},
   "outputs": [
    {
     "output_type": "execute_result",
     "data": {
      "text/plain": [
       "'3l123b9a7bbd7775662d3a55656dc2379b'"
      ]
     },
     "metadata": {},
     "execution_count": 46
    }
   ],
   "source": [
    "tempKey[tempKey.index(\"locationCollector/\")+len(\"locationCollector/\"):]"
   ]
  },
  {
   "cell_type": "code",
   "execution_count": 50,
   "metadata": {},
   "outputs": [
    {
     "output_type": "execute_result",
     "data": {
      "text/plain": [
       "'{\"543\": [\"323\", \"42\"], \"542\": [\"333\", \"4332\"]}'"
      ]
     },
     "metadata": {},
     "execution_count": 50
    }
   ],
   "source": [
    "dao_obj.s3.get_object(Bucket=dao_obj.bucketName, Key=tempKey)['Body'].read().decode()"
   ]
  }
 ]
}