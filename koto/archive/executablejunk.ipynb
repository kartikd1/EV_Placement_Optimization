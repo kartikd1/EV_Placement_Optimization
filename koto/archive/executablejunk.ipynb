{
 "metadata": {
  "language_info": {
   "codemirror_mode": {
    "name": "ipython",
    "version": 3
   },
   "file_extension": ".py",
   "mimetype": "text/x-python",
   "name": "python",
   "nbconvert_exporter": "python",
   "pygments_lexer": "ipython3",
   "version": 3
  },
  "orig_nbformat": 2
 },
 "nbformat": 4,
 "nbformat_minor": 2,
 "cells": [
  {
   "cell_type": "code",
   "execution_count": null,
   "metadata": {},
   "outputs": [],
   "source": [
    "(\"C:/Users/Yusuf/Documents/Delete/dens_df.csv\",index=0)\n",
    "dest_raw_df.to_csv(\"C:/Users/Yusuf/Documents/Delete/dest_raw_df.csv\",index=0)\n",
    "dens_df.to_csv(\"C:/Users/Yusuf/Documents/Delete/dens_df.csv\",index=0)\n",
    "path = \"C:\\\\Users\\\\Yusuf\\\\Desktop\\\\GA-Tech\\\\CSE6242\\\\Project\\\\KotoMaterials\\\\KotoMaterials\\\\\"\n",
    "data = [json.loads(line) for line in open(path+'dwellTimes2.json', 'r')]\n",
    "#Convert list of json's into data frame\n",
    "df = pd.DataFrame(columns = ['seq', 'start_timestamp', 'end_timestamp','vin'])\n",
    "column_names_dict ={'index':'seq',0:'start_timestamp',1:\"end_timestamp\"}\n",
    "for i in range(len(data)):\n",
    "     temp_df = pd.DataFrame(data[i]['dwell']).transpose().reset_index().rename(columns=column_names_dict)\n",
    "     temp_df['vin'] = data[i][\"_id\"]\n",
    "     df = df.append(temp_df, ignore_index=True)\n",
    "     #Clean data types\n",
    "df = df.astype({'seq':'int64'})\n",
    "df['start_timestamp'] = pd.to_datetime(df['start_timestamp'])\n",
    "df['end_timestamp'] = pd.to_datetime(df['end_timestamp'])\n",
    "#Extract additional features\n",
    "df['arrival_hour'] = df[\"start_timestamp\"].dt.hour\n",
    "df['arrival_date'] = df[\"start_timestamp\"].dt.date\n",
    "df['arrival_day'] = df[\"start_timestamp\"].dt.day_name()\n",
    "df['trip_time'] = (df['end_timestamp'] - df['start_timestamp']).astype('timedelta64[m]')\n",
    "#Sort and shift data to get additional features\n",
    "df = df.sort_values(by =['vin','seq'])\n",
    "df[\"next_trip_start_timestamp\"] = df[\"start_timestamp\"].shift(periods=-1)\n",
    "df[\"next_trip_seq\"] = df['seq'].shift(periods=-1)\n",
    "df[\"dwell_time\"] = (df['next_trip_start_timestamp'] - df['end_timestamp']).astype('timedelta64[m]')\n",
    "df['seq_diff'] = df['next_trip_seq'] - df['seq']\n",
    "path = \"C:\\\\Users\\\\Yusuf\\\\Desktop\\\\GA-Tech\\\\CSE6242\\\\Project\\\\KotoMaterials\\\\KotoMaterials\\\\\"\n",
    "data_dest = [json.loads(line) for line in open(path+'destination.json', 'r')]\n",
    "df_dest = pd.DataFrame(columns = ['seq', 'Lat', 'Lon','vin'])\n",
    "column_names_dict ={'index':'seq',0:'Lat',1:\"Lon\"}\n",
    "for i in range(len(data_dest)):\n",
    "     temp_df = pd.DataFrame(data_dest[i]['destination']).transpose().reset_index().rename(columns=column_names_dict)\n",
    "     temp_df['vin'] = data[i][\"_id\"]\n",
    "     df_dest = df_dest.append(temp_df, ignore_index=True)\n",
    "df_dest['seq'] = df_dest['seq'].astype(int)\n",
    "df_dest.to_csv(\"C:/Users/Yusuf/Documents/Delete/dest_raw_all_df.csv\")\n",
    "raw_dest_dwell_df = df_dest.merge(df.reset_index(drop=True),on=['vin','seq'], how='inner')\n",
    "raw_dest_dwell_viz_df = raw_dest_dwell_df[['latitude','longitude','vin','start_timestamp','end_timestamp','arrival_hour']]\n",
    "raw_dest_dwell_viz_df.to_csv(\"C:/Users/Yusuf/Documents/Delete/raw_dest_dwell_viz_df.csv\",index=0)"
   ]
  }
 ]
}