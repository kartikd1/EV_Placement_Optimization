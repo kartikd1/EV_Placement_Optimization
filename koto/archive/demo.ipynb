{
 "metadata": {
  "language_info": {
   "codemirror_mode": {
    "name": "ipython",
    "version": 3
   },
   "file_extension": ".py",
   "mimetype": "text/x-python",
   "name": "python",
   "nbconvert_exporter": "python",
   "pygments_lexer": "ipython3",
   "version": "3.7.4-final"
  },
  "orig_nbformat": 2,
  "kernelspec": {
   "name": "Python 3.7.4 64-bit ('base': conda)",
   "display_name": "Python 3.7.4 64-bit ('base': conda)",
   "metadata": {
    "interpreter": {
     "hash": "ec724a384a8a1e6d6f12b13c482fc0bc59a3a66b5056119197f9feebee17befe"
    }
   }
  }
 },
 "nbformat": 4,
 "nbformat_minor": 2,
 "cells": [
  {
   "cell_type": "code",
   "execution_count": 1,
   "metadata": {},
   "outputs": [],
   "source": [
    "import kotoTelematics as kt"
   ]
  },
  {
   "source": [
    "\"\"\"\n",
    "\n",
    "1) Instantiate a class of telematics, which generates the headers that will be used to call the API\n",
    "\n",
    "2) Either set argument access_token to your generated access token OR Create a text file in your working directory, and put your access token in there, and then set access_token_file to the text file name containing your token\n",
    "\n",
    "\"\"\""
   ],
   "cell_type": "code",
   "metadata": {},
   "execution_count": null,
   "outputs": []
  },
  {
   "cell_type": "code",
   "execution_count": 2,
   "metadata": {},
   "outputs": [],
   "source": [
    "#Store your telematics object\n",
    "    #See __init__ method doc string for more info\n",
    "kt_obj = kt.telematics(access_token_file=\"access_token.txt\")"
   ]
  },
  {
   "source": [
    "\"\"\"\n",
    "Now your telematics object is created, it has class methods: vin_table_request, ts_table_request, ts_table_scrape\n",
    "\n",
    "The vin_table_request method, makes a single call to the API, and only accepts fetch_size and columns as parameters.\n",
    "\n",
    "The ts_table_request method, make a single call to the API, and accepts fetch_size, columns, as well as min and max timestamps as parameters. Because timestamp is returned in UTC, in milliseconds, the function also formats the timestamp for EST. Our data spans beyond that, but for our purposes we will only be considering data within the Columbus region.\n",
    "\n",
    "The ts_table_scrape method, uses the ts_table_request method, it makes a call to the API, passing your provided start time and date. Additionally, this method needs a window of time specified in minutes. This creates a max time and max date parameter which get used by the ts_table_request method.\n",
    "\"\"\""
   ],
   "cell_type": "code",
   "metadata": {},
   "execution_count": 3,
   "outputs": [
    {
     "output_type": "execute_result",
     "data": {
      "text/plain": [
       "'\\nNow your telematics object is created, it has class methods: vin_table_request, ts_table_request, ts_table_scrape\\n\\nThe vin_table_request method, makes a single call to the API, and only accepts fetch_size and columns as parameters.\\n\\nThe ts_table_request method, make a single call to the API, and accepts fetch_size, columns, as well as min and max timestamps as parameters. Because timestamp is returned in UTC, in milliseconds, the function also formats the timestamp for EST. Our data spans beyond that, but for our purposes we will only be considering data within the Columbus region.\\n\\nThe ts_table_scrape method, uses the ts_table_request method, it makes a call to the API, passing your provided start time and date. Additionally, this method needs a window of time specified in minutes. This creates a max time and max date parameter which get used by the ts_table_request method.\\n'"
      ]
     },
     "metadata": {},
     "execution_count": 3
    }
   ]
  },
  {
   "cell_type": "code",
   "execution_count": null,
   "metadata": {},
   "outputs": [],
   "source": [
    "\"\"\"\n",
    "Using the Destination Collector as an example, the destination collector needs the following columns:\n",
    "'vin', 'navigation_location_coordinate_longitude', 'navigation_location_coordinate_latitude', 'sequence'\n",
    "\"\"\""
   ]
  },
  {
   "cell_type": "code",
   "execution_count": 4,
   "metadata": {},
   "outputs": [],
   "source": [
    "#Specify the columns that your query function will use\n",
    "columns = ['vin', 'navigation_location_coordinate_longitude', 'navigation_location_coordinate_latitude', 'sequence']"
   ]
  },
  {
   "cell_type": "code",
   "execution_count": 11,
   "metadata": {},
   "outputs": [],
   "source": [
    "#Example using the vin_table_request\n",
    "vin_response_object = kt_obj.vin_table_request(fetch_size=5, columns=columns)"
   ]
  },
  {
   "cell_type": "code",
   "execution_count": 13,
   "metadata": {},
   "outputs": [
    {
     "output_type": "execute_result",
     "data": {
      "text/plain": [
       "[{'vin': '0001556fa4a96efdfb0e6f9c079d2fa5',\n",
       "  'navigation_location_coordinate_longitude': None,\n",
       "  'navigation_location_coordinate_latitude': None,\n",
       "  'sequence': 38,\n",
       "  'timestamp': 1578884537680},\n",
       " {'vin': '0001556fa4a96efdfb0e6f9c079d2fa5',\n",
       "  'navigation_location_coordinate_longitude': None,\n",
       "  'navigation_location_coordinate_latitude': None,\n",
       "  'sequence': 38,\n",
       "  'timestamp': 1578884609995},\n",
       " {'vin': '0001556fa4a96efdfb0e6f9c079d2fa5',\n",
       "  'navigation_location_coordinate_longitude': None,\n",
       "  'navigation_location_coordinate_latitude': None,\n",
       "  'sequence': 38,\n",
       "  'timestamp': 1578884610501},\n",
       " {'vin': '0001556fa4a96efdfb0e6f9c079d2fa5',\n",
       "  'navigation_location_coordinate_longitude': -96.7078114,\n",
       "  'navigation_location_coordinate_latitude': 33.1249199,\n",
       "  'sequence': 38,\n",
       "  'timestamp': 1578884639887},\n",
       " {'vin': '0001556fa4a96efdfb0e6f9c079d2fa5',\n",
       "  'navigation_location_coordinate_longitude': None,\n",
       "  'navigation_location_coordinate_latitude': None,\n",
       "  'sequence': 38,\n",
       "  'timestamp': 1578884651770}]"
      ]
     },
     "metadata": {},
     "execution_count": 13
    }
   ],
   "source": [
    "#As you can see not every value is going to have the the value we're looking for, this is a feature of the onboard telematics data itself, where it only populates some values, in a future version of the API this will be collated to remove unneccesary records, right now the data in it's rawest form\n",
    "\n",
    "vin_response_object"
   ]
  },
  {
   "cell_type": "code",
   "execution_count": 16,
   "metadata": {},
   "outputs": [],
   "source": [
    "#Example using the vin_table_request\n",
    "    #Note that timestamp doesn't need to be specified as a selected column, the function will add it itself if not specified\n",
    "ts_response_object = kt_obj.ts_table_request(fetch_size=3, columns=columns, min_date='2020-01-12', max_date='2020-01-13')"
   ]
  },
  {
   "cell_type": "code",
   "execution_count": 17,
   "metadata": {},
   "outputs": [
    {
     "output_type": "execute_result",
     "data": {
      "text/plain": [
       "[{'vin': '0001556fa4a96efdfb0e6f9c079d2fa5',\n",
       "  'navigation_location_coordinate_longitude': None,\n",
       "  'navigation_location_coordinate_latitude': None,\n",
       "  'sequence': 38,\n",
       "  'timestamp': '2020-01-12 22:02:17 EST'},\n",
       " {'vin': '0001556fa4a96efdfb0e6f9c079d2fa5',\n",
       "  'navigation_location_coordinate_longitude': None,\n",
       "  'navigation_location_coordinate_latitude': None,\n",
       "  'sequence': 38,\n",
       "  'timestamp': '2020-01-12 22:03:29 EST'},\n",
       " {'vin': '0001556fa4a96efdfb0e6f9c079d2fa5',\n",
       "  'navigation_location_coordinate_longitude': None,\n",
       "  'navigation_location_coordinate_latitude': None,\n",
       "  'sequence': 38,\n",
       "  'timestamp': '2020-01-12 22:03:30 EST'}]"
      ]
     },
     "metadata": {},
     "execution_count": 17
    }
   ],
   "source": [
    "ts_response_object"
   ]
  },
  {
   "cell_type": "code",
   "execution_count": 7,
   "metadata": {},
   "outputs": [
    {
     "output_type": "stream",
     "name": "stdout",
     "text": [
      "{'099bb2badfc668ae2b230e4ddc44c2c1': {'540': [40.0634273, -82.9526528]}}\n",
      "{'099bb2badfc668ae2b230e4ddc44c2c1': {'540': [40.0635917, -82.9526392]}}\n",
      "{'099bb2badfc668ae2b230e4ddc44c2c1': {'540': [40.0637569, -82.9526265]}}\n",
      "{'065b3e933a8e935a71284dfed5d41a38': {'136': [40.0291941, -83.1205772]}}\n",
      "{'065b3e933a8e935a71284dfed5d41a38': {'136': [40.0293109, -83.1205999]}}\n",
      "{'065b3e933a8e935a71284dfed5d41a38': {'136': [39.9732983, -83.1528167]}}\n"
     ]
    }
   ],
   "source": [
    "#Example Using ts_table_scrape with demo function\n",
    "    #See doc string for more detailed info\n",
    "ts_scrape_response_object = kt_obj.ts_table_scrape(\\\n",
    "    fetch_size=5, \\\n",
    "    #This specifies how many times the window should be pushed forward\n",
    "    n_loops=5, \\\n",
    "    columns=columns, \\\n",
    "    start_date=\"2020-01-12\", \\\n",
    "    #This specifies the range of the time window to be called in minutes\n",
    "    time_window=10, \\\n",
    "    #This applies the destination collector static method to every response\n",
    "    functions=[kt_obj.destination_collector_demo])\n",
    "\n",
    "#Any functions like \"destination_collector_demo\" need to be written to iteratively aggregate the answer\n",
    "#Meaning, that it needs to be able see a parse a single response from the API for the useful information\n",
    "#Then it needs to store and update the intermediate data structure as per a data handler"
   ]
  },
  {
   "cell_type": "code",
   "execution_count": null,
   "metadata": {},
   "outputs": [],
   "source": [
    "\"\"\"\n",
    "As you can see from the output, it collects the sequence and location by vin\n",
    "Then the data handler function stores in the data, where it contionously updates the location for the sequence+vin pair\n",
    "Because our data is arranged by timestamp, this means that the last location for a sequence+vin will be it's destination\n",
    "\"\"\""
   ]
  }
 ]
}