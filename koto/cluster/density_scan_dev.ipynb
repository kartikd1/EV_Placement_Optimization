{
 "metadata": {
  "language_info": {
   "codemirror_mode": {
    "name": "ipython",
    "version": 3
   },
   "file_extension": ".py",
   "mimetype": "text/x-python",
   "name": "python",
   "nbconvert_exporter": "python",
   "pygments_lexer": "ipython3",
   "version": "3.7.4-final"
  },
  "orig_nbformat": 2,
  "kernelspec": {
   "name": "python3",
   "display_name": "Python 3"
  }
 },
 "nbformat": 4,
 "nbformat_minor": 2,
 "cells": [
  {
   "cell_type": "code",
   "execution_count": 4,
   "metadata": {},
   "outputs": [],
   "source": [
    "import pandas as pd\n",
    "from sklearn.cluster import DBSCAN\n",
    "import json\n",
    "import os"
   ]
  },
  {
   "cell_type": "code",
   "execution_count": 9,
   "metadata": {},
   "outputs": [
    {
     "output_type": "execute_result",
     "data": {
      "text/plain": [
       "'c:\\\\Users\\\\Yusuf\\\\Desktop\\\\GA-Tech\\\\CSE6242\\\\Project\\\\Koto_Repo\\\\telematics'"
      ]
     },
     "metadata": {},
     "execution_count": 9
    }
   ],
   "source": [
    "os.path.dirname(os.path.dirname(os.getcwd()))"
   ]
  },
  {
   "cell_type": "code",
   "execution_count": 10,
   "metadata": {},
   "outputs": [],
   "source": [
    "path = \"c:\\\\Users\\\\Yusuf\\\\Desktop\\\\GA-Tech\\\\CSE6242\\\\Project\\\\Koto_Repo\\\\telematics\\\\\""
   ]
  },
  {
   "cell_type": "code",
   "execution_count": 11,
   "metadata": {},
   "outputs": [],
   "source": [
    "#Mongo Unpacker\n",
    "data = [json.loads(line) for line in open(path+'dwellTimes.json', 'r')]"
   ]
  },
  {
   "cell_type": "code",
   "execution_count": 30,
   "metadata": {},
   "outputs": [],
   "source": [
    "df = pd.DataFrame(columns = ['seq', 'start_timestamp', 'end_timestamp','vin'])\n",
    "column_names_dict = columns={'index':'seq',0:'start_timestamp',1:\"end_timestamp\"}\n",
    "for i in range(len(data)):\n",
    "     temp_df = pd.DataFrame(data[i]['dwell']).transpose().reset_index().rename(columns=column_names_dict)\n",
    "     temp_df['vin'] = data[i][\"_id\"]\n",
    "     df = df.append(temp_df, ignore_index=True)"
   ]
  },
  {
   "cell_type": "code",
   "execution_count": 32,
   "metadata": {},
   "outputs": [
    {
     "output_type": "execute_result",
     "data": {
      "text/plain": [
       "    seq          start_timestamp            end_timestamp  \\\n",
       "0  1338  2020-01-09 19:00:00 EST  2020-01-09 19:33:29 EST   \n",
       "1  1340  2020-01-09 20:35:48 EST  2020-01-09 22:11:36 EST   \n",
       "2  1341  2020-01-10 05:19:27 EST  2020-01-10 05:25:25 EST   \n",
       "3  1343  2020-01-10 05:36:52 EST  2020-01-10 05:40:39 EST   \n",
       "4  1344  2020-01-10 09:34:54 EST  2020-01-10 11:59:28 EST   \n",
       "\n",
       "                                vin  \n",
       "0  070aac90eee9f2eaf444a1ccbb894df0  \n",
       "1  070aac90eee9f2eaf444a1ccbb894df0  \n",
       "2  070aac90eee9f2eaf444a1ccbb894df0  \n",
       "3  070aac90eee9f2eaf444a1ccbb894df0  \n",
       "4  070aac90eee9f2eaf444a1ccbb894df0  "
      ],
      "text/html": "<div>\n<style scoped>\n    .dataframe tbody tr th:only-of-type {\n        vertical-align: middle;\n    }\n\n    .dataframe tbody tr th {\n        vertical-align: top;\n    }\n\n    .dataframe thead th {\n        text-align: right;\n    }\n</style>\n<table border=\"1\" class=\"dataframe\">\n  <thead>\n    <tr style=\"text-align: right;\">\n      <th></th>\n      <th>seq</th>\n      <th>start_timestamp</th>\n      <th>end_timestamp</th>\n      <th>vin</th>\n    </tr>\n  </thead>\n  <tbody>\n    <tr>\n      <th>0</th>\n      <td>1338</td>\n      <td>2020-01-09 19:00:00 EST</td>\n      <td>2020-01-09 19:33:29 EST</td>\n      <td>070aac90eee9f2eaf444a1ccbb894df0</td>\n    </tr>\n    <tr>\n      <th>1</th>\n      <td>1340</td>\n      <td>2020-01-09 20:35:48 EST</td>\n      <td>2020-01-09 22:11:36 EST</td>\n      <td>070aac90eee9f2eaf444a1ccbb894df0</td>\n    </tr>\n    <tr>\n      <th>2</th>\n      <td>1341</td>\n      <td>2020-01-10 05:19:27 EST</td>\n      <td>2020-01-10 05:25:25 EST</td>\n      <td>070aac90eee9f2eaf444a1ccbb894df0</td>\n    </tr>\n    <tr>\n      <th>3</th>\n      <td>1343</td>\n      <td>2020-01-10 05:36:52 EST</td>\n      <td>2020-01-10 05:40:39 EST</td>\n      <td>070aac90eee9f2eaf444a1ccbb894df0</td>\n    </tr>\n    <tr>\n      <th>4</th>\n      <td>1344</td>\n      <td>2020-01-10 09:34:54 EST</td>\n      <td>2020-01-10 11:59:28 EST</td>\n      <td>070aac90eee9f2eaf444a1ccbb894df0</td>\n    </tr>\n  </tbody>\n</table>\n</div>"
     },
     "metadata": {},
     "execution_count": 32
    }
   ],
   "source": [
    "df.head()"
   ]
  },
  {
   "cell_type": "code",
   "execution_count": 41,
   "metadata": {},
   "outputs": [],
   "source": [
    "df2 = df.copy()"
   ]
  },
  {
   "cell_type": "code",
   "execution_count": 42,
   "metadata": {},
   "outputs": [],
   "source": [
    "df2 = df2.astype({'seq':'int64'})\n",
    "df2['start_timestamp'] = pd.to_datetime(df2['start_timestamp'])\n",
    "df2['end_timestamp'] = pd.to_datetime(df2['end_timestamp'])"
   ]
  },
  {
   "cell_type": "code",
   "execution_count": 54,
   "metadata": {},
   "outputs": [],
   "source": [
    "df2['arrival_hour'] = df2[\"start_timestamp\"].dt.hour\n",
    "df2['arrival_date'] = df2[\"start_timestamp\"].dt.date\n",
    "df2['arrival_day'] = df2[\"start_timestamp\"].dt.day_name()\n",
    "df2['trip_time'] = df2['end_timestamp'] - df2['start_timestamp']\n",
    "df2 = df2.sort_values(by =['vin','seq'])"
   ]
  },
  {
   "cell_type": "code",
   "execution_count": 65,
   "metadata": {},
   "outputs": [],
   "source": [
    "df2[\"next_trip_start_timestamp\"] = df2[\"start_timestamp\"].shift(periods=-1)\n",
    "df2[\"next_trip_seq\"] = df2['seq'].shift(periods=-1)\n",
    "df2[\"dwell_time\"] = df2['next_trip_start_timestamp'] - df2['end_timestamp']\n",
    "df2['seq_diff'] = df2['next_trip_seq'] - df2['seq']"
   ]
  },
  {
   "cell_type": "code",
   "execution_count": 66,
   "metadata": {},
   "outputs": [
    {
     "output_type": "execute_result",
     "data": {
      "text/plain": [
       "       seq     start_timestamp       end_timestamp  \\\n",
       "35515   38 2020-01-12 22:02:17 2020-01-12 22:11:49   \n",
       "35516   40 2020-01-13 12:21:14 2020-01-13 12:28:51   \n",
       "35517   41 2020-01-13 14:02:56 2020-01-13 14:10:37   \n",
       "35518   42 2020-01-13 14:17:32 2020-01-13 14:26:23   \n",
       "35519   43 2020-01-13 14:49:29                 NaT   \n",
       "35520   44 2020-01-13 15:34:58 2020-01-13 15:38:32   \n",
       "35521   45 2020-01-13 17:54:20 2020-01-13 18:01:28   \n",
       "49077  188 2020-01-13 08:51:59 2020-01-13 08:55:04   \n",
       "49078  189 2020-01-13 09:00:21 2020-01-13 09:41:41   \n",
       "49079  190 2020-01-13 17:46:48 2020-01-13 18:25:33   \n",
       "49080  191 2020-01-13 18:36:26 2020-01-13 18:39:01   \n",
       "52758  732 2020-01-13 10:08:07 2020-01-13 10:12:28   \n",
       "52759  733 2020-01-13 14:05:07 2020-01-13 14:07:14   \n",
       "28929  899 2020-01-12 19:34:11 2020-01-12 19:36:22   \n",
       "28930  901 2020-01-12 19:43:37                 NaT   \n",
       "28931  902 2020-01-12 19:52:02 2020-01-12 19:57:42   \n",
       "28932  904 2020-01-13 07:49:35 2020-01-13 08:00:47   \n",
       "28933  905 2020-01-13 16:05:48 2020-01-13 16:18:30   \n",
       "31800  399 2020-01-12 20:17:10 2020-01-12 22:38:08   \n",
       "47422  445 2020-01-13 08:38:52 2020-01-13 10:20:30   \n",
       "\n",
       "                                    vin  arrival_hour arrival_date  \\\n",
       "35515  0001556fa4a96efdfb0e6f9c079d2fa5            22   2020-01-12   \n",
       "35516  0001556fa4a96efdfb0e6f9c079d2fa5            12   2020-01-13   \n",
       "35517  0001556fa4a96efdfb0e6f9c079d2fa5            14   2020-01-13   \n",
       "35518  0001556fa4a96efdfb0e6f9c079d2fa5            14   2020-01-13   \n",
       "35519  0001556fa4a96efdfb0e6f9c079d2fa5            14   2020-01-13   \n",
       "35520  0001556fa4a96efdfb0e6f9c079d2fa5            15   2020-01-13   \n",
       "35521  0001556fa4a96efdfb0e6f9c079d2fa5            17   2020-01-13   \n",
       "49077  00031615f0951f21287dc118a163dee3             8   2020-01-13   \n",
       "49078  00031615f0951f21287dc118a163dee3             9   2020-01-13   \n",
       "49079  00031615f0951f21287dc118a163dee3            17   2020-01-13   \n",
       "49080  00031615f0951f21287dc118a163dee3            18   2020-01-13   \n",
       "52758  00089af9f7d3588a888379cf0ffc53cc            10   2020-01-13   \n",
       "52759  00089af9f7d3588a888379cf0ffc53cc            14   2020-01-13   \n",
       "28929  000b56dd77e25953bc2df3b23cfb8737            19   2020-01-12   \n",
       "28930  000b56dd77e25953bc2df3b23cfb8737            19   2020-01-12   \n",
       "28931  000b56dd77e25953bc2df3b23cfb8737            19   2020-01-12   \n",
       "28932  000b56dd77e25953bc2df3b23cfb8737             7   2020-01-13   \n",
       "28933  000b56dd77e25953bc2df3b23cfb8737            16   2020-01-13   \n",
       "31800  000bbad21f682a27a26b62b9305506cc            20   2020-01-12   \n",
       "47422  000f119dfb2d5381bc8fe3bfbfc4f4a7             8   2020-01-13   \n",
       "\n",
       "      arrival_day       trip_time next_trip_start_timestamp  next_trip_seq  \\\n",
       "35515      Sunday 0 days 00:09:32       2020-01-13 12:21:14           40.0   \n",
       "35516      Monday 0 days 00:07:37       2020-01-13 14:02:56           41.0   \n",
       "35517      Monday 0 days 00:07:41       2020-01-13 14:17:32           42.0   \n",
       "35518      Monday 0 days 00:08:51       2020-01-13 14:49:29           43.0   \n",
       "35519      Monday             NaT       2020-01-13 15:34:58           44.0   \n",
       "35520      Monday 0 days 00:03:34       2020-01-13 17:54:20           45.0   \n",
       "35521      Monday 0 days 00:07:08       2020-01-13 08:51:59          188.0   \n",
       "49077      Monday 0 days 00:03:05       2020-01-13 09:00:21          189.0   \n",
       "49078      Monday 0 days 00:41:20       2020-01-13 17:46:48          190.0   \n",
       "49079      Monday 0 days 00:38:45       2020-01-13 18:36:26          191.0   \n",
       "49080      Monday 0 days 00:02:35       2020-01-13 10:08:07          732.0   \n",
       "52758      Monday 0 days 00:04:21       2020-01-13 14:05:07          733.0   \n",
       "52759      Monday 0 days 00:02:07       2020-01-12 19:34:11          899.0   \n",
       "28929      Sunday 0 days 00:02:11       2020-01-12 19:43:37          901.0   \n",
       "28930      Sunday             NaT       2020-01-12 19:52:02          902.0   \n",
       "28931      Sunday 0 days 00:05:40       2020-01-13 07:49:35          904.0   \n",
       "28932      Monday 0 days 00:11:12       2020-01-13 16:05:48          905.0   \n",
       "28933      Monday 0 days 00:12:42       2020-01-12 20:17:10          399.0   \n",
       "31800      Sunday 0 days 02:20:58       2020-01-13 08:38:52          445.0   \n",
       "47422      Monday 0 days 01:41:38       2020-01-13 10:24:18          446.0   \n",
       "\n",
       "             dwell_time  seq_diff  \n",
       "35515   0 days 14:09:25       2.0  \n",
       "35516   0 days 01:34:05       1.0  \n",
       "35517   0 days 00:06:55       1.0  \n",
       "35518   0 days 00:23:06       1.0  \n",
       "35519               NaT       1.0  \n",
       "35520   0 days 02:15:48       1.0  \n",
       "35521 -1 days +14:50:31     143.0  \n",
       "49077   0 days 00:05:17       1.0  \n",
       "49078   0 days 08:05:07       1.0  \n",
       "49079   0 days 00:10:53       1.0  \n",
       "49080 -1 days +15:29:06     541.0  \n",
       "52758   0 days 03:52:39       1.0  \n",
       "52759 -1 days +05:26:57     166.0  \n",
       "28929   0 days 00:07:15       2.0  \n",
       "28930               NaT       1.0  \n",
       "28931   0 days 11:51:53       2.0  \n",
       "28932   0 days 08:05:01       1.0  \n",
       "28933 -1 days +03:58:40    -506.0  \n",
       "31800   0 days 10:00:44      46.0  \n",
       "47422   0 days 00:03:48       1.0  "
      ],
      "text/html": "<div>\n<style scoped>\n    .dataframe tbody tr th:only-of-type {\n        vertical-align: middle;\n    }\n\n    .dataframe tbody tr th {\n        vertical-align: top;\n    }\n\n    .dataframe thead th {\n        text-align: right;\n    }\n</style>\n<table border=\"1\" class=\"dataframe\">\n  <thead>\n    <tr style=\"text-align: right;\">\n      <th></th>\n      <th>seq</th>\n      <th>start_timestamp</th>\n      <th>end_timestamp</th>\n      <th>vin</th>\n      <th>arrival_hour</th>\n      <th>arrival_date</th>\n      <th>arrival_day</th>\n      <th>trip_time</th>\n      <th>next_trip_start_timestamp</th>\n      <th>next_trip_seq</th>\n      <th>dwell_time</th>\n      <th>seq_diff</th>\n    </tr>\n  </thead>\n  <tbody>\n    <tr>\n      <th>35515</th>\n      <td>38</td>\n      <td>2020-01-12 22:02:17</td>\n      <td>2020-01-12 22:11:49</td>\n      <td>0001556fa4a96efdfb0e6f9c079d2fa5</td>\n      <td>22</td>\n      <td>2020-01-12</td>\n      <td>Sunday</td>\n      <td>0 days 00:09:32</td>\n      <td>2020-01-13 12:21:14</td>\n      <td>40.0</td>\n      <td>0 days 14:09:25</td>\n      <td>2.0</td>\n    </tr>\n    <tr>\n      <th>35516</th>\n      <td>40</td>\n      <td>2020-01-13 12:21:14</td>\n      <td>2020-01-13 12:28:51</td>\n      <td>0001556fa4a96efdfb0e6f9c079d2fa5</td>\n      <td>12</td>\n      <td>2020-01-13</td>\n      <td>Monday</td>\n      <td>0 days 00:07:37</td>\n      <td>2020-01-13 14:02:56</td>\n      <td>41.0</td>\n      <td>0 days 01:34:05</td>\n      <td>1.0</td>\n    </tr>\n    <tr>\n      <th>35517</th>\n      <td>41</td>\n      <td>2020-01-13 14:02:56</td>\n      <td>2020-01-13 14:10:37</td>\n      <td>0001556fa4a96efdfb0e6f9c079d2fa5</td>\n      <td>14</td>\n      <td>2020-01-13</td>\n      <td>Monday</td>\n      <td>0 days 00:07:41</td>\n      <td>2020-01-13 14:17:32</td>\n      <td>42.0</td>\n      <td>0 days 00:06:55</td>\n      <td>1.0</td>\n    </tr>\n    <tr>\n      <th>35518</th>\n      <td>42</td>\n      <td>2020-01-13 14:17:32</td>\n      <td>2020-01-13 14:26:23</td>\n      <td>0001556fa4a96efdfb0e6f9c079d2fa5</td>\n      <td>14</td>\n      <td>2020-01-13</td>\n      <td>Monday</td>\n      <td>0 days 00:08:51</td>\n      <td>2020-01-13 14:49:29</td>\n      <td>43.0</td>\n      <td>0 days 00:23:06</td>\n      <td>1.0</td>\n    </tr>\n    <tr>\n      <th>35519</th>\n      <td>43</td>\n      <td>2020-01-13 14:49:29</td>\n      <td>NaT</td>\n      <td>0001556fa4a96efdfb0e6f9c079d2fa5</td>\n      <td>14</td>\n      <td>2020-01-13</td>\n      <td>Monday</td>\n      <td>NaT</td>\n      <td>2020-01-13 15:34:58</td>\n      <td>44.0</td>\n      <td>NaT</td>\n      <td>1.0</td>\n    </tr>\n    <tr>\n      <th>35520</th>\n      <td>44</td>\n      <td>2020-01-13 15:34:58</td>\n      <td>2020-01-13 15:38:32</td>\n      <td>0001556fa4a96efdfb0e6f9c079d2fa5</td>\n      <td>15</td>\n      <td>2020-01-13</td>\n      <td>Monday</td>\n      <td>0 days 00:03:34</td>\n      <td>2020-01-13 17:54:20</td>\n      <td>45.0</td>\n      <td>0 days 02:15:48</td>\n      <td>1.0</td>\n    </tr>\n    <tr>\n      <th>35521</th>\n      <td>45</td>\n      <td>2020-01-13 17:54:20</td>\n      <td>2020-01-13 18:01:28</td>\n      <td>0001556fa4a96efdfb0e6f9c079d2fa5</td>\n      <td>17</td>\n      <td>2020-01-13</td>\n      <td>Monday</td>\n      <td>0 days 00:07:08</td>\n      <td>2020-01-13 08:51:59</td>\n      <td>188.0</td>\n      <td>-1 days +14:50:31</td>\n      <td>143.0</td>\n    </tr>\n    <tr>\n      <th>49077</th>\n      <td>188</td>\n      <td>2020-01-13 08:51:59</td>\n      <td>2020-01-13 08:55:04</td>\n      <td>00031615f0951f21287dc118a163dee3</td>\n      <td>8</td>\n      <td>2020-01-13</td>\n      <td>Monday</td>\n      <td>0 days 00:03:05</td>\n      <td>2020-01-13 09:00:21</td>\n      <td>189.0</td>\n      <td>0 days 00:05:17</td>\n      <td>1.0</td>\n    </tr>\n    <tr>\n      <th>49078</th>\n      <td>189</td>\n      <td>2020-01-13 09:00:21</td>\n      <td>2020-01-13 09:41:41</td>\n      <td>00031615f0951f21287dc118a163dee3</td>\n      <td>9</td>\n      <td>2020-01-13</td>\n      <td>Monday</td>\n      <td>0 days 00:41:20</td>\n      <td>2020-01-13 17:46:48</td>\n      <td>190.0</td>\n      <td>0 days 08:05:07</td>\n      <td>1.0</td>\n    </tr>\n    <tr>\n      <th>49079</th>\n      <td>190</td>\n      <td>2020-01-13 17:46:48</td>\n      <td>2020-01-13 18:25:33</td>\n      <td>00031615f0951f21287dc118a163dee3</td>\n      <td>17</td>\n      <td>2020-01-13</td>\n      <td>Monday</td>\n      <td>0 days 00:38:45</td>\n      <td>2020-01-13 18:36:26</td>\n      <td>191.0</td>\n      <td>0 days 00:10:53</td>\n      <td>1.0</td>\n    </tr>\n    <tr>\n      <th>49080</th>\n      <td>191</td>\n      <td>2020-01-13 18:36:26</td>\n      <td>2020-01-13 18:39:01</td>\n      <td>00031615f0951f21287dc118a163dee3</td>\n      <td>18</td>\n      <td>2020-01-13</td>\n      <td>Monday</td>\n      <td>0 days 00:02:35</td>\n      <td>2020-01-13 10:08:07</td>\n      <td>732.0</td>\n      <td>-1 days +15:29:06</td>\n      <td>541.0</td>\n    </tr>\n    <tr>\n      <th>52758</th>\n      <td>732</td>\n      <td>2020-01-13 10:08:07</td>\n      <td>2020-01-13 10:12:28</td>\n      <td>00089af9f7d3588a888379cf0ffc53cc</td>\n      <td>10</td>\n      <td>2020-01-13</td>\n      <td>Monday</td>\n      <td>0 days 00:04:21</td>\n      <td>2020-01-13 14:05:07</td>\n      <td>733.0</td>\n      <td>0 days 03:52:39</td>\n      <td>1.0</td>\n    </tr>\n    <tr>\n      <th>52759</th>\n      <td>733</td>\n      <td>2020-01-13 14:05:07</td>\n      <td>2020-01-13 14:07:14</td>\n      <td>00089af9f7d3588a888379cf0ffc53cc</td>\n      <td>14</td>\n      <td>2020-01-13</td>\n      <td>Monday</td>\n      <td>0 days 00:02:07</td>\n      <td>2020-01-12 19:34:11</td>\n      <td>899.0</td>\n      <td>-1 days +05:26:57</td>\n      <td>166.0</td>\n    </tr>\n    <tr>\n      <th>28929</th>\n      <td>899</td>\n      <td>2020-01-12 19:34:11</td>\n      <td>2020-01-12 19:36:22</td>\n      <td>000b56dd77e25953bc2df3b23cfb8737</td>\n      <td>19</td>\n      <td>2020-01-12</td>\n      <td>Sunday</td>\n      <td>0 days 00:02:11</td>\n      <td>2020-01-12 19:43:37</td>\n      <td>901.0</td>\n      <td>0 days 00:07:15</td>\n      <td>2.0</td>\n    </tr>\n    <tr>\n      <th>28930</th>\n      <td>901</td>\n      <td>2020-01-12 19:43:37</td>\n      <td>NaT</td>\n      <td>000b56dd77e25953bc2df3b23cfb8737</td>\n      <td>19</td>\n      <td>2020-01-12</td>\n      <td>Sunday</td>\n      <td>NaT</td>\n      <td>2020-01-12 19:52:02</td>\n      <td>902.0</td>\n      <td>NaT</td>\n      <td>1.0</td>\n    </tr>\n    <tr>\n      <th>28931</th>\n      <td>902</td>\n      <td>2020-01-12 19:52:02</td>\n      <td>2020-01-12 19:57:42</td>\n      <td>000b56dd77e25953bc2df3b23cfb8737</td>\n      <td>19</td>\n      <td>2020-01-12</td>\n      <td>Sunday</td>\n      <td>0 days 00:05:40</td>\n      <td>2020-01-13 07:49:35</td>\n      <td>904.0</td>\n      <td>0 days 11:51:53</td>\n      <td>2.0</td>\n    </tr>\n    <tr>\n      <th>28932</th>\n      <td>904</td>\n      <td>2020-01-13 07:49:35</td>\n      <td>2020-01-13 08:00:47</td>\n      <td>000b56dd77e25953bc2df3b23cfb8737</td>\n      <td>7</td>\n      <td>2020-01-13</td>\n      <td>Monday</td>\n      <td>0 days 00:11:12</td>\n      <td>2020-01-13 16:05:48</td>\n      <td>905.0</td>\n      <td>0 days 08:05:01</td>\n      <td>1.0</td>\n    </tr>\n    <tr>\n      <th>28933</th>\n      <td>905</td>\n      <td>2020-01-13 16:05:48</td>\n      <td>2020-01-13 16:18:30</td>\n      <td>000b56dd77e25953bc2df3b23cfb8737</td>\n      <td>16</td>\n      <td>2020-01-13</td>\n      <td>Monday</td>\n      <td>0 days 00:12:42</td>\n      <td>2020-01-12 20:17:10</td>\n      <td>399.0</td>\n      <td>-1 days +03:58:40</td>\n      <td>-506.0</td>\n    </tr>\n    <tr>\n      <th>31800</th>\n      <td>399</td>\n      <td>2020-01-12 20:17:10</td>\n      <td>2020-01-12 22:38:08</td>\n      <td>000bbad21f682a27a26b62b9305506cc</td>\n      <td>20</td>\n      <td>2020-01-12</td>\n      <td>Sunday</td>\n      <td>0 days 02:20:58</td>\n      <td>2020-01-13 08:38:52</td>\n      <td>445.0</td>\n      <td>0 days 10:00:44</td>\n      <td>46.0</td>\n    </tr>\n    <tr>\n      <th>47422</th>\n      <td>445</td>\n      <td>2020-01-13 08:38:52</td>\n      <td>2020-01-13 10:20:30</td>\n      <td>000f119dfb2d5381bc8fe3bfbfc4f4a7</td>\n      <td>8</td>\n      <td>2020-01-13</td>\n      <td>Monday</td>\n      <td>0 days 01:41:38</td>\n      <td>2020-01-13 10:24:18</td>\n      <td>446.0</td>\n      <td>0 days 00:03:48</td>\n      <td>1.0</td>\n    </tr>\n  </tbody>\n</table>\n</div>"
     },
     "metadata": {},
     "execution_count": 66
    }
   ],
   "source": [
    "df2.head(20)"
   ]
  },
  {
   "cell_type": "code",
   "execution_count": 68,
   "metadata": {},
   "outputs": [],
   "source": [
    "df3 = df2[df2['seq_diff'] == 1]\n",
    "df3 = df3.dropna()"
   ]
  },
  {
   "cell_type": "code",
   "execution_count": 69,
   "metadata": {},
   "outputs": [
    {
     "output_type": "execute_result",
     "data": {
      "text/plain": [
       "       seq     start_timestamp       end_timestamp  \\\n",
       "35516   40 2020-01-13 12:21:14 2020-01-13 12:28:51   \n",
       "35517   41 2020-01-13 14:02:56 2020-01-13 14:10:37   \n",
       "35518   42 2020-01-13 14:17:32 2020-01-13 14:26:23   \n",
       "35520   44 2020-01-13 15:34:58 2020-01-13 15:38:32   \n",
       "49077  188 2020-01-13 08:51:59 2020-01-13 08:55:04   \n",
       "49078  189 2020-01-13 09:00:21 2020-01-13 09:41:41   \n",
       "49079  190 2020-01-13 17:46:48 2020-01-13 18:25:33   \n",
       "52758  732 2020-01-13 10:08:07 2020-01-13 10:12:28   \n",
       "28932  904 2020-01-13 07:49:35 2020-01-13 08:00:47   \n",
       "47422  445 2020-01-13 08:38:52 2020-01-13 10:20:30   \n",
       "\n",
       "                                    vin  arrival_hour arrival_date  \\\n",
       "35516  0001556fa4a96efdfb0e6f9c079d2fa5            12   2020-01-13   \n",
       "35517  0001556fa4a96efdfb0e6f9c079d2fa5            14   2020-01-13   \n",
       "35518  0001556fa4a96efdfb0e6f9c079d2fa5            14   2020-01-13   \n",
       "35520  0001556fa4a96efdfb0e6f9c079d2fa5            15   2020-01-13   \n",
       "49077  00031615f0951f21287dc118a163dee3             8   2020-01-13   \n",
       "49078  00031615f0951f21287dc118a163dee3             9   2020-01-13   \n",
       "49079  00031615f0951f21287dc118a163dee3            17   2020-01-13   \n",
       "52758  00089af9f7d3588a888379cf0ffc53cc            10   2020-01-13   \n",
       "28932  000b56dd77e25953bc2df3b23cfb8737             7   2020-01-13   \n",
       "47422  000f119dfb2d5381bc8fe3bfbfc4f4a7             8   2020-01-13   \n",
       "\n",
       "      arrival_day       trip_time next_trip_start_timestamp  next_trip_seq  \\\n",
       "35516      Monday 0 days 00:07:37       2020-01-13 14:02:56           41.0   \n",
       "35517      Monday 0 days 00:07:41       2020-01-13 14:17:32           42.0   \n",
       "35518      Monday 0 days 00:08:51       2020-01-13 14:49:29           43.0   \n",
       "35520      Monday 0 days 00:03:34       2020-01-13 17:54:20           45.0   \n",
       "49077      Monday 0 days 00:03:05       2020-01-13 09:00:21          189.0   \n",
       "49078      Monday 0 days 00:41:20       2020-01-13 17:46:48          190.0   \n",
       "49079      Monday 0 days 00:38:45       2020-01-13 18:36:26          191.0   \n",
       "52758      Monday 0 days 00:04:21       2020-01-13 14:05:07          733.0   \n",
       "28932      Monday 0 days 00:11:12       2020-01-13 16:05:48          905.0   \n",
       "47422      Monday 0 days 01:41:38       2020-01-13 10:24:18          446.0   \n",
       "\n",
       "           dwell_time  seq_diff  \n",
       "35516 0 days 01:34:05       1.0  \n",
       "35517 0 days 00:06:55       1.0  \n",
       "35518 0 days 00:23:06       1.0  \n",
       "35520 0 days 02:15:48       1.0  \n",
       "49077 0 days 00:05:17       1.0  \n",
       "49078 0 days 08:05:07       1.0  \n",
       "49079 0 days 00:10:53       1.0  \n",
       "52758 0 days 03:52:39       1.0  \n",
       "28932 0 days 08:05:01       1.0  \n",
       "47422 0 days 00:03:48       1.0  "
      ],
      "text/html": "<div>\n<style scoped>\n    .dataframe tbody tr th:only-of-type {\n        vertical-align: middle;\n    }\n\n    .dataframe tbody tr th {\n        vertical-align: top;\n    }\n\n    .dataframe thead th {\n        text-align: right;\n    }\n</style>\n<table border=\"1\" class=\"dataframe\">\n  <thead>\n    <tr style=\"text-align: right;\">\n      <th></th>\n      <th>seq</th>\n      <th>start_timestamp</th>\n      <th>end_timestamp</th>\n      <th>vin</th>\n      <th>arrival_hour</th>\n      <th>arrival_date</th>\n      <th>arrival_day</th>\n      <th>trip_time</th>\n      <th>next_trip_start_timestamp</th>\n      <th>next_trip_seq</th>\n      <th>dwell_time</th>\n      <th>seq_diff</th>\n    </tr>\n  </thead>\n  <tbody>\n    <tr>\n      <th>35516</th>\n      <td>40</td>\n      <td>2020-01-13 12:21:14</td>\n      <td>2020-01-13 12:28:51</td>\n      <td>0001556fa4a96efdfb0e6f9c079d2fa5</td>\n      <td>12</td>\n      <td>2020-01-13</td>\n      <td>Monday</td>\n      <td>0 days 00:07:37</td>\n      <td>2020-01-13 14:02:56</td>\n      <td>41.0</td>\n      <td>0 days 01:34:05</td>\n      <td>1.0</td>\n    </tr>\n    <tr>\n      <th>35517</th>\n      <td>41</td>\n      <td>2020-01-13 14:02:56</td>\n      <td>2020-01-13 14:10:37</td>\n      <td>0001556fa4a96efdfb0e6f9c079d2fa5</td>\n      <td>14</td>\n      <td>2020-01-13</td>\n      <td>Monday</td>\n      <td>0 days 00:07:41</td>\n      <td>2020-01-13 14:17:32</td>\n      <td>42.0</td>\n      <td>0 days 00:06:55</td>\n      <td>1.0</td>\n    </tr>\n    <tr>\n      <th>35518</th>\n      <td>42</td>\n      <td>2020-01-13 14:17:32</td>\n      <td>2020-01-13 14:26:23</td>\n      <td>0001556fa4a96efdfb0e6f9c079d2fa5</td>\n      <td>14</td>\n      <td>2020-01-13</td>\n      <td>Monday</td>\n      <td>0 days 00:08:51</td>\n      <td>2020-01-13 14:49:29</td>\n      <td>43.0</td>\n      <td>0 days 00:23:06</td>\n      <td>1.0</td>\n    </tr>\n    <tr>\n      <th>35520</th>\n      <td>44</td>\n      <td>2020-01-13 15:34:58</td>\n      <td>2020-01-13 15:38:32</td>\n      <td>0001556fa4a96efdfb0e6f9c079d2fa5</td>\n      <td>15</td>\n      <td>2020-01-13</td>\n      <td>Monday</td>\n      <td>0 days 00:03:34</td>\n      <td>2020-01-13 17:54:20</td>\n      <td>45.0</td>\n      <td>0 days 02:15:48</td>\n      <td>1.0</td>\n    </tr>\n    <tr>\n      <th>49077</th>\n      <td>188</td>\n      <td>2020-01-13 08:51:59</td>\n      <td>2020-01-13 08:55:04</td>\n      <td>00031615f0951f21287dc118a163dee3</td>\n      <td>8</td>\n      <td>2020-01-13</td>\n      <td>Monday</td>\n      <td>0 days 00:03:05</td>\n      <td>2020-01-13 09:00:21</td>\n      <td>189.0</td>\n      <td>0 days 00:05:17</td>\n      <td>1.0</td>\n    </tr>\n    <tr>\n      <th>49078</th>\n      <td>189</td>\n      <td>2020-01-13 09:00:21</td>\n      <td>2020-01-13 09:41:41</td>\n      <td>00031615f0951f21287dc118a163dee3</td>\n      <td>9</td>\n      <td>2020-01-13</td>\n      <td>Monday</td>\n      <td>0 days 00:41:20</td>\n      <td>2020-01-13 17:46:48</td>\n      <td>190.0</td>\n      <td>0 days 08:05:07</td>\n      <td>1.0</td>\n    </tr>\n    <tr>\n      <th>49079</th>\n      <td>190</td>\n      <td>2020-01-13 17:46:48</td>\n      <td>2020-01-13 18:25:33</td>\n      <td>00031615f0951f21287dc118a163dee3</td>\n      <td>17</td>\n      <td>2020-01-13</td>\n      <td>Monday</td>\n      <td>0 days 00:38:45</td>\n      <td>2020-01-13 18:36:26</td>\n      <td>191.0</td>\n      <td>0 days 00:10:53</td>\n      <td>1.0</td>\n    </tr>\n    <tr>\n      <th>52758</th>\n      <td>732</td>\n      <td>2020-01-13 10:08:07</td>\n      <td>2020-01-13 10:12:28</td>\n      <td>00089af9f7d3588a888379cf0ffc53cc</td>\n      <td>10</td>\n      <td>2020-01-13</td>\n      <td>Monday</td>\n      <td>0 days 00:04:21</td>\n      <td>2020-01-13 14:05:07</td>\n      <td>733.0</td>\n      <td>0 days 03:52:39</td>\n      <td>1.0</td>\n    </tr>\n    <tr>\n      <th>28932</th>\n      <td>904</td>\n      <td>2020-01-13 07:49:35</td>\n      <td>2020-01-13 08:00:47</td>\n      <td>000b56dd77e25953bc2df3b23cfb8737</td>\n      <td>7</td>\n      <td>2020-01-13</td>\n      <td>Monday</td>\n      <td>0 days 00:11:12</td>\n      <td>2020-01-13 16:05:48</td>\n      <td>905.0</td>\n      <td>0 days 08:05:01</td>\n      <td>1.0</td>\n    </tr>\n    <tr>\n      <th>47422</th>\n      <td>445</td>\n      <td>2020-01-13 08:38:52</td>\n      <td>2020-01-13 10:20:30</td>\n      <td>000f119dfb2d5381bc8fe3bfbfc4f4a7</td>\n      <td>8</td>\n      <td>2020-01-13</td>\n      <td>Monday</td>\n      <td>0 days 01:41:38</td>\n      <td>2020-01-13 10:24:18</td>\n      <td>446.0</td>\n      <td>0 days 00:03:48</td>\n      <td>1.0</td>\n    </tr>\n  </tbody>\n</table>\n</div>"
     },
     "metadata": {},
     "execution_count": 69
    }
   ],
   "source": [
    "df3.head(10)"
   ]
  },
  {
   "cell_type": "code",
   "execution_count": 92,
   "metadata": {},
   "outputs": [],
   "source": [
    "dest_df = pd.read_csv(path+\"viz_df2.csv\")"
   ]
  },
  {
   "cell_type": "code",
   "execution_count": 93,
   "metadata": {},
   "outputs": [],
   "source": [
    "dest_df = dest_df.drop(['Unnamed: 0'], axis=1).rename(columns={\"Seq\":'seq'})"
   ]
  },
  {
   "cell_type": "code",
   "execution_count": 94,
   "metadata": {},
   "outputs": [
    {
     "output_type": "execute_result",
     "data": {
      "text/plain": [
       "   seq        Lat        Lon                               vin\n",
       "0   38  33.124920 -96.707811  0001556fa4a96efdfb0e6f9c079d2fa5\n",
       "1   40  33.105293 -96.684018  0001556fa4a96efdfb0e6f9c079d2fa5\n",
       "2   41  33.112107 -96.680864  0001556fa4a96efdfb0e6f9c079d2fa5\n",
       "3   42  33.141374 -96.677020  0001556fa4a96efdfb0e6f9c079d2fa5\n",
       "4   44  33.115048 -96.698311  0001556fa4a96efdfb0e6f9c079d2fa5\n",
       "5   45  33.120333 -96.680777  0001556fa4a96efdfb0e6f9c079d2fa5\n",
       "6  189  29.935532 -95.338827  00031615f0951f21287dc118a163dee3\n",
       "7  190  29.975509 -95.564244  00031615f0951f21287dc118a163dee3\n",
       "8  191  30.000294 -95.565431  00031615f0951f21287dc118a163dee3\n",
       "9  733  41.492962 -81.995163  00089af9f7d3588a888379cf0ffc53cc"
      ],
      "text/html": "<div>\n<style scoped>\n    .dataframe tbody tr th:only-of-type {\n        vertical-align: middle;\n    }\n\n    .dataframe tbody tr th {\n        vertical-align: top;\n    }\n\n    .dataframe thead th {\n        text-align: right;\n    }\n</style>\n<table border=\"1\" class=\"dataframe\">\n  <thead>\n    <tr style=\"text-align: right;\">\n      <th></th>\n      <th>seq</th>\n      <th>Lat</th>\n      <th>Lon</th>\n      <th>vin</th>\n    </tr>\n  </thead>\n  <tbody>\n    <tr>\n      <th>0</th>\n      <td>38</td>\n      <td>33.124920</td>\n      <td>-96.707811</td>\n      <td>0001556fa4a96efdfb0e6f9c079d2fa5</td>\n    </tr>\n    <tr>\n      <th>1</th>\n      <td>40</td>\n      <td>33.105293</td>\n      <td>-96.684018</td>\n      <td>0001556fa4a96efdfb0e6f9c079d2fa5</td>\n    </tr>\n    <tr>\n      <th>2</th>\n      <td>41</td>\n      <td>33.112107</td>\n      <td>-96.680864</td>\n      <td>0001556fa4a96efdfb0e6f9c079d2fa5</td>\n    </tr>\n    <tr>\n      <th>3</th>\n      <td>42</td>\n      <td>33.141374</td>\n      <td>-96.677020</td>\n      <td>0001556fa4a96efdfb0e6f9c079d2fa5</td>\n    </tr>\n    <tr>\n      <th>4</th>\n      <td>44</td>\n      <td>33.115048</td>\n      <td>-96.698311</td>\n      <td>0001556fa4a96efdfb0e6f9c079d2fa5</td>\n    </tr>\n    <tr>\n      <th>5</th>\n      <td>45</td>\n      <td>33.120333</td>\n      <td>-96.680777</td>\n      <td>0001556fa4a96efdfb0e6f9c079d2fa5</td>\n    </tr>\n    <tr>\n      <th>6</th>\n      <td>189</td>\n      <td>29.935532</td>\n      <td>-95.338827</td>\n      <td>00031615f0951f21287dc118a163dee3</td>\n    </tr>\n    <tr>\n      <th>7</th>\n      <td>190</td>\n      <td>29.975509</td>\n      <td>-95.564244</td>\n      <td>00031615f0951f21287dc118a163dee3</td>\n    </tr>\n    <tr>\n      <th>8</th>\n      <td>191</td>\n      <td>30.000294</td>\n      <td>-95.565431</td>\n      <td>00031615f0951f21287dc118a163dee3</td>\n    </tr>\n    <tr>\n      <th>9</th>\n      <td>733</td>\n      <td>41.492962</td>\n      <td>-81.995163</td>\n      <td>00089af9f7d3588a888379cf0ffc53cc</td>\n    </tr>\n  </tbody>\n</table>\n</div>"
     },
     "metadata": {},
     "execution_count": 94
    }
   ],
   "source": [
    "dest_df.head(10)"
   ]
  },
  {
   "cell_type": "code",
   "execution_count": 97,
   "metadata": {},
   "outputs": [],
   "source": [
    "full_df = dest_df.merge(df3.reset_index(drop=True),on=['vin','seq'], how='left')"
   ]
  },
  {
   "cell_type": "code",
   "execution_count": 98,
   "metadata": {},
   "outputs": [
    {
     "output_type": "execute_result",
     "data": {
      "text/plain": [
       "   seq        Lat        Lon                               vin  \\\n",
       "0   38  33.124920 -96.707811  0001556fa4a96efdfb0e6f9c079d2fa5   \n",
       "1   40  33.105293 -96.684018  0001556fa4a96efdfb0e6f9c079d2fa5   \n",
       "2   41  33.112107 -96.680864  0001556fa4a96efdfb0e6f9c079d2fa5   \n",
       "3   42  33.141374 -96.677020  0001556fa4a96efdfb0e6f9c079d2fa5   \n",
       "4   44  33.115048 -96.698311  0001556fa4a96efdfb0e6f9c079d2fa5   \n",
       "\n",
       "      start_timestamp       end_timestamp  arrival_hour arrival_date  \\\n",
       "0                 NaT                 NaT           NaN          NaN   \n",
       "1 2020-01-13 12:21:14 2020-01-13 12:28:51          12.0   2020-01-13   \n",
       "2 2020-01-13 14:02:56 2020-01-13 14:10:37          14.0   2020-01-13   \n",
       "3 2020-01-13 14:17:32 2020-01-13 14:26:23          14.0   2020-01-13   \n",
       "4 2020-01-13 15:34:58 2020-01-13 15:38:32          15.0   2020-01-13   \n",
       "\n",
       "  arrival_day       trip_time next_trip_start_timestamp  next_trip_seq  \\\n",
       "0         NaN             NaT                       NaT            NaN   \n",
       "1      Monday 0 days 00:07:37       2020-01-13 14:02:56           41.0   \n",
       "2      Monday 0 days 00:07:41       2020-01-13 14:17:32           42.0   \n",
       "3      Monday 0 days 00:08:51       2020-01-13 14:49:29           43.0   \n",
       "4      Monday 0 days 00:03:34       2020-01-13 17:54:20           45.0   \n",
       "\n",
       "       dwell_time  seq_diff  \n",
       "0             NaT       NaN  \n",
       "1 0 days 01:34:05       1.0  \n",
       "2 0 days 00:06:55       1.0  \n",
       "3 0 days 00:23:06       1.0  \n",
       "4 0 days 02:15:48       1.0  "
      ],
      "text/html": "<div>\n<style scoped>\n    .dataframe tbody tr th:only-of-type {\n        vertical-align: middle;\n    }\n\n    .dataframe tbody tr th {\n        vertical-align: top;\n    }\n\n    .dataframe thead th {\n        text-align: right;\n    }\n</style>\n<table border=\"1\" class=\"dataframe\">\n  <thead>\n    <tr style=\"text-align: right;\">\n      <th></th>\n      <th>seq</th>\n      <th>Lat</th>\n      <th>Lon</th>\n      <th>vin</th>\n      <th>start_timestamp</th>\n      <th>end_timestamp</th>\n      <th>arrival_hour</th>\n      <th>arrival_date</th>\n      <th>arrival_day</th>\n      <th>trip_time</th>\n      <th>next_trip_start_timestamp</th>\n      <th>next_trip_seq</th>\n      <th>dwell_time</th>\n      <th>seq_diff</th>\n    </tr>\n  </thead>\n  <tbody>\n    <tr>\n      <th>0</th>\n      <td>38</td>\n      <td>33.124920</td>\n      <td>-96.707811</td>\n      <td>0001556fa4a96efdfb0e6f9c079d2fa5</td>\n      <td>NaT</td>\n      <td>NaT</td>\n      <td>NaN</td>\n      <td>NaN</td>\n      <td>NaN</td>\n      <td>NaT</td>\n      <td>NaT</td>\n      <td>NaN</td>\n      <td>NaT</td>\n      <td>NaN</td>\n    </tr>\n    <tr>\n      <th>1</th>\n      <td>40</td>\n      <td>33.105293</td>\n      <td>-96.684018</td>\n      <td>0001556fa4a96efdfb0e6f9c079d2fa5</td>\n      <td>2020-01-13 12:21:14</td>\n      <td>2020-01-13 12:28:51</td>\n      <td>12.0</td>\n      <td>2020-01-13</td>\n      <td>Monday</td>\n      <td>0 days 00:07:37</td>\n      <td>2020-01-13 14:02:56</td>\n      <td>41.0</td>\n      <td>0 days 01:34:05</td>\n      <td>1.0</td>\n    </tr>\n    <tr>\n      <th>2</th>\n      <td>41</td>\n      <td>33.112107</td>\n      <td>-96.680864</td>\n      <td>0001556fa4a96efdfb0e6f9c079d2fa5</td>\n      <td>2020-01-13 14:02:56</td>\n      <td>2020-01-13 14:10:37</td>\n      <td>14.0</td>\n      <td>2020-01-13</td>\n      <td>Monday</td>\n      <td>0 days 00:07:41</td>\n      <td>2020-01-13 14:17:32</td>\n      <td>42.0</td>\n      <td>0 days 00:06:55</td>\n      <td>1.0</td>\n    </tr>\n    <tr>\n      <th>3</th>\n      <td>42</td>\n      <td>33.141374</td>\n      <td>-96.677020</td>\n      <td>0001556fa4a96efdfb0e6f9c079d2fa5</td>\n      <td>2020-01-13 14:17:32</td>\n      <td>2020-01-13 14:26:23</td>\n      <td>14.0</td>\n      <td>2020-01-13</td>\n      <td>Monday</td>\n      <td>0 days 00:08:51</td>\n      <td>2020-01-13 14:49:29</td>\n      <td>43.0</td>\n      <td>0 days 00:23:06</td>\n      <td>1.0</td>\n    </tr>\n    <tr>\n      <th>4</th>\n      <td>44</td>\n      <td>33.115048</td>\n      <td>-96.698311</td>\n      <td>0001556fa4a96efdfb0e6f9c079d2fa5</td>\n      <td>2020-01-13 15:34:58</td>\n      <td>2020-01-13 15:38:32</td>\n      <td>15.0</td>\n      <td>2020-01-13</td>\n      <td>Monday</td>\n      <td>0 days 00:03:34</td>\n      <td>2020-01-13 17:54:20</td>\n      <td>45.0</td>\n      <td>0 days 02:15:48</td>\n      <td>1.0</td>\n    </tr>\n  </tbody>\n</table>\n</div>"
     },
     "metadata": {},
     "execution_count": 98
    }
   ],
   "source": [
    "full_df.head()"
   ]
  },
  {
   "cell_type": "code",
   "execution_count": 99,
   "metadata": {},
   "outputs": [
    {
     "output_type": "execute_result",
     "data": {
      "text/plain": [
       "seq                              0\n",
       "Lat                              0\n",
       "Lon                              0\n",
       "vin                              0\n",
       "start_timestamp              18432\n",
       "end_timestamp                18432\n",
       "arrival_hour                 18432\n",
       "arrival_date                 18432\n",
       "arrival_day                  18432\n",
       "trip_time                    18432\n",
       "next_trip_start_timestamp    18432\n",
       "next_trip_seq                18432\n",
       "dwell_time                   18432\n",
       "seq_diff                     18432\n",
       "dtype: int64"
      ]
     },
     "metadata": {},
     "execution_count": 99
    }
   ],
   "source": [
    "full_df.isna().sum()"
   ]
  },
  {
   "cell_type": "code",
   "execution_count": 101,
   "metadata": {},
   "outputs": [],
   "source": [
    "full_df_clean = full_df.dropna()"
   ]
  },
  {
   "cell_type": "code",
   "execution_count": 104,
   "metadata": {},
   "outputs": [],
   "source": [
    "tl = [40.250580, -83.247525]\n",
    "tr = [40.251652, -82.671814]\n",
    "bl = [39.821981, -83.352838]\n",
    "br = [39.804789, -82.633243]"
   ]
  },
  {
   "cell_type": "code",
   "execution_count": 105,
   "metadata": {},
   "outputs": [],
   "source": [
    "full_df_clean = full_df_clean[(full_df_clean[\"Lat\"] < tl[0]) & (full_df_clean[\"Lat\"] > bl[0])]\n",
    "full_df_clean = full_df_clean[(full_df_clean[\"Lon\"] > tl[1]) & (full_df_clean[\"Lon\"] < tr[1])]"
   ]
  },
  {
   "cell_type": "code",
   "execution_count": 106,
   "metadata": {},
   "outputs": [
    {
     "output_type": "execute_result",
     "data": {
      "text/plain": [
       "(7121, 14)"
      ]
     },
     "metadata": {},
     "execution_count": 106
    }
   ],
   "source": []
  }
 ]
}