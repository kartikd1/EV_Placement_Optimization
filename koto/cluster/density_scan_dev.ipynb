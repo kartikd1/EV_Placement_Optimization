{
 "metadata": {
  "language_info": {
   "codemirror_mode": {
    "name": "ipython",
    "version": 3
   },
   "file_extension": ".py",
   "mimetype": "text/x-python",
   "name": "python",
   "nbconvert_exporter": "python",
   "pygments_lexer": "ipython3",
   "version": "3.7.4-final"
  },
  "orig_nbformat": 2,
  "kernelspec": {
   "name": "python3",
   "display_name": "Python 3"
  }
 },
 "nbformat": 4,
 "nbformat_minor": 2,
 "cells": [
  {
   "cell_type": "code",
   "execution_count": 4,
   "metadata": {},
   "outputs": [],
   "source": [
    "import pandas as pd\n",
    "from sklearn.cluster import DBSCAN\n",
    "import json\n",
    "import os"
   ]
  },
  {
   "cell_type": "code",
   "execution_count": 9,
   "metadata": {},
   "outputs": [
    {
     "output_type": "execute_result",
     "data": {
      "text/plain": [
       "'c:\\\\Users\\\\Yusuf\\\\Desktop\\\\GA-Tech\\\\CSE6242\\\\Project\\\\Koto_Repo\\\\telematics'"
      ]
     },
     "metadata": {},
     "execution_count": 9
    }
   ],
   "source": [
    "os.path.dirname(os.path.dirname(os.getcwd()))"
   ]
  },
  {
   "cell_type": "code",
   "execution_count": 10,
   "metadata": {},
   "outputs": [],
   "source": [
    "path = \"c:\\\\Users\\\\Yusuf\\\\Desktop\\\\GA-Tech\\\\CSE6242\\\\Project\\\\Koto_Repo\\\\telematics\\\\\""
   ]
  },
  {
   "cell_type": "code",
   "execution_count": 11,
   "metadata": {},
   "outputs": [],
   "source": [
    "#Mongo Export Unpacker\n",
    "data = [json.loads(line) for line in open(path+'dwellTimes.json', 'r')]"
   ]
  },
  {
   "cell_type": "code",
   "execution_count": 30,
   "metadata": {},
   "outputs": [],
   "source": [
    "df = pd.DataFrame(columns = ['seq', 'start_timestamp', 'end_timestamp','vin'])\n",
    "column_names_dict = columns={'index':'seq',0:'start_timestamp',1:\"end_timestamp\"}\n",
    "for i in range(len(data)):\n",
    "     temp_df = pd.DataFrame(data[i]['dwell']).transpose().reset_index().rename(columns=column_names_dict)\n",
    "     temp_df['vin'] = data[i][\"_id\"]\n",
    "     df = df.append(temp_df, ignore_index=True)"
   ]
  },
  {
   "cell_type": "code",
   "execution_count": 32,
   "metadata": {},
   "outputs": [
    {
     "output_type": "execute_result",
     "data": {
      "text/plain": [
       "    seq          start_timestamp            end_timestamp  \\\n",
       "0  1338  2020-01-09 19:00:00 EST  2020-01-09 19:33:29 EST   \n",
       "1  1340  2020-01-09 20:35:48 EST  2020-01-09 22:11:36 EST   \n",
       "2  1341  2020-01-10 05:19:27 EST  2020-01-10 05:25:25 EST   \n",
       "3  1343  2020-01-10 05:36:52 EST  2020-01-10 05:40:39 EST   \n",
       "4  1344  2020-01-10 09:34:54 EST  2020-01-10 11:59:28 EST   \n",
       "\n",
       "                                vin  \n",
       "0  070aac90eee9f2eaf444a1ccbb894df0  \n",
       "1  070aac90eee9f2eaf444a1ccbb894df0  \n",
       "2  070aac90eee9f2eaf444a1ccbb894df0  \n",
       "3  070aac90eee9f2eaf444a1ccbb894df0  \n",
       "4  070aac90eee9f2eaf444a1ccbb894df0  "
      ],
      "text/html": "<div>\n<style scoped>\n    .dataframe tbody tr th:only-of-type {\n        vertical-align: middle;\n    }\n\n    .dataframe tbody tr th {\n        vertical-align: top;\n    }\n\n    .dataframe thead th {\n        text-align: right;\n    }\n</style>\n<table border=\"1\" class=\"dataframe\">\n  <thead>\n    <tr style=\"text-align: right;\">\n      <th></th>\n      <th>seq</th>\n      <th>start_timestamp</th>\n      <th>end_timestamp</th>\n      <th>vin</th>\n    </tr>\n  </thead>\n  <tbody>\n    <tr>\n      <th>0</th>\n      <td>1338</td>\n      <td>2020-01-09 19:00:00 EST</td>\n      <td>2020-01-09 19:33:29 EST</td>\n      <td>070aac90eee9f2eaf444a1ccbb894df0</td>\n    </tr>\n    <tr>\n      <th>1</th>\n      <td>1340</td>\n      <td>2020-01-09 20:35:48 EST</td>\n      <td>2020-01-09 22:11:36 EST</td>\n      <td>070aac90eee9f2eaf444a1ccbb894df0</td>\n    </tr>\n    <tr>\n      <th>2</th>\n      <td>1341</td>\n      <td>2020-01-10 05:19:27 EST</td>\n      <td>2020-01-10 05:25:25 EST</td>\n      <td>070aac90eee9f2eaf444a1ccbb894df0</td>\n    </tr>\n    <tr>\n      <th>3</th>\n      <td>1343</td>\n      <td>2020-01-10 05:36:52 EST</td>\n      <td>2020-01-10 05:40:39 EST</td>\n      <td>070aac90eee9f2eaf444a1ccbb894df0</td>\n    </tr>\n    <tr>\n      <th>4</th>\n      <td>1344</td>\n      <td>2020-01-10 09:34:54 EST</td>\n      <td>2020-01-10 11:59:28 EST</td>\n      <td>070aac90eee9f2eaf444a1ccbb894df0</td>\n    </tr>\n  </tbody>\n</table>\n</div>"
     },
     "metadata": {},
     "execution_count": 32
    }
   ],
   "source": [
    "df.head()"
   ]
  },
  {
   "cell_type": "code",
   "execution_count": 41,
   "metadata": {},
   "outputs": [],
   "source": [
    "df2 = df.copy()"
   ]
  },
  {
   "cell_type": "code",
   "execution_count": 42,
   "metadata": {},
   "outputs": [],
   "source": [
    "df2 = df2.astype({'seq':'int64'})\n",
    "df2['start_timestamp'] = pd.to_datetime(df2['start_timestamp'])\n",
    "df2['end_timestamp'] = pd.to_datetime(df2['end_timestamp'])"
   ]
  },
  {
   "cell_type": "code",
   "execution_count": 54,
   "metadata": {},
   "outputs": [],
   "source": [
    "df2['arrival_hour'] = df2[\"start_timestamp\"].dt.hour\n",
    "df2['arrival_date'] = df2[\"start_timestamp\"].dt.date\n",
    "df2['arrival_day'] = df2[\"start_timestamp\"].dt.day_name()\n",
    "df2['trip_time'] = df2['end_timestamp'] - df2['start_timestamp']\n",
    "df2 = df2.sort_values(by =['vin','seq'])"
   ]
  },
  {
   "cell_type": "code",
   "execution_count": 65,
   "metadata": {},
   "outputs": [],
   "source": [
    "df2[\"next_trip_start_timestamp\"] = df2[\"start_timestamp\"].shift(periods=-1)\n",
    "df2[\"next_trip_seq\"] = df2['seq'].shift(periods=-1)\n",
    "df2[\"dwell_time\"] = df2['next_trip_start_timestamp'] - df2['end_timestamp']\n",
    "df2['seq_diff'] = df2['next_trip_seq'] - df2['seq']"
   ]
  },
  {
   "cell_type": "code",
   "execution_count": 66,
   "metadata": {},
   "outputs": [
    {
     "output_type": "execute_result",
     "data": {
      "text/plain": [
       "       seq     start_timestamp       end_timestamp  \\\n",
       "35515   38 2020-01-12 22:02:17 2020-01-12 22:11:49   \n",
       "35516   40 2020-01-13 12:21:14 2020-01-13 12:28:51   \n",
       "35517   41 2020-01-13 14:02:56 2020-01-13 14:10:37   \n",
       "35518   42 2020-01-13 14:17:32 2020-01-13 14:26:23   \n",
       "35519   43 2020-01-13 14:49:29                 NaT   \n",
       "35520   44 2020-01-13 15:34:58 2020-01-13 15:38:32   \n",
       "35521   45 2020-01-13 17:54:20 2020-01-13 18:01:28   \n",
       "49077  188 2020-01-13 08:51:59 2020-01-13 08:55:04   \n",
       "49078  189 2020-01-13 09:00:21 2020-01-13 09:41:41   \n",
       "49079  190 2020-01-13 17:46:48 2020-01-13 18:25:33   \n",
       "49080  191 2020-01-13 18:36:26 2020-01-13 18:39:01   \n",
       "52758  732 2020-01-13 10:08:07 2020-01-13 10:12:28   \n",
       "52759  733 2020-01-13 14:05:07 2020-01-13 14:07:14   \n",
       "28929  899 2020-01-12 19:34:11 2020-01-12 19:36:22   \n",
       "28930  901 2020-01-12 19:43:37                 NaT   \n",
       "28931  902 2020-01-12 19:52:02 2020-01-12 19:57:42   \n",
       "28932  904 2020-01-13 07:49:35 2020-01-13 08:00:47   \n",
       "28933  905 2020-01-13 16:05:48 2020-01-13 16:18:30   \n",
       "31800  399 2020-01-12 20:17:10 2020-01-12 22:38:08   \n",
       "47422  445 2020-01-13 08:38:52 2020-01-13 10:20:30   \n",
       "\n",
       "                                    vin  arrival_hour arrival_date  \\\n",
       "35515  0001556fa4a96efdfb0e6f9c079d2fa5            22   2020-01-12   \n",
       "35516  0001556fa4a96efdfb0e6f9c079d2fa5            12   2020-01-13   \n",
       "35517  0001556fa4a96efdfb0e6f9c079d2fa5            14   2020-01-13   \n",
       "35518  0001556fa4a96efdfb0e6f9c079d2fa5            14   2020-01-13   \n",
       "35519  0001556fa4a96efdfb0e6f9c079d2fa5            14   2020-01-13   \n",
       "35520  0001556fa4a96efdfb0e6f9c079d2fa5            15   2020-01-13   \n",
       "35521  0001556fa4a96efdfb0e6f9c079d2fa5            17   2020-01-13   \n",
       "49077  00031615f0951f21287dc118a163dee3             8   2020-01-13   \n",
       "49078  00031615f0951f21287dc118a163dee3             9   2020-01-13   \n",
       "49079  00031615f0951f21287dc118a163dee3            17   2020-01-13   \n",
       "49080  00031615f0951f21287dc118a163dee3            18   2020-01-13   \n",
       "52758  00089af9f7d3588a888379cf0ffc53cc            10   2020-01-13   \n",
       "52759  00089af9f7d3588a888379cf0ffc53cc            14   2020-01-13   \n",
       "28929  000b56dd77e25953bc2df3b23cfb8737            19   2020-01-12   \n",
       "28930  000b56dd77e25953bc2df3b23cfb8737            19   2020-01-12   \n",
       "28931  000b56dd77e25953bc2df3b23cfb8737            19   2020-01-12   \n",
       "28932  000b56dd77e25953bc2df3b23cfb8737             7   2020-01-13   \n",
       "28933  000b56dd77e25953bc2df3b23cfb8737            16   2020-01-13   \n",
       "31800  000bbad21f682a27a26b62b9305506cc            20   2020-01-12   \n",
       "47422  000f119dfb2d5381bc8fe3bfbfc4f4a7             8   2020-01-13   \n",
       "\n",
       "      arrival_day       trip_time next_trip_start_timestamp  next_trip_seq  \\\n",
       "35515      Sunday 0 days 00:09:32       2020-01-13 12:21:14           40.0   \n",
       "35516      Monday 0 days 00:07:37       2020-01-13 14:02:56           41.0   \n",
       "35517      Monday 0 days 00:07:41       2020-01-13 14:17:32           42.0   \n",
       "35518      Monday 0 days 00:08:51       2020-01-13 14:49:29           43.0   \n",
       "35519      Monday             NaT       2020-01-13 15:34:58           44.0   \n",
       "35520      Monday 0 days 00:03:34       2020-01-13 17:54:20           45.0   \n",
       "35521      Monday 0 days 00:07:08       2020-01-13 08:51:59          188.0   \n",
       "49077      Monday 0 days 00:03:05       2020-01-13 09:00:21          189.0   \n",
       "49078      Monday 0 days 00:41:20       2020-01-13 17:46:48          190.0   \n",
       "49079      Monday 0 days 00:38:45       2020-01-13 18:36:26          191.0   \n",
       "49080      Monday 0 days 00:02:35       2020-01-13 10:08:07          732.0   \n",
       "52758      Monday 0 days 00:04:21       2020-01-13 14:05:07          733.0   \n",
       "52759      Monday 0 days 00:02:07       2020-01-12 19:34:11          899.0   \n",
       "28929      Sunday 0 days 00:02:11       2020-01-12 19:43:37          901.0   \n",
       "28930      Sunday             NaT       2020-01-12 19:52:02          902.0   \n",
       "28931      Sunday 0 days 00:05:40       2020-01-13 07:49:35          904.0   \n",
       "28932      Monday 0 days 00:11:12       2020-01-13 16:05:48          905.0   \n",
       "28933      Monday 0 days 00:12:42       2020-01-12 20:17:10          399.0   \n",
       "31800      Sunday 0 days 02:20:58       2020-01-13 08:38:52          445.0   \n",
       "47422      Monday 0 days 01:41:38       2020-01-13 10:24:18          446.0   \n",
       "\n",
       "             dwell_time  seq_diff  \n",
       "35515   0 days 14:09:25       2.0  \n",
       "35516   0 days 01:34:05       1.0  \n",
       "35517   0 days 00:06:55       1.0  \n",
       "35518   0 days 00:23:06       1.0  \n",
       "35519               NaT       1.0  \n",
       "35520   0 days 02:15:48       1.0  \n",
       "35521 -1 days +14:50:31     143.0  \n",
       "49077   0 days 00:05:17       1.0  \n",
       "49078   0 days 08:05:07       1.0  \n",
       "49079   0 days 00:10:53       1.0  \n",
       "49080 -1 days +15:29:06     541.0  \n",
       "52758   0 days 03:52:39       1.0  \n",
       "52759 -1 days +05:26:57     166.0  \n",
       "28929   0 days 00:07:15       2.0  \n",
       "28930               NaT       1.0  \n",
       "28931   0 days 11:51:53       2.0  \n",
       "28932   0 days 08:05:01       1.0  \n",
       "28933 -1 days +03:58:40    -506.0  \n",
       "31800   0 days 10:00:44      46.0  \n",
       "47422   0 days 00:03:48       1.0  "
      ],
      "text/html": "<div>\n<style scoped>\n    .dataframe tbody tr th:only-of-type {\n        vertical-align: middle;\n    }\n\n    .dataframe tbody tr th {\n        vertical-align: top;\n    }\n\n    .dataframe thead th {\n        text-align: right;\n    }\n</style>\n<table border=\"1\" class=\"dataframe\">\n  <thead>\n    <tr style=\"text-align: right;\">\n      <th></th>\n      <th>seq</th>\n      <th>start_timestamp</th>\n      <th>end_timestamp</th>\n      <th>vin</th>\n      <th>arrival_hour</th>\n      <th>arrival_date</th>\n      <th>arrival_day</th>\n      <th>trip_time</th>\n      <th>next_trip_start_timestamp</th>\n      <th>next_trip_seq</th>\n      <th>dwell_time</th>\n      <th>seq_diff</th>\n    </tr>\n  </thead>\n  <tbody>\n    <tr>\n      <th>35515</th>\n      <td>38</td>\n      <td>2020-01-12 22:02:17</td>\n      <td>2020-01-12 22:11:49</td>\n      <td>0001556fa4a96efdfb0e6f9c079d2fa5</td>\n      <td>22</td>\n      <td>2020-01-12</td>\n      <td>Sunday</td>\n      <td>0 days 00:09:32</td>\n      <td>2020-01-13 12:21:14</td>\n      <td>40.0</td>\n      <td>0 days 14:09:25</td>\n      <td>2.0</td>\n    </tr>\n    <tr>\n      <th>35516</th>\n      <td>40</td>\n      <td>2020-01-13 12:21:14</td>\n      <td>2020-01-13 12:28:51</td>\n      <td>0001556fa4a96efdfb0e6f9c079d2fa5</td>\n      <td>12</td>\n      <td>2020-01-13</td>\n      <td>Monday</td>\n      <td>0 days 00:07:37</td>\n      <td>2020-01-13 14:02:56</td>\n      <td>41.0</td>\n      <td>0 days 01:34:05</td>\n      <td>1.0</td>\n    </tr>\n    <tr>\n      <th>35517</th>\n      <td>41</td>\n      <td>2020-01-13 14:02:56</td>\n      <td>2020-01-13 14:10:37</td>\n      <td>0001556fa4a96efdfb0e6f9c079d2fa5</td>\n      <td>14</td>\n      <td>2020-01-13</td>\n      <td>Monday</td>\n      <td>0 days 00:07:41</td>\n      <td>2020-01-13 14:17:32</td>\n      <td>42.0</td>\n      <td>0 days 00:06:55</td>\n      <td>1.0</td>\n    </tr>\n    <tr>\n      <th>35518</th>\n      <td>42</td>\n      <td>2020-01-13 14:17:32</td>\n      <td>2020-01-13 14:26:23</td>\n      <td>0001556fa4a96efdfb0e6f9c079d2fa5</td>\n      <td>14</td>\n      <td>2020-01-13</td>\n      <td>Monday</td>\n      <td>0 days 00:08:51</td>\n      <td>2020-01-13 14:49:29</td>\n      <td>43.0</td>\n      <td>0 days 00:23:06</td>\n      <td>1.0</td>\n    </tr>\n    <tr>\n      <th>35519</th>\n      <td>43</td>\n      <td>2020-01-13 14:49:29</td>\n      <td>NaT</td>\n      <td>0001556fa4a96efdfb0e6f9c079d2fa5</td>\n      <td>14</td>\n      <td>2020-01-13</td>\n      <td>Monday</td>\n      <td>NaT</td>\n      <td>2020-01-13 15:34:58</td>\n      <td>44.0</td>\n      <td>NaT</td>\n      <td>1.0</td>\n    </tr>\n    <tr>\n      <th>35520</th>\n      <td>44</td>\n      <td>2020-01-13 15:34:58</td>\n      <td>2020-01-13 15:38:32</td>\n      <td>0001556fa4a96efdfb0e6f9c079d2fa5</td>\n      <td>15</td>\n      <td>2020-01-13</td>\n      <td>Monday</td>\n      <td>0 days 00:03:34</td>\n      <td>2020-01-13 17:54:20</td>\n      <td>45.0</td>\n      <td>0 days 02:15:48</td>\n      <td>1.0</td>\n    </tr>\n    <tr>\n      <th>35521</th>\n      <td>45</td>\n      <td>2020-01-13 17:54:20</td>\n      <td>2020-01-13 18:01:28</td>\n      <td>0001556fa4a96efdfb0e6f9c079d2fa5</td>\n      <td>17</td>\n      <td>2020-01-13</td>\n      <td>Monday</td>\n      <td>0 days 00:07:08</td>\n      <td>2020-01-13 08:51:59</td>\n      <td>188.0</td>\n      <td>-1 days +14:50:31</td>\n      <td>143.0</td>\n    </tr>\n    <tr>\n      <th>49077</th>\n      <td>188</td>\n      <td>2020-01-13 08:51:59</td>\n      <td>2020-01-13 08:55:04</td>\n      <td>00031615f0951f21287dc118a163dee3</td>\n      <td>8</td>\n      <td>2020-01-13</td>\n      <td>Monday</td>\n      <td>0 days 00:03:05</td>\n      <td>2020-01-13 09:00:21</td>\n      <td>189.0</td>\n      <td>0 days 00:05:17</td>\n      <td>1.0</td>\n    </tr>\n    <tr>\n      <th>49078</th>\n      <td>189</td>\n      <td>2020-01-13 09:00:21</td>\n      <td>2020-01-13 09:41:41</td>\n      <td>00031615f0951f21287dc118a163dee3</td>\n      <td>9</td>\n      <td>2020-01-13</td>\n      <td>Monday</td>\n      <td>0 days 00:41:20</td>\n      <td>2020-01-13 17:46:48</td>\n      <td>190.0</td>\n      <td>0 days 08:05:07</td>\n      <td>1.0</td>\n    </tr>\n    <tr>\n      <th>49079</th>\n      <td>190</td>\n      <td>2020-01-13 17:46:48</td>\n      <td>2020-01-13 18:25:33</td>\n      <td>00031615f0951f21287dc118a163dee3</td>\n      <td>17</td>\n      <td>2020-01-13</td>\n      <td>Monday</td>\n      <td>0 days 00:38:45</td>\n      <td>2020-01-13 18:36:26</td>\n      <td>191.0</td>\n      <td>0 days 00:10:53</td>\n      <td>1.0</td>\n    </tr>\n    <tr>\n      <th>49080</th>\n      <td>191</td>\n      <td>2020-01-13 18:36:26</td>\n      <td>2020-01-13 18:39:01</td>\n      <td>00031615f0951f21287dc118a163dee3</td>\n      <td>18</td>\n      <td>2020-01-13</td>\n      <td>Monday</td>\n      <td>0 days 00:02:35</td>\n      <td>2020-01-13 10:08:07</td>\n      <td>732.0</td>\n      <td>-1 days +15:29:06</td>\n      <td>541.0</td>\n    </tr>\n    <tr>\n      <th>52758</th>\n      <td>732</td>\n      <td>2020-01-13 10:08:07</td>\n      <td>2020-01-13 10:12:28</td>\n      <td>00089af9f7d3588a888379cf0ffc53cc</td>\n      <td>10</td>\n      <td>2020-01-13</td>\n      <td>Monday</td>\n      <td>0 days 00:04:21</td>\n      <td>2020-01-13 14:05:07</td>\n      <td>733.0</td>\n      <td>0 days 03:52:39</td>\n      <td>1.0</td>\n    </tr>\n    <tr>\n      <th>52759</th>\n      <td>733</td>\n      <td>2020-01-13 14:05:07</td>\n      <td>2020-01-13 14:07:14</td>\n      <td>00089af9f7d3588a888379cf0ffc53cc</td>\n      <td>14</td>\n      <td>2020-01-13</td>\n      <td>Monday</td>\n      <td>0 days 00:02:07</td>\n      <td>2020-01-12 19:34:11</td>\n      <td>899.0</td>\n      <td>-1 days +05:26:57</td>\n      <td>166.0</td>\n    </tr>\n    <tr>\n      <th>28929</th>\n      <td>899</td>\n      <td>2020-01-12 19:34:11</td>\n      <td>2020-01-12 19:36:22</td>\n      <td>000b56dd77e25953bc2df3b23cfb8737</td>\n      <td>19</td>\n      <td>2020-01-12</td>\n      <td>Sunday</td>\n      <td>0 days 00:02:11</td>\n      <td>2020-01-12 19:43:37</td>\n      <td>901.0</td>\n      <td>0 days 00:07:15</td>\n      <td>2.0</td>\n    </tr>\n    <tr>\n      <th>28930</th>\n      <td>901</td>\n      <td>2020-01-12 19:43:37</td>\n      <td>NaT</td>\n      <td>000b56dd77e25953bc2df3b23cfb8737</td>\n      <td>19</td>\n      <td>2020-01-12</td>\n      <td>Sunday</td>\n      <td>NaT</td>\n      <td>2020-01-12 19:52:02</td>\n      <td>902.0</td>\n      <td>NaT</td>\n      <td>1.0</td>\n    </tr>\n    <tr>\n      <th>28931</th>\n      <td>902</td>\n      <td>2020-01-12 19:52:02</td>\n      <td>2020-01-12 19:57:42</td>\n      <td>000b56dd77e25953bc2df3b23cfb8737</td>\n      <td>19</td>\n      <td>2020-01-12</td>\n      <td>Sunday</td>\n      <td>0 days 00:05:40</td>\n      <td>2020-01-13 07:49:35</td>\n      <td>904.0</td>\n      <td>0 days 11:51:53</td>\n      <td>2.0</td>\n    </tr>\n    <tr>\n      <th>28932</th>\n      <td>904</td>\n      <td>2020-01-13 07:49:35</td>\n      <td>2020-01-13 08:00:47</td>\n      <td>000b56dd77e25953bc2df3b23cfb8737</td>\n      <td>7</td>\n      <td>2020-01-13</td>\n      <td>Monday</td>\n      <td>0 days 00:11:12</td>\n      <td>2020-01-13 16:05:48</td>\n      <td>905.0</td>\n      <td>0 days 08:05:01</td>\n      <td>1.0</td>\n    </tr>\n    <tr>\n      <th>28933</th>\n      <td>905</td>\n      <td>2020-01-13 16:05:48</td>\n      <td>2020-01-13 16:18:30</td>\n      <td>000b56dd77e25953bc2df3b23cfb8737</td>\n      <td>16</td>\n      <td>2020-01-13</td>\n      <td>Monday</td>\n      <td>0 days 00:12:42</td>\n      <td>2020-01-12 20:17:10</td>\n      <td>399.0</td>\n      <td>-1 days +03:58:40</td>\n      <td>-506.0</td>\n    </tr>\n    <tr>\n      <th>31800</th>\n      <td>399</td>\n      <td>2020-01-12 20:17:10</td>\n      <td>2020-01-12 22:38:08</td>\n      <td>000bbad21f682a27a26b62b9305506cc</td>\n      <td>20</td>\n      <td>2020-01-12</td>\n      <td>Sunday</td>\n      <td>0 days 02:20:58</td>\n      <td>2020-01-13 08:38:52</td>\n      <td>445.0</td>\n      <td>0 days 10:00:44</td>\n      <td>46.0</td>\n    </tr>\n    <tr>\n      <th>47422</th>\n      <td>445</td>\n      <td>2020-01-13 08:38:52</td>\n      <td>2020-01-13 10:20:30</td>\n      <td>000f119dfb2d5381bc8fe3bfbfc4f4a7</td>\n      <td>8</td>\n      <td>2020-01-13</td>\n      <td>Monday</td>\n      <td>0 days 01:41:38</td>\n      <td>2020-01-13 10:24:18</td>\n      <td>446.0</td>\n      <td>0 days 00:03:48</td>\n      <td>1.0</td>\n    </tr>\n  </tbody>\n</table>\n</div>"
     },
     "metadata": {},
     "execution_count": 66
    }
   ],
   "source": [
    "df2.head(20)"
   ]
  },
  {
   "cell_type": "code",
   "execution_count": 68,
   "metadata": {},
   "outputs": [],
   "source": [
    "df3 = df2[df2['seq_diff'] == 1]\n",
    "df3 = df3.dropna()"
   ]
  },
  {
   "cell_type": "code",
   "execution_count": 69,
   "metadata": {},
   "outputs": [
    {
     "output_type": "execute_result",
     "data": {
      "text/plain": [
       "       seq     start_timestamp       end_timestamp  \\\n",
       "35516   40 2020-01-13 12:21:14 2020-01-13 12:28:51   \n",
       "35517   41 2020-01-13 14:02:56 2020-01-13 14:10:37   \n",
       "35518   42 2020-01-13 14:17:32 2020-01-13 14:26:23   \n",
       "35520   44 2020-01-13 15:34:58 2020-01-13 15:38:32   \n",
       "49077  188 2020-01-13 08:51:59 2020-01-13 08:55:04   \n",
       "49078  189 2020-01-13 09:00:21 2020-01-13 09:41:41   \n",
       "49079  190 2020-01-13 17:46:48 2020-01-13 18:25:33   \n",
       "52758  732 2020-01-13 10:08:07 2020-01-13 10:12:28   \n",
       "28932  904 2020-01-13 07:49:35 2020-01-13 08:00:47   \n",
       "47422  445 2020-01-13 08:38:52 2020-01-13 10:20:30   \n",
       "\n",
       "                                    vin  arrival_hour arrival_date  \\\n",
       "35516  0001556fa4a96efdfb0e6f9c079d2fa5            12   2020-01-13   \n",
       "35517  0001556fa4a96efdfb0e6f9c079d2fa5            14   2020-01-13   \n",
       "35518  0001556fa4a96efdfb0e6f9c079d2fa5            14   2020-01-13   \n",
       "35520  0001556fa4a96efdfb0e6f9c079d2fa5            15   2020-01-13   \n",
       "49077  00031615f0951f21287dc118a163dee3             8   2020-01-13   \n",
       "49078  00031615f0951f21287dc118a163dee3             9   2020-01-13   \n",
       "49079  00031615f0951f21287dc118a163dee3            17   2020-01-13   \n",
       "52758  00089af9f7d3588a888379cf0ffc53cc            10   2020-01-13   \n",
       "28932  000b56dd77e25953bc2df3b23cfb8737             7   2020-01-13   \n",
       "47422  000f119dfb2d5381bc8fe3bfbfc4f4a7             8   2020-01-13   \n",
       "\n",
       "      arrival_day       trip_time next_trip_start_timestamp  next_trip_seq  \\\n",
       "35516      Monday 0 days 00:07:37       2020-01-13 14:02:56           41.0   \n",
       "35517      Monday 0 days 00:07:41       2020-01-13 14:17:32           42.0   \n",
       "35518      Monday 0 days 00:08:51       2020-01-13 14:49:29           43.0   \n",
       "35520      Monday 0 days 00:03:34       2020-01-13 17:54:20           45.0   \n",
       "49077      Monday 0 days 00:03:05       2020-01-13 09:00:21          189.0   \n",
       "49078      Monday 0 days 00:41:20       2020-01-13 17:46:48          190.0   \n",
       "49079      Monday 0 days 00:38:45       2020-01-13 18:36:26          191.0   \n",
       "52758      Monday 0 days 00:04:21       2020-01-13 14:05:07          733.0   \n",
       "28932      Monday 0 days 00:11:12       2020-01-13 16:05:48          905.0   \n",
       "47422      Monday 0 days 01:41:38       2020-01-13 10:24:18          446.0   \n",
       "\n",
       "           dwell_time  seq_diff  \n",
       "35516 0 days 01:34:05       1.0  \n",
       "35517 0 days 00:06:55       1.0  \n",
       "35518 0 days 00:23:06       1.0  \n",
       "35520 0 days 02:15:48       1.0  \n",
       "49077 0 days 00:05:17       1.0  \n",
       "49078 0 days 08:05:07       1.0  \n",
       "49079 0 days 00:10:53       1.0  \n",
       "52758 0 days 03:52:39       1.0  \n",
       "28932 0 days 08:05:01       1.0  \n",
       "47422 0 days 00:03:48       1.0  "
      ],
      "text/html": "<div>\n<style scoped>\n    .dataframe tbody tr th:only-of-type {\n        vertical-align: middle;\n    }\n\n    .dataframe tbody tr th {\n        vertical-align: top;\n    }\n\n    .dataframe thead th {\n        text-align: right;\n    }\n</style>\n<table border=\"1\" class=\"dataframe\">\n  <thead>\n    <tr style=\"text-align: right;\">\n      <th></th>\n      <th>seq</th>\n      <th>start_timestamp</th>\n      <th>end_timestamp</th>\n      <th>vin</th>\n      <th>arrival_hour</th>\n      <th>arrival_date</th>\n      <th>arrival_day</th>\n      <th>trip_time</th>\n      <th>next_trip_start_timestamp</th>\n      <th>next_trip_seq</th>\n      <th>dwell_time</th>\n      <th>seq_diff</th>\n    </tr>\n  </thead>\n  <tbody>\n    <tr>\n      <th>35516</th>\n      <td>40</td>\n      <td>2020-01-13 12:21:14</td>\n      <td>2020-01-13 12:28:51</td>\n      <td>0001556fa4a96efdfb0e6f9c079d2fa5</td>\n      <td>12</td>\n      <td>2020-01-13</td>\n      <td>Monday</td>\n      <td>0 days 00:07:37</td>\n      <td>2020-01-13 14:02:56</td>\n      <td>41.0</td>\n      <td>0 days 01:34:05</td>\n      <td>1.0</td>\n    </tr>\n    <tr>\n      <th>35517</th>\n      <td>41</td>\n      <td>2020-01-13 14:02:56</td>\n      <td>2020-01-13 14:10:37</td>\n      <td>0001556fa4a96efdfb0e6f9c079d2fa5</td>\n      <td>14</td>\n      <td>2020-01-13</td>\n      <td>Monday</td>\n      <td>0 days 00:07:41</td>\n      <td>2020-01-13 14:17:32</td>\n      <td>42.0</td>\n      <td>0 days 00:06:55</td>\n      <td>1.0</td>\n    </tr>\n    <tr>\n      <th>35518</th>\n      <td>42</td>\n      <td>2020-01-13 14:17:32</td>\n      <td>2020-01-13 14:26:23</td>\n      <td>0001556fa4a96efdfb0e6f9c079d2fa5</td>\n      <td>14</td>\n      <td>2020-01-13</td>\n      <td>Monday</td>\n      <td>0 days 00:08:51</td>\n      <td>2020-01-13 14:49:29</td>\n      <td>43.0</td>\n      <td>0 days 00:23:06</td>\n      <td>1.0</td>\n    </tr>\n    <tr>\n      <th>35520</th>\n      <td>44</td>\n      <td>2020-01-13 15:34:58</td>\n      <td>2020-01-13 15:38:32</td>\n      <td>0001556fa4a96efdfb0e6f9c079d2fa5</td>\n      <td>15</td>\n      <td>2020-01-13</td>\n      <td>Monday</td>\n      <td>0 days 00:03:34</td>\n      <td>2020-01-13 17:54:20</td>\n      <td>45.0</td>\n      <td>0 days 02:15:48</td>\n      <td>1.0</td>\n    </tr>\n    <tr>\n      <th>49077</th>\n      <td>188</td>\n      <td>2020-01-13 08:51:59</td>\n      <td>2020-01-13 08:55:04</td>\n      <td>00031615f0951f21287dc118a163dee3</td>\n      <td>8</td>\n      <td>2020-01-13</td>\n      <td>Monday</td>\n      <td>0 days 00:03:05</td>\n      <td>2020-01-13 09:00:21</td>\n      <td>189.0</td>\n      <td>0 days 00:05:17</td>\n      <td>1.0</td>\n    </tr>\n    <tr>\n      <th>49078</th>\n      <td>189</td>\n      <td>2020-01-13 09:00:21</td>\n      <td>2020-01-13 09:41:41</td>\n      <td>00031615f0951f21287dc118a163dee3</td>\n      <td>9</td>\n      <td>2020-01-13</td>\n      <td>Monday</td>\n      <td>0 days 00:41:20</td>\n      <td>2020-01-13 17:46:48</td>\n      <td>190.0</td>\n      <td>0 days 08:05:07</td>\n      <td>1.0</td>\n    </tr>\n    <tr>\n      <th>49079</th>\n      <td>190</td>\n      <td>2020-01-13 17:46:48</td>\n      <td>2020-01-13 18:25:33</td>\n      <td>00031615f0951f21287dc118a163dee3</td>\n      <td>17</td>\n      <td>2020-01-13</td>\n      <td>Monday</td>\n      <td>0 days 00:38:45</td>\n      <td>2020-01-13 18:36:26</td>\n      <td>191.0</td>\n      <td>0 days 00:10:53</td>\n      <td>1.0</td>\n    </tr>\n    <tr>\n      <th>52758</th>\n      <td>732</td>\n      <td>2020-01-13 10:08:07</td>\n      <td>2020-01-13 10:12:28</td>\n      <td>00089af9f7d3588a888379cf0ffc53cc</td>\n      <td>10</td>\n      <td>2020-01-13</td>\n      <td>Monday</td>\n      <td>0 days 00:04:21</td>\n      <td>2020-01-13 14:05:07</td>\n      <td>733.0</td>\n      <td>0 days 03:52:39</td>\n      <td>1.0</td>\n    </tr>\n    <tr>\n      <th>28932</th>\n      <td>904</td>\n      <td>2020-01-13 07:49:35</td>\n      <td>2020-01-13 08:00:47</td>\n      <td>000b56dd77e25953bc2df3b23cfb8737</td>\n      <td>7</td>\n      <td>2020-01-13</td>\n      <td>Monday</td>\n      <td>0 days 00:11:12</td>\n      <td>2020-01-13 16:05:48</td>\n      <td>905.0</td>\n      <td>0 days 08:05:01</td>\n      <td>1.0</td>\n    </tr>\n    <tr>\n      <th>47422</th>\n      <td>445</td>\n      <td>2020-01-13 08:38:52</td>\n      <td>2020-01-13 10:20:30</td>\n      <td>000f119dfb2d5381bc8fe3bfbfc4f4a7</td>\n      <td>8</td>\n      <td>2020-01-13</td>\n      <td>Monday</td>\n      <td>0 days 01:41:38</td>\n      <td>2020-01-13 10:24:18</td>\n      <td>446.0</td>\n      <td>0 days 00:03:48</td>\n      <td>1.0</td>\n    </tr>\n  </tbody>\n</table>\n</div>"
     },
     "metadata": {},
     "execution_count": 69
    }
   ],
   "source": [
    "df3.head(10)"
   ]
  },
  {
   "cell_type": "code",
   "execution_count": 92,
   "metadata": {},
   "outputs": [],
   "source": [
    "dest_df = pd.read_csv(path+\"viz_df2.csv\")"
   ]
  },
  {
   "cell_type": "code",
   "execution_count": 93,
   "metadata": {},
   "outputs": [],
   "source": [
    "dest_df = dest_df.drop(['Unnamed: 0'], axis=1).rename(columns={\"Seq\":'seq'})"
   ]
  },
  {
   "cell_type": "code",
   "execution_count": 94,
   "metadata": {},
   "outputs": [
    {
     "output_type": "execute_result",
     "data": {
      "text/plain": [
       "   seq        Lat        Lon                               vin\n",
       "0   38  33.124920 -96.707811  0001556fa4a96efdfb0e6f9c079d2fa5\n",
       "1   40  33.105293 -96.684018  0001556fa4a96efdfb0e6f9c079d2fa5\n",
       "2   41  33.112107 -96.680864  0001556fa4a96efdfb0e6f9c079d2fa5\n",
       "3   42  33.141374 -96.677020  0001556fa4a96efdfb0e6f9c079d2fa5\n",
       "4   44  33.115048 -96.698311  0001556fa4a96efdfb0e6f9c079d2fa5\n",
       "5   45  33.120333 -96.680777  0001556fa4a96efdfb0e6f9c079d2fa5\n",
       "6  189  29.935532 -95.338827  00031615f0951f21287dc118a163dee3\n",
       "7  190  29.975509 -95.564244  00031615f0951f21287dc118a163dee3\n",
       "8  191  30.000294 -95.565431  00031615f0951f21287dc118a163dee3\n",
       "9  733  41.492962 -81.995163  00089af9f7d3588a888379cf0ffc53cc"
      ],
      "text/html": "<div>\n<style scoped>\n    .dataframe tbody tr th:only-of-type {\n        vertical-align: middle;\n    }\n\n    .dataframe tbody tr th {\n        vertical-align: top;\n    }\n\n    .dataframe thead th {\n        text-align: right;\n    }\n</style>\n<table border=\"1\" class=\"dataframe\">\n  <thead>\n    <tr style=\"text-align: right;\">\n      <th></th>\n      <th>seq</th>\n      <th>Lat</th>\n      <th>Lon</th>\n      <th>vin</th>\n    </tr>\n  </thead>\n  <tbody>\n    <tr>\n      <th>0</th>\n      <td>38</td>\n      <td>33.124920</td>\n      <td>-96.707811</td>\n      <td>0001556fa4a96efdfb0e6f9c079d2fa5</td>\n    </tr>\n    <tr>\n      <th>1</th>\n      <td>40</td>\n      <td>33.105293</td>\n      <td>-96.684018</td>\n      <td>0001556fa4a96efdfb0e6f9c079d2fa5</td>\n    </tr>\n    <tr>\n      <th>2</th>\n      <td>41</td>\n      <td>33.112107</td>\n      <td>-96.680864</td>\n      <td>0001556fa4a96efdfb0e6f9c079d2fa5</td>\n    </tr>\n    <tr>\n      <th>3</th>\n      <td>42</td>\n      <td>33.141374</td>\n      <td>-96.677020</td>\n      <td>0001556fa4a96efdfb0e6f9c079d2fa5</td>\n    </tr>\n    <tr>\n      <th>4</th>\n      <td>44</td>\n      <td>33.115048</td>\n      <td>-96.698311</td>\n      <td>0001556fa4a96efdfb0e6f9c079d2fa5</td>\n    </tr>\n    <tr>\n      <th>5</th>\n      <td>45</td>\n      <td>33.120333</td>\n      <td>-96.680777</td>\n      <td>0001556fa4a96efdfb0e6f9c079d2fa5</td>\n    </tr>\n    <tr>\n      <th>6</th>\n      <td>189</td>\n      <td>29.935532</td>\n      <td>-95.338827</td>\n      <td>00031615f0951f21287dc118a163dee3</td>\n    </tr>\n    <tr>\n      <th>7</th>\n      <td>190</td>\n      <td>29.975509</td>\n      <td>-95.564244</td>\n      <td>00031615f0951f21287dc118a163dee3</td>\n    </tr>\n    <tr>\n      <th>8</th>\n      <td>191</td>\n      <td>30.000294</td>\n      <td>-95.565431</td>\n      <td>00031615f0951f21287dc118a163dee3</td>\n    </tr>\n    <tr>\n      <th>9</th>\n      <td>733</td>\n      <td>41.492962</td>\n      <td>-81.995163</td>\n      <td>00089af9f7d3588a888379cf0ffc53cc</td>\n    </tr>\n  </tbody>\n</table>\n</div>"
     },
     "metadata": {},
     "execution_count": 94
    }
   ],
   "source": [
    "dest_df.head(10)"
   ]
  },
  {
   "cell_type": "code",
   "execution_count": 97,
   "metadata": {},
   "outputs": [],
   "source": [
    "full_df = dest_df.merge(df3.reset_index(drop=True),on=['vin','seq'], how='left')"
   ]
  },
  {
   "cell_type": "code",
   "execution_count": 108,
   "metadata": {},
   "outputs": [
    {
     "output_type": "execute_result",
     "data": {
      "text/plain": [
       "    seq        Lat        Lon                               vin  \\\n",
       "0    38  33.124920 -96.707811  0001556fa4a96efdfb0e6f9c079d2fa5   \n",
       "1    40  33.105293 -96.684018  0001556fa4a96efdfb0e6f9c079d2fa5   \n",
       "2    41  33.112107 -96.680864  0001556fa4a96efdfb0e6f9c079d2fa5   \n",
       "3    42  33.141374 -96.677020  0001556fa4a96efdfb0e6f9c079d2fa5   \n",
       "4    44  33.115048 -96.698311  0001556fa4a96efdfb0e6f9c079d2fa5   \n",
       "5    45  33.120333 -96.680777  0001556fa4a96efdfb0e6f9c079d2fa5   \n",
       "6   189  29.935532 -95.338827  00031615f0951f21287dc118a163dee3   \n",
       "7   190  29.975509 -95.564244  00031615f0951f21287dc118a163dee3   \n",
       "8   191  30.000294 -95.565431  00031615f0951f21287dc118a163dee3   \n",
       "9   733  41.492962 -81.995163  00089af9f7d3588a888379cf0ffc53cc   \n",
       "10  902  29.716431 -95.860582  000b56dd77e25953bc2df3b23cfb8737   \n",
       "11  904  29.715092 -95.835573  000b56dd77e25953bc2df3b23cfb8737   \n",
       "12  905  29.716828 -95.846864  000b56dd77e25953bc2df3b23cfb8737   \n",
       "13  399  40.838862 -73.821879  000bbad21f682a27a26b62b9305506cc   \n",
       "14  445  29.704962 -95.400913  000f119dfb2d5381bc8fe3bfbfc4f4a7   \n",
       "15  448  29.695574 -95.839052  000f119dfb2d5381bc8fe3bfbfc4f4a7   \n",
       "16  449  29.702766 -95.877190  000f119dfb2d5381bc8fe3bfbfc4f4a7   \n",
       "17  454  29.702805 -95.877198  000f119dfb2d5381bc8fe3bfbfc4f4a7   \n",
       "18  424  33.188041 -97.095322  000f11ab81265d703c1735d12171b460   \n",
       "19  425  33.184099 -97.097708  000f11ab81265d703c1735d12171b460   \n",
       "\n",
       "       start_timestamp       end_timestamp  arrival_hour arrival_date  \\\n",
       "0                  NaT                 NaT           NaN          NaN   \n",
       "1  2020-01-13 12:21:14 2020-01-13 12:28:51          12.0   2020-01-13   \n",
       "2  2020-01-13 14:02:56 2020-01-13 14:10:37          14.0   2020-01-13   \n",
       "3  2020-01-13 14:17:32 2020-01-13 14:26:23          14.0   2020-01-13   \n",
       "4  2020-01-13 15:34:58 2020-01-13 15:38:32          15.0   2020-01-13   \n",
       "5                  NaT                 NaT           NaN          NaN   \n",
       "6  2020-01-13 09:00:21 2020-01-13 09:41:41           9.0   2020-01-13   \n",
       "7  2020-01-13 17:46:48 2020-01-13 18:25:33          17.0   2020-01-13   \n",
       "8                  NaT                 NaT           NaN          NaN   \n",
       "9                  NaT                 NaT           NaN          NaN   \n",
       "10                 NaT                 NaT           NaN          NaN   \n",
       "11 2020-01-13 07:49:35 2020-01-13 08:00:47           7.0   2020-01-13   \n",
       "12                 NaT                 NaT           NaN          NaN   \n",
       "13                 NaT                 NaT           NaN          NaN   \n",
       "14 2020-01-13 08:38:52 2020-01-13 10:20:30           8.0   2020-01-13   \n",
       "15 2020-01-13 13:56:45 2020-01-13 14:46:46          13.0   2020-01-13   \n",
       "16                 NaT                 NaT           NaN          NaN   \n",
       "17                 NaT                 NaT           NaN          NaN   \n",
       "18 2020-01-13 13:40:27 2020-01-13 13:56:20          13.0   2020-01-13   \n",
       "19 2020-01-13 14:15:07 2020-01-13 14:16:28          14.0   2020-01-13   \n",
       "\n",
       "   arrival_day       trip_time next_trip_start_timestamp  next_trip_seq  \\\n",
       "0          NaN             NaT                       NaT            NaN   \n",
       "1       Monday 0 days 00:07:37       2020-01-13 14:02:56           41.0   \n",
       "2       Monday 0 days 00:07:41       2020-01-13 14:17:32           42.0   \n",
       "3       Monday 0 days 00:08:51       2020-01-13 14:49:29           43.0   \n",
       "4       Monday 0 days 00:03:34       2020-01-13 17:54:20           45.0   \n",
       "5          NaN             NaT                       NaT            NaN   \n",
       "6       Monday 0 days 00:41:20       2020-01-13 17:46:48          190.0   \n",
       "7       Monday 0 days 00:38:45       2020-01-13 18:36:26          191.0   \n",
       "8          NaN             NaT                       NaT            NaN   \n",
       "9          NaN             NaT                       NaT            NaN   \n",
       "10         NaN             NaT                       NaT            NaN   \n",
       "11      Monday 0 days 00:11:12       2020-01-13 16:05:48          905.0   \n",
       "12         NaN             NaT                       NaT            NaN   \n",
       "13         NaN             NaT                       NaT            NaN   \n",
       "14      Monday 0 days 01:41:38       2020-01-13 10:24:18          446.0   \n",
       "15      Monday 0 days 00:50:01       2020-01-13 14:51:26          449.0   \n",
       "16         NaN             NaT                       NaT            NaN   \n",
       "17         NaN             NaT                       NaT            NaN   \n",
       "18      Monday 0 days 00:15:53       2020-01-13 14:15:07          425.0   \n",
       "19      Monday 0 days 00:01:21       2020-01-13 14:24:47          426.0   \n",
       "\n",
       "        dwell_time  seq_diff  \n",
       "0              NaT       NaN  \n",
       "1  0 days 01:34:05       1.0  \n",
       "2  0 days 00:06:55       1.0  \n",
       "3  0 days 00:23:06       1.0  \n",
       "4  0 days 02:15:48       1.0  \n",
       "5              NaT       NaN  \n",
       "6  0 days 08:05:07       1.0  \n",
       "7  0 days 00:10:53       1.0  \n",
       "8              NaT       NaN  \n",
       "9              NaT       NaN  \n",
       "10             NaT       NaN  \n",
       "11 0 days 08:05:01       1.0  \n",
       "12             NaT       NaN  \n",
       "13             NaT       NaN  \n",
       "14 0 days 00:03:48       1.0  \n",
       "15 0 days 00:04:40       1.0  \n",
       "16             NaT       NaN  \n",
       "17             NaT       NaN  \n",
       "18 0 days 00:18:47       1.0  \n",
       "19 0 days 00:08:19       1.0  "
      ],
      "text/html": "<div>\n<style scoped>\n    .dataframe tbody tr th:only-of-type {\n        vertical-align: middle;\n    }\n\n    .dataframe tbody tr th {\n        vertical-align: top;\n    }\n\n    .dataframe thead th {\n        text-align: right;\n    }\n</style>\n<table border=\"1\" class=\"dataframe\">\n  <thead>\n    <tr style=\"text-align: right;\">\n      <th></th>\n      <th>seq</th>\n      <th>Lat</th>\n      <th>Lon</th>\n      <th>vin</th>\n      <th>start_timestamp</th>\n      <th>end_timestamp</th>\n      <th>arrival_hour</th>\n      <th>arrival_date</th>\n      <th>arrival_day</th>\n      <th>trip_time</th>\n      <th>next_trip_start_timestamp</th>\n      <th>next_trip_seq</th>\n      <th>dwell_time</th>\n      <th>seq_diff</th>\n    </tr>\n  </thead>\n  <tbody>\n    <tr>\n      <th>0</th>\n      <td>38</td>\n      <td>33.124920</td>\n      <td>-96.707811</td>\n      <td>0001556fa4a96efdfb0e6f9c079d2fa5</td>\n      <td>NaT</td>\n      <td>NaT</td>\n      <td>NaN</td>\n      <td>NaN</td>\n      <td>NaN</td>\n      <td>NaT</td>\n      <td>NaT</td>\n      <td>NaN</td>\n      <td>NaT</td>\n      <td>NaN</td>\n    </tr>\n    <tr>\n      <th>1</th>\n      <td>40</td>\n      <td>33.105293</td>\n      <td>-96.684018</td>\n      <td>0001556fa4a96efdfb0e6f9c079d2fa5</td>\n      <td>2020-01-13 12:21:14</td>\n      <td>2020-01-13 12:28:51</td>\n      <td>12.0</td>\n      <td>2020-01-13</td>\n      <td>Monday</td>\n      <td>0 days 00:07:37</td>\n      <td>2020-01-13 14:02:56</td>\n      <td>41.0</td>\n      <td>0 days 01:34:05</td>\n      <td>1.0</td>\n    </tr>\n    <tr>\n      <th>2</th>\n      <td>41</td>\n      <td>33.112107</td>\n      <td>-96.680864</td>\n      <td>0001556fa4a96efdfb0e6f9c079d2fa5</td>\n      <td>2020-01-13 14:02:56</td>\n      <td>2020-01-13 14:10:37</td>\n      <td>14.0</td>\n      <td>2020-01-13</td>\n      <td>Monday</td>\n      <td>0 days 00:07:41</td>\n      <td>2020-01-13 14:17:32</td>\n      <td>42.0</td>\n      <td>0 days 00:06:55</td>\n      <td>1.0</td>\n    </tr>\n    <tr>\n      <th>3</th>\n      <td>42</td>\n      <td>33.141374</td>\n      <td>-96.677020</td>\n      <td>0001556fa4a96efdfb0e6f9c079d2fa5</td>\n      <td>2020-01-13 14:17:32</td>\n      <td>2020-01-13 14:26:23</td>\n      <td>14.0</td>\n      <td>2020-01-13</td>\n      <td>Monday</td>\n      <td>0 days 00:08:51</td>\n      <td>2020-01-13 14:49:29</td>\n      <td>43.0</td>\n      <td>0 days 00:23:06</td>\n      <td>1.0</td>\n    </tr>\n    <tr>\n      <th>4</th>\n      <td>44</td>\n      <td>33.115048</td>\n      <td>-96.698311</td>\n      <td>0001556fa4a96efdfb0e6f9c079d2fa5</td>\n      <td>2020-01-13 15:34:58</td>\n      <td>2020-01-13 15:38:32</td>\n      <td>15.0</td>\n      <td>2020-01-13</td>\n      <td>Monday</td>\n      <td>0 days 00:03:34</td>\n      <td>2020-01-13 17:54:20</td>\n      <td>45.0</td>\n      <td>0 days 02:15:48</td>\n      <td>1.0</td>\n    </tr>\n    <tr>\n      <th>5</th>\n      <td>45</td>\n      <td>33.120333</td>\n      <td>-96.680777</td>\n      <td>0001556fa4a96efdfb0e6f9c079d2fa5</td>\n      <td>NaT</td>\n      <td>NaT</td>\n      <td>NaN</td>\n      <td>NaN</td>\n      <td>NaN</td>\n      <td>NaT</td>\n      <td>NaT</td>\n      <td>NaN</td>\n      <td>NaT</td>\n      <td>NaN</td>\n    </tr>\n    <tr>\n      <th>6</th>\n      <td>189</td>\n      <td>29.935532</td>\n      <td>-95.338827</td>\n      <td>00031615f0951f21287dc118a163dee3</td>\n      <td>2020-01-13 09:00:21</td>\n      <td>2020-01-13 09:41:41</td>\n      <td>9.0</td>\n      <td>2020-01-13</td>\n      <td>Monday</td>\n      <td>0 days 00:41:20</td>\n      <td>2020-01-13 17:46:48</td>\n      <td>190.0</td>\n      <td>0 days 08:05:07</td>\n      <td>1.0</td>\n    </tr>\n    <tr>\n      <th>7</th>\n      <td>190</td>\n      <td>29.975509</td>\n      <td>-95.564244</td>\n      <td>00031615f0951f21287dc118a163dee3</td>\n      <td>2020-01-13 17:46:48</td>\n      <td>2020-01-13 18:25:33</td>\n      <td>17.0</td>\n      <td>2020-01-13</td>\n      <td>Monday</td>\n      <td>0 days 00:38:45</td>\n      <td>2020-01-13 18:36:26</td>\n      <td>191.0</td>\n      <td>0 days 00:10:53</td>\n      <td>1.0</td>\n    </tr>\n    <tr>\n      <th>8</th>\n      <td>191</td>\n      <td>30.000294</td>\n      <td>-95.565431</td>\n      <td>00031615f0951f21287dc118a163dee3</td>\n      <td>NaT</td>\n      <td>NaT</td>\n      <td>NaN</td>\n      <td>NaN</td>\n      <td>NaN</td>\n      <td>NaT</td>\n      <td>NaT</td>\n      <td>NaN</td>\n      <td>NaT</td>\n      <td>NaN</td>\n    </tr>\n    <tr>\n      <th>9</th>\n      <td>733</td>\n      <td>41.492962</td>\n      <td>-81.995163</td>\n      <td>00089af9f7d3588a888379cf0ffc53cc</td>\n      <td>NaT</td>\n      <td>NaT</td>\n      <td>NaN</td>\n      <td>NaN</td>\n      <td>NaN</td>\n      <td>NaT</td>\n      <td>NaT</td>\n      <td>NaN</td>\n      <td>NaT</td>\n      <td>NaN</td>\n    </tr>\n    <tr>\n      <th>10</th>\n      <td>902</td>\n      <td>29.716431</td>\n      <td>-95.860582</td>\n      <td>000b56dd77e25953bc2df3b23cfb8737</td>\n      <td>NaT</td>\n      <td>NaT</td>\n      <td>NaN</td>\n      <td>NaN</td>\n      <td>NaN</td>\n      <td>NaT</td>\n      <td>NaT</td>\n      <td>NaN</td>\n      <td>NaT</td>\n      <td>NaN</td>\n    </tr>\n    <tr>\n      <th>11</th>\n      <td>904</td>\n      <td>29.715092</td>\n      <td>-95.835573</td>\n      <td>000b56dd77e25953bc2df3b23cfb8737</td>\n      <td>2020-01-13 07:49:35</td>\n      <td>2020-01-13 08:00:47</td>\n      <td>7.0</td>\n      <td>2020-01-13</td>\n      <td>Monday</td>\n      <td>0 days 00:11:12</td>\n      <td>2020-01-13 16:05:48</td>\n      <td>905.0</td>\n      <td>0 days 08:05:01</td>\n      <td>1.0</td>\n    </tr>\n    <tr>\n      <th>12</th>\n      <td>905</td>\n      <td>29.716828</td>\n      <td>-95.846864</td>\n      <td>000b56dd77e25953bc2df3b23cfb8737</td>\n      <td>NaT</td>\n      <td>NaT</td>\n      <td>NaN</td>\n      <td>NaN</td>\n      <td>NaN</td>\n      <td>NaT</td>\n      <td>NaT</td>\n      <td>NaN</td>\n      <td>NaT</td>\n      <td>NaN</td>\n    </tr>\n    <tr>\n      <th>13</th>\n      <td>399</td>\n      <td>40.838862</td>\n      <td>-73.821879</td>\n      <td>000bbad21f682a27a26b62b9305506cc</td>\n      <td>NaT</td>\n      <td>NaT</td>\n      <td>NaN</td>\n      <td>NaN</td>\n      <td>NaN</td>\n      <td>NaT</td>\n      <td>NaT</td>\n      <td>NaN</td>\n      <td>NaT</td>\n      <td>NaN</td>\n    </tr>\n    <tr>\n      <th>14</th>\n      <td>445</td>\n      <td>29.704962</td>\n      <td>-95.400913</td>\n      <td>000f119dfb2d5381bc8fe3bfbfc4f4a7</td>\n      <td>2020-01-13 08:38:52</td>\n      <td>2020-01-13 10:20:30</td>\n      <td>8.0</td>\n      <td>2020-01-13</td>\n      <td>Monday</td>\n      <td>0 days 01:41:38</td>\n      <td>2020-01-13 10:24:18</td>\n      <td>446.0</td>\n      <td>0 days 00:03:48</td>\n      <td>1.0</td>\n    </tr>\n    <tr>\n      <th>15</th>\n      <td>448</td>\n      <td>29.695574</td>\n      <td>-95.839052</td>\n      <td>000f119dfb2d5381bc8fe3bfbfc4f4a7</td>\n      <td>2020-01-13 13:56:45</td>\n      <td>2020-01-13 14:46:46</td>\n      <td>13.0</td>\n      <td>2020-01-13</td>\n      <td>Monday</td>\n      <td>0 days 00:50:01</td>\n      <td>2020-01-13 14:51:26</td>\n      <td>449.0</td>\n      <td>0 days 00:04:40</td>\n      <td>1.0</td>\n    </tr>\n    <tr>\n      <th>16</th>\n      <td>449</td>\n      <td>29.702766</td>\n      <td>-95.877190</td>\n      <td>000f119dfb2d5381bc8fe3bfbfc4f4a7</td>\n      <td>NaT</td>\n      <td>NaT</td>\n      <td>NaN</td>\n      <td>NaN</td>\n      <td>NaN</td>\n      <td>NaT</td>\n      <td>NaT</td>\n      <td>NaN</td>\n      <td>NaT</td>\n      <td>NaN</td>\n    </tr>\n    <tr>\n      <th>17</th>\n      <td>454</td>\n      <td>29.702805</td>\n      <td>-95.877198</td>\n      <td>000f119dfb2d5381bc8fe3bfbfc4f4a7</td>\n      <td>NaT</td>\n      <td>NaT</td>\n      <td>NaN</td>\n      <td>NaN</td>\n      <td>NaN</td>\n      <td>NaT</td>\n      <td>NaT</td>\n      <td>NaN</td>\n      <td>NaT</td>\n      <td>NaN</td>\n    </tr>\n    <tr>\n      <th>18</th>\n      <td>424</td>\n      <td>33.188041</td>\n      <td>-97.095322</td>\n      <td>000f11ab81265d703c1735d12171b460</td>\n      <td>2020-01-13 13:40:27</td>\n      <td>2020-01-13 13:56:20</td>\n      <td>13.0</td>\n      <td>2020-01-13</td>\n      <td>Monday</td>\n      <td>0 days 00:15:53</td>\n      <td>2020-01-13 14:15:07</td>\n      <td>425.0</td>\n      <td>0 days 00:18:47</td>\n      <td>1.0</td>\n    </tr>\n    <tr>\n      <th>19</th>\n      <td>425</td>\n      <td>33.184099</td>\n      <td>-97.097708</td>\n      <td>000f11ab81265d703c1735d12171b460</td>\n      <td>2020-01-13 14:15:07</td>\n      <td>2020-01-13 14:16:28</td>\n      <td>14.0</td>\n      <td>2020-01-13</td>\n      <td>Monday</td>\n      <td>0 days 00:01:21</td>\n      <td>2020-01-13 14:24:47</td>\n      <td>426.0</td>\n      <td>0 days 00:08:19</td>\n      <td>1.0</td>\n    </tr>\n  </tbody>\n</table>\n</div>"
     },
     "metadata": {},
     "execution_count": 108
    }
   ],
   "source": [
    "full_df.head(20)"
   ]
  },
  {
   "cell_type": "code",
   "execution_count": 99,
   "metadata": {},
   "outputs": [
    {
     "output_type": "execute_result",
     "data": {
      "text/plain": [
       "seq                              0\n",
       "Lat                              0\n",
       "Lon                              0\n",
       "vin                              0\n",
       "start_timestamp              18432\n",
       "end_timestamp                18432\n",
       "arrival_hour                 18432\n",
       "arrival_date                 18432\n",
       "arrival_day                  18432\n",
       "trip_time                    18432\n",
       "next_trip_start_timestamp    18432\n",
       "next_trip_seq                18432\n",
       "dwell_time                   18432\n",
       "seq_diff                     18432\n",
       "dtype: int64"
      ]
     },
     "metadata": {},
     "execution_count": 99
    }
   ],
   "source": [
    "full_df.isna().sum()"
   ]
  },
  {
   "cell_type": "code",
   "execution_count": 126,
   "metadata": {},
   "outputs": [],
   "source": [
    "full_df_clean = full_df.dropna()"
   ]
  },
  {
   "cell_type": "code",
   "execution_count": 122,
   "metadata": {},
   "outputs": [],
   "source": [
    "data = pd.read_csv(path+\"viz_df2.csv\")\n",
    "tl = [40.250580, -83.247525]\n",
    "tr = [40.251652, -82.671814]\n",
    "bl = [39.821981, -83.352838]\n",
    "br = [39.804789, -82.633243]\n",
    "data_ws = data\n",
    "data_ws = data_ws[(data_ws[\"Lat\"] < tl[0]) & (data_ws[\"Lat\"] > bl[0])]\n",
    "data_ws = data_ws[(data_ws[\"Lon\"] > tl[1]) & (data_ws[\"Lon\"] < tr[1])]"
   ]
  },
  {
   "cell_type": "code",
   "execution_count": 123,
   "metadata": {},
   "outputs": [],
   "source": [
    "db = DBSCAN(eps=0.0011, min_samples=15)\n",
    "db.fit(data_ws[[\"Lat\",\"Lon\"]])\n",
    "data_ws[\"cluster_labels\"] = db.labels_"
   ]
  },
  {
   "cell_type": "code",
   "execution_count": 128,
   "metadata": {},
   "outputs": [],
   "source": [
    "data_ws = data_ws.drop(['Unnamed: 0'], axis=1).rename(columns={\"Seq\":'seq'})"
   ]
  },
  {
   "cell_type": "code",
   "execution_count": 127,
   "metadata": {},
   "outputs": [
    {
     "output_type": "execute_result",
     "data": {
      "text/plain": [
       "   seq        Lat        Lon                               vin  \\\n",
       "1   40  33.105293 -96.684018  0001556fa4a96efdfb0e6f9c079d2fa5   \n",
       "2   41  33.112107 -96.680864  0001556fa4a96efdfb0e6f9c079d2fa5   \n",
       "3   42  33.141374 -96.677020  0001556fa4a96efdfb0e6f9c079d2fa5   \n",
       "4   44  33.115048 -96.698311  0001556fa4a96efdfb0e6f9c079d2fa5   \n",
       "6  189  29.935532 -95.338827  00031615f0951f21287dc118a163dee3   \n",
       "\n",
       "      start_timestamp       end_timestamp  arrival_hour arrival_date  \\\n",
       "1 2020-01-13 12:21:14 2020-01-13 12:28:51          12.0   2020-01-13   \n",
       "2 2020-01-13 14:02:56 2020-01-13 14:10:37          14.0   2020-01-13   \n",
       "3 2020-01-13 14:17:32 2020-01-13 14:26:23          14.0   2020-01-13   \n",
       "4 2020-01-13 15:34:58 2020-01-13 15:38:32          15.0   2020-01-13   \n",
       "6 2020-01-13 09:00:21 2020-01-13 09:41:41           9.0   2020-01-13   \n",
       "\n",
       "  arrival_day       trip_time next_trip_start_timestamp  next_trip_seq  \\\n",
       "1      Monday 0 days 00:07:37       2020-01-13 14:02:56           41.0   \n",
       "2      Monday 0 days 00:07:41       2020-01-13 14:17:32           42.0   \n",
       "3      Monday 0 days 00:08:51       2020-01-13 14:49:29           43.0   \n",
       "4      Monday 0 days 00:03:34       2020-01-13 17:54:20           45.0   \n",
       "6      Monday 0 days 00:41:20       2020-01-13 17:46:48          190.0   \n",
       "\n",
       "       dwell_time  seq_diff  \n",
       "1 0 days 01:34:05       1.0  \n",
       "2 0 days 00:06:55       1.0  \n",
       "3 0 days 00:23:06       1.0  \n",
       "4 0 days 02:15:48       1.0  \n",
       "6 0 days 08:05:07       1.0  "
      ],
      "text/html": "<div>\n<style scoped>\n    .dataframe tbody tr th:only-of-type {\n        vertical-align: middle;\n    }\n\n    .dataframe tbody tr th {\n        vertical-align: top;\n    }\n\n    .dataframe thead th {\n        text-align: right;\n    }\n</style>\n<table border=\"1\" class=\"dataframe\">\n  <thead>\n    <tr style=\"text-align: right;\">\n      <th></th>\n      <th>seq</th>\n      <th>Lat</th>\n      <th>Lon</th>\n      <th>vin</th>\n      <th>start_timestamp</th>\n      <th>end_timestamp</th>\n      <th>arrival_hour</th>\n      <th>arrival_date</th>\n      <th>arrival_day</th>\n      <th>trip_time</th>\n      <th>next_trip_start_timestamp</th>\n      <th>next_trip_seq</th>\n      <th>dwell_time</th>\n      <th>seq_diff</th>\n    </tr>\n  </thead>\n  <tbody>\n    <tr>\n      <th>1</th>\n      <td>40</td>\n      <td>33.105293</td>\n      <td>-96.684018</td>\n      <td>0001556fa4a96efdfb0e6f9c079d2fa5</td>\n      <td>2020-01-13 12:21:14</td>\n      <td>2020-01-13 12:28:51</td>\n      <td>12.0</td>\n      <td>2020-01-13</td>\n      <td>Monday</td>\n      <td>0 days 00:07:37</td>\n      <td>2020-01-13 14:02:56</td>\n      <td>41.0</td>\n      <td>0 days 01:34:05</td>\n      <td>1.0</td>\n    </tr>\n    <tr>\n      <th>2</th>\n      <td>41</td>\n      <td>33.112107</td>\n      <td>-96.680864</td>\n      <td>0001556fa4a96efdfb0e6f9c079d2fa5</td>\n      <td>2020-01-13 14:02:56</td>\n      <td>2020-01-13 14:10:37</td>\n      <td>14.0</td>\n      <td>2020-01-13</td>\n      <td>Monday</td>\n      <td>0 days 00:07:41</td>\n      <td>2020-01-13 14:17:32</td>\n      <td>42.0</td>\n      <td>0 days 00:06:55</td>\n      <td>1.0</td>\n    </tr>\n    <tr>\n      <th>3</th>\n      <td>42</td>\n      <td>33.141374</td>\n      <td>-96.677020</td>\n      <td>0001556fa4a96efdfb0e6f9c079d2fa5</td>\n      <td>2020-01-13 14:17:32</td>\n      <td>2020-01-13 14:26:23</td>\n      <td>14.0</td>\n      <td>2020-01-13</td>\n      <td>Monday</td>\n      <td>0 days 00:08:51</td>\n      <td>2020-01-13 14:49:29</td>\n      <td>43.0</td>\n      <td>0 days 00:23:06</td>\n      <td>1.0</td>\n    </tr>\n    <tr>\n      <th>4</th>\n      <td>44</td>\n      <td>33.115048</td>\n      <td>-96.698311</td>\n      <td>0001556fa4a96efdfb0e6f9c079d2fa5</td>\n      <td>2020-01-13 15:34:58</td>\n      <td>2020-01-13 15:38:32</td>\n      <td>15.0</td>\n      <td>2020-01-13</td>\n      <td>Monday</td>\n      <td>0 days 00:03:34</td>\n      <td>2020-01-13 17:54:20</td>\n      <td>45.0</td>\n      <td>0 days 02:15:48</td>\n      <td>1.0</td>\n    </tr>\n    <tr>\n      <th>6</th>\n      <td>189</td>\n      <td>29.935532</td>\n      <td>-95.338827</td>\n      <td>00031615f0951f21287dc118a163dee3</td>\n      <td>2020-01-13 09:00:21</td>\n      <td>2020-01-13 09:41:41</td>\n      <td>9.0</td>\n      <td>2020-01-13</td>\n      <td>Monday</td>\n      <td>0 days 00:41:20</td>\n      <td>2020-01-13 17:46:48</td>\n      <td>190.0</td>\n      <td>0 days 08:05:07</td>\n      <td>1.0</td>\n    </tr>\n  </tbody>\n</table>\n</div>"
     },
     "metadata": {},
     "execution_count": 127
    }
   ],
   "source": [
    "full_df_clean.head()"
   ]
  },
  {
   "cell_type": "code",
   "execution_count": 129,
   "metadata": {},
   "outputs": [],
   "source": [
    "labels_joined_df = data_ws.merge(full_df_clean, how=\"inner\", on = ['seq', 'vin'])"
   ]
  },
  {
   "cell_type": "code",
   "execution_count": 132,
   "metadata": {},
   "outputs": [],
   "source": [
    "labels_joined_df = labels_joined_df[labels_joined_df['cluster_labels'] >= 0]"
   ]
  },
  {
   "cell_type": "code",
   "execution_count": 133,
   "metadata": {},
   "outputs": [
    {
     "output_type": "execute_result",
     "data": {
      "text/plain": [
       "    seq      Lat_x      Lon_x                               vin  \\\n",
       "0   561  40.148659 -82.903959  008beb5671fb49a92dc0ef9de96979bf   \n",
       "3   570  40.148641 -82.903938  008beb5671fb49a92dc0ef9de96979bf   \n",
       "4   573  40.148644 -82.904189  008beb5671fb49a92dc0ef9de96979bf   \n",
       "5   576  40.148642 -82.903986  008beb5671fb49a92dc0ef9de96979bf   \n",
       "8   591  40.148097 -82.977143  008beb5671fb49a92dc0ef9de96979bf   \n",
       "21  392  39.949303 -83.001326  00f3381dd2f2ab78011c562fa6127df7   \n",
       "34  371  40.098324 -83.122447  01652f6c850a4ed78124a8f06af4391b   \n",
       "36  377  39.967484 -83.009619  01652f6c850a4ed78124a8f06af4391b   \n",
       "38  381  40.103479 -83.109619  01652f6c850a4ed78124a8f06af4391b   \n",
       "42  393  39.967699 -83.009320  01652f6c850a4ed78124a8f06af4391b   \n",
       "\n",
       "    cluster_labels      Lat_y      Lon_y     start_timestamp  \\\n",
       "0                0  40.148659 -82.903959 2020-01-09 19:29:29   \n",
       "3                0  40.148641 -82.903938 2020-01-11 11:03:33   \n",
       "4                0  40.148644 -82.904189 2020-01-11 13:16:06   \n",
       "5                0  40.148642 -82.903986 2020-01-11 17:17:31   \n",
       "8                1  40.148097 -82.977143 2020-01-15 09:11:56   \n",
       "21               2  39.949303 -83.001326 2020-01-14 12:30:22   \n",
       "34               3  40.098324 -83.122447 2020-01-11 13:23:23   \n",
       "36               5  39.967484 -83.009619 2020-01-12 11:19:23   \n",
       "38               4  40.103479 -83.109619 2020-01-13 09:21:04   \n",
       "42               5  39.967699 -83.009320 2020-01-16 06:44:18   \n",
       "\n",
       "         end_timestamp  arrival_hour arrival_date arrival_day       trip_time  \\\n",
       "0  2020-01-09 19:53:56          19.0   2020-01-09    Thursday 0 days 00:24:27   \n",
       "3  2020-01-11 11:05:10          11.0   2020-01-11    Saturday 0 days 00:01:37   \n",
       "4  2020-01-11 13:16:20          13.0   2020-01-11    Saturday 0 days 00:00:14   \n",
       "5  2020-01-11 17:39:49          17.0   2020-01-11    Saturday 0 days 00:22:18   \n",
       "8  2020-01-15 09:22:13           9.0   2020-01-15   Wednesday 0 days 00:10:17   \n",
       "21 2020-01-14 12:37:37          12.0   2020-01-14     Tuesday 0 days 00:07:15   \n",
       "34 2020-01-11 13:34:48          13.0   2020-01-11    Saturday 0 days 00:11:25   \n",
       "36 2020-01-12 11:26:26          11.0   2020-01-12      Sunday 0 days 00:07:03   \n",
       "38 2020-01-13 09:28:02           9.0   2020-01-13      Monday 0 days 00:06:58   \n",
       "42 2020-01-16 06:58:05           6.0   2020-01-16    Thursday 0 days 00:13:47   \n",
       "\n",
       "   next_trip_start_timestamp  next_trip_seq      dwell_time  seq_diff  \n",
       "0        2020-01-10 17:54:30          562.0 0 days 22:00:34       1.0  \n",
       "3        2020-01-11 12:05:24          571.0 0 days 01:00:14       1.0  \n",
       "4        2020-01-11 16:37:27          574.0 0 days 03:21:07       1.0  \n",
       "5        2020-01-11 17:43:30          577.0 0 days 00:03:41       1.0  \n",
       "8        2020-01-15 10:35:44          592.0 0 days 01:13:31       1.0  \n",
       "21       2020-01-14 12:59:09          393.0 0 days 00:21:32       1.0  \n",
       "34       2020-01-11 13:47:57          372.0 0 days 00:13:09       1.0  \n",
       "36       2020-01-12 14:58:08          378.0 0 days 03:31:42       1.0  \n",
       "38       2020-01-13 12:38:02          382.0 0 days 03:10:00       1.0  \n",
       "42       2020-01-16 17:59:29          394.0 0 days 11:01:24       1.0  "
      ],
      "text/html": "<div>\n<style scoped>\n    .dataframe tbody tr th:only-of-type {\n        vertical-align: middle;\n    }\n\n    .dataframe tbody tr th {\n        vertical-align: top;\n    }\n\n    .dataframe thead th {\n        text-align: right;\n    }\n</style>\n<table border=\"1\" class=\"dataframe\">\n  <thead>\n    <tr style=\"text-align: right;\">\n      <th></th>\n      <th>seq</th>\n      <th>Lat_x</th>\n      <th>Lon_x</th>\n      <th>vin</th>\n      <th>cluster_labels</th>\n      <th>Lat_y</th>\n      <th>Lon_y</th>\n      <th>start_timestamp</th>\n      <th>end_timestamp</th>\n      <th>arrival_hour</th>\n      <th>arrival_date</th>\n      <th>arrival_day</th>\n      <th>trip_time</th>\n      <th>next_trip_start_timestamp</th>\n      <th>next_trip_seq</th>\n      <th>dwell_time</th>\n      <th>seq_diff</th>\n    </tr>\n  </thead>\n  <tbody>\n    <tr>\n      <th>0</th>\n      <td>561</td>\n      <td>40.148659</td>\n      <td>-82.903959</td>\n      <td>008beb5671fb49a92dc0ef9de96979bf</td>\n      <td>0</td>\n      <td>40.148659</td>\n      <td>-82.903959</td>\n      <td>2020-01-09 19:29:29</td>\n      <td>2020-01-09 19:53:56</td>\n      <td>19.0</td>\n      <td>2020-01-09</td>\n      <td>Thursday</td>\n      <td>0 days 00:24:27</td>\n      <td>2020-01-10 17:54:30</td>\n      <td>562.0</td>\n      <td>0 days 22:00:34</td>\n      <td>1.0</td>\n    </tr>\n    <tr>\n      <th>3</th>\n      <td>570</td>\n      <td>40.148641</td>\n      <td>-82.903938</td>\n      <td>008beb5671fb49a92dc0ef9de96979bf</td>\n      <td>0</td>\n      <td>40.148641</td>\n      <td>-82.903938</td>\n      <td>2020-01-11 11:03:33</td>\n      <td>2020-01-11 11:05:10</td>\n      <td>11.0</td>\n      <td>2020-01-11</td>\n      <td>Saturday</td>\n      <td>0 days 00:01:37</td>\n      <td>2020-01-11 12:05:24</td>\n      <td>571.0</td>\n      <td>0 days 01:00:14</td>\n      <td>1.0</td>\n    </tr>\n    <tr>\n      <th>4</th>\n      <td>573</td>\n      <td>40.148644</td>\n      <td>-82.904189</td>\n      <td>008beb5671fb49a92dc0ef9de96979bf</td>\n      <td>0</td>\n      <td>40.148644</td>\n      <td>-82.904189</td>\n      <td>2020-01-11 13:16:06</td>\n      <td>2020-01-11 13:16:20</td>\n      <td>13.0</td>\n      <td>2020-01-11</td>\n      <td>Saturday</td>\n      <td>0 days 00:00:14</td>\n      <td>2020-01-11 16:37:27</td>\n      <td>574.0</td>\n      <td>0 days 03:21:07</td>\n      <td>1.0</td>\n    </tr>\n    <tr>\n      <th>5</th>\n      <td>576</td>\n      <td>40.148642</td>\n      <td>-82.903986</td>\n      <td>008beb5671fb49a92dc0ef9de96979bf</td>\n      <td>0</td>\n      <td>40.148642</td>\n      <td>-82.903986</td>\n      <td>2020-01-11 17:17:31</td>\n      <td>2020-01-11 17:39:49</td>\n      <td>17.0</td>\n      <td>2020-01-11</td>\n      <td>Saturday</td>\n      <td>0 days 00:22:18</td>\n      <td>2020-01-11 17:43:30</td>\n      <td>577.0</td>\n      <td>0 days 00:03:41</td>\n      <td>1.0</td>\n    </tr>\n    <tr>\n      <th>8</th>\n      <td>591</td>\n      <td>40.148097</td>\n      <td>-82.977143</td>\n      <td>008beb5671fb49a92dc0ef9de96979bf</td>\n      <td>1</td>\n      <td>40.148097</td>\n      <td>-82.977143</td>\n      <td>2020-01-15 09:11:56</td>\n      <td>2020-01-15 09:22:13</td>\n      <td>9.0</td>\n      <td>2020-01-15</td>\n      <td>Wednesday</td>\n      <td>0 days 00:10:17</td>\n      <td>2020-01-15 10:35:44</td>\n      <td>592.0</td>\n      <td>0 days 01:13:31</td>\n      <td>1.0</td>\n    </tr>\n    <tr>\n      <th>21</th>\n      <td>392</td>\n      <td>39.949303</td>\n      <td>-83.001326</td>\n      <td>00f3381dd2f2ab78011c562fa6127df7</td>\n      <td>2</td>\n      <td>39.949303</td>\n      <td>-83.001326</td>\n      <td>2020-01-14 12:30:22</td>\n      <td>2020-01-14 12:37:37</td>\n      <td>12.0</td>\n      <td>2020-01-14</td>\n      <td>Tuesday</td>\n      <td>0 days 00:07:15</td>\n      <td>2020-01-14 12:59:09</td>\n      <td>393.0</td>\n      <td>0 days 00:21:32</td>\n      <td>1.0</td>\n    </tr>\n    <tr>\n      <th>34</th>\n      <td>371</td>\n      <td>40.098324</td>\n      <td>-83.122447</td>\n      <td>01652f6c850a4ed78124a8f06af4391b</td>\n      <td>3</td>\n      <td>40.098324</td>\n      <td>-83.122447</td>\n      <td>2020-01-11 13:23:23</td>\n      <td>2020-01-11 13:34:48</td>\n      <td>13.0</td>\n      <td>2020-01-11</td>\n      <td>Saturday</td>\n      <td>0 days 00:11:25</td>\n      <td>2020-01-11 13:47:57</td>\n      <td>372.0</td>\n      <td>0 days 00:13:09</td>\n      <td>1.0</td>\n    </tr>\n    <tr>\n      <th>36</th>\n      <td>377</td>\n      <td>39.967484</td>\n      <td>-83.009619</td>\n      <td>01652f6c850a4ed78124a8f06af4391b</td>\n      <td>5</td>\n      <td>39.967484</td>\n      <td>-83.009619</td>\n      <td>2020-01-12 11:19:23</td>\n      <td>2020-01-12 11:26:26</td>\n      <td>11.0</td>\n      <td>2020-01-12</td>\n      <td>Sunday</td>\n      <td>0 days 00:07:03</td>\n      <td>2020-01-12 14:58:08</td>\n      <td>378.0</td>\n      <td>0 days 03:31:42</td>\n      <td>1.0</td>\n    </tr>\n    <tr>\n      <th>38</th>\n      <td>381</td>\n      <td>40.103479</td>\n      <td>-83.109619</td>\n      <td>01652f6c850a4ed78124a8f06af4391b</td>\n      <td>4</td>\n      <td>40.103479</td>\n      <td>-83.109619</td>\n      <td>2020-01-13 09:21:04</td>\n      <td>2020-01-13 09:28:02</td>\n      <td>9.0</td>\n      <td>2020-01-13</td>\n      <td>Monday</td>\n      <td>0 days 00:06:58</td>\n      <td>2020-01-13 12:38:02</td>\n      <td>382.0</td>\n      <td>0 days 03:10:00</td>\n      <td>1.0</td>\n    </tr>\n    <tr>\n      <th>42</th>\n      <td>393</td>\n      <td>39.967699</td>\n      <td>-83.009320</td>\n      <td>01652f6c850a4ed78124a8f06af4391b</td>\n      <td>5</td>\n      <td>39.967699</td>\n      <td>-83.009320</td>\n      <td>2020-01-16 06:44:18</td>\n      <td>2020-01-16 06:58:05</td>\n      <td>6.0</td>\n      <td>2020-01-16</td>\n      <td>Thursday</td>\n      <td>0 days 00:13:47</td>\n      <td>2020-01-16 17:59:29</td>\n      <td>394.0</td>\n      <td>0 days 11:01:24</td>\n      <td>1.0</td>\n    </tr>\n  </tbody>\n</table>\n</div>"
     },
     "metadata": {},
     "execution_count": 133
    }
   ],
   "source": [
    "labels_joined_df.head(10)"
   ]
  },
  {
   "cell_type": "code",
   "execution_count": 134,
   "metadata": {},
   "outputs": [],
   "source": [
    "labels_joined_df.to_csv(\"labeled_trip_data.csv\")"
   ]
  }
 ]
}